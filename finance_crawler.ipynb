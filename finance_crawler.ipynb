{
 "cells": [
  {
   "cell_type": "code",
   "execution_count": 59,
   "metadata": {},
   "outputs": [],
   "source": [
    "import requests\n",
    "from bs4 import BeautifulSoup\n",
    "import pandas as pd\n",
    "import numpy as np\n",
    "from lxml import html\n",
    "\n",
    "headers = {\n",
    "  'user-agent': 'Mozilla/5.0 (Macintosh; Intel Mac OS X 10_14_6) AppleWebKit/537.36 (KHTML, like Gecko) Chrome/84.0.4147.105 Safari/537.36'  \n",
    "}"
   ]
  },
  {
   "cell_type": "code",
   "execution_count": 60,
   "metadata": {},
   "outputs": [],
   "source": [
    "def get_cash_dividend_payouts( stock_id, \n",
    "                               year_to_check=5):\n",
    "    res = requests.get(\"https://histock.tw/stock/{}/%E9%99%A4%E6%AC%8A%E9%99%A4%E6%81%AF\".format(stock_id), headers = headers)\n",
    "    res.encoding = 'utf-8'\n",
    "    \n",
    "    soup = BeautifulSoup(res.text, 'lxml')\n",
    "    data = soup.select_one(\"table\", class_=\"tb-outline\")\n",
    "\n",
    "    dfs = pd.read_html(data.prettify())\n",
    "\n",
    "    df = dfs[0]\n",
    "    df = df[1:]\n",
    "    \n",
    "    cash_dividend_payouts = df[\"現金股利\"][:year_to_check].astype('float')\n",
    "    return list(cash_dividend_payouts)"
   ]
  },
  {
   "cell_type": "code",
   "execution_count": 61,
   "metadata": {},
   "outputs": [],
   "source": [
    "def get_ROEs( stock_id, \n",
    "              year_to_check=5):\n",
    "    \n",
    "    res = requests.get(\"https://histock.tw/stock/financial.aspx?no={}&t=3&st=2&q=3\".format(stock_id), headers = headers)\n",
    "    res.encoding = 'utf-8'\n",
    "\n",
    "    soup = BeautifulSoup(res.text, 'lxml')\n",
    "    data = soup.select_one(\"table\", class_=\"tb-outline\")\n",
    "\n",
    "    dfs = pd.read_html(data.prettify())\n",
    "\n",
    "    df = dfs[0]\n",
    "    ROEs = [float(ROE.strip('%')) for ROE in df[\"年度ROE\"][:year_to_check]]\n",
    "    return ROEs"
   ]
  },
  {
   "cell_type": "code",
   "execution_count": 62,
   "metadata": {},
   "outputs": [],
   "source": [
    "def get_PEratios( stock_id,\n",
    "                  year_to_check=20):\n",
    "    \n",
    "    res = requests.get(\"https://histock.tw/stock/{}/%E6%9C%AC%E7%9B%8A%E6%AF%94\".format(stock_id), headers = headers)\n",
    "    res.encoding = 'utf-8'\n",
    "\n",
    "    soup = BeautifulSoup(res.text, 'lxml')\n",
    "    data = soup.select_one(\"table\", class_=\"tb-outline\")\n",
    "\n",
    "    dfs = pd.read_html(data.prettify())\n",
    "\n",
    "    df = dfs[0]\n",
    "    df = df[1:]\n",
    "    \n",
    "    PEratio_cols = [col for col in df.columns if '本益比' in col]\n",
    "    PEratios = []\n",
    "    for col in PEratio_cols:\n",
    "        PEratios += list(df[col])\n",
    "\n",
    "    return PEratios[:year_to_check]"
   ]
  },
  {
   "cell_type": "code",
   "execution_count": 63,
   "metadata": {},
   "outputs": [],
   "source": [
    "def get_prev_net_val_per_share( stock_id, \n",
    "                                prev_year=\"2019\"):\n",
    "\n",
    "    res = requests.get(\"https://histock.tw/stock/{}/%E6%AF%8F%E8%82%A1%E6%B7%A8%E5%80%BC\".format(stock_id), headers = headers)\n",
    "    res.encoding = 'utf-8'\n",
    "\n",
    "    soup = BeautifulSoup(res.text, 'lxml')\n",
    "    data = soup.select_one(\"table\", class_=\"tb-outline\")\n",
    "    dfs = pd.read_html(data.prettify())\n",
    "\n",
    "    df = dfs[0]\n",
    "\n",
    "    prev_net_val_per_share = df.iloc[3][prev_year]\n",
    "    return prev_net_val_per_share"
   ]
  },
  {
   "cell_type": "code",
   "execution_count": 64,
   "metadata": {},
   "outputs": [],
   "source": [
    "def get_EPSs( stock_id, \n",
    "              year_to_check=5):\n",
    "    \n",
    "    res = requests.get(\"https://histock.tw/stock/{}/%E9%99%A4%E6%AC%8A%E9%99%A4%E6%81%AF\".format(stock_id), headers = headers)\n",
    "    res.encoding = 'utf-8'\n",
    "    \n",
    "    soup = BeautifulSoup(res.text, 'lxml')\n",
    "    data = soup.select_one(\"table\", class_=\"tb-outline\")\n",
    "\n",
    "    dfs = pd.read_html(data.prettify())\n",
    "\n",
    "    df = dfs[0]\n",
    "    df = df[1:]\n",
    "\n",
    "    EPSs = df[\"EPS\"][:year_to_check].astype('float')\n",
    "    return list(EPSs)"
   ]
  },
  {
   "cell_type": "code",
   "execution_count": 65,
   "metadata": {},
   "outputs": [],
   "source": [
    "def getCompanyAttrs(stock_id):\n",
    "    res = requests.get(\"https://histock.tw/stock/financial.aspx?no={}\".format(stock_id), headers = headers)\n",
    "    res.encoding = 'utf-8'\n",
    "    tree = html.fromstring(res.text)\n",
    "    company_name = tree.xpath('//*[@id=\"form1\"]/div[4]/div[4]/div/div[1]/div[2]/div[1]/div/h3/a')[0].text\n",
    "\n",
    "    cur_price = tree.xpath('//*[@id=\"CPHB1_Price1_lbTPrice\"]/a/span')[0].text\n",
    "\n",
    "    volume = tree.xpath('//*[@id=\"CPHB1_Price1_lbTVolume\"]/span')[0].text\n",
    "    attr = tree.xpath('//*[@id=\"CPHB1_Price1_lbStockClass\"]')[0].text.split(' ')\n",
    "    stock_type = attr[0]\n",
    "    industry = attr[1]\n",
    "    \n",
    "    return company_name, cur_price, volume, stock_type, industry"
   ]
  },
  {
   "cell_type": "code",
   "execution_count": 69,
   "metadata": {},
   "outputs": [],
   "source": [
    "def getBuyPrice(cur_dividend_payout, \n",
    "                sell_price, \n",
    "                ror, \n",
    "                year_to_hold,\n",
    "                display_log=False):\n",
    "    \n",
    "    buy_price = 0\n",
    "    for year in range(1, year_to_hold+1):\n",
    "        if year == year_to_hold:\n",
    "            buy_price += (cur_dividend_payout + sell_price) / ((1 + ror) ** year )\n",
    "        else: \n",
    "            buy_price += cur_dividend_payout / ((1 + ror) ** year )\n",
    "        \n",
    "        if display_log:\n",
    "            print (\"year {} => buy_price: {:.2f}\".format(year, buy_price))\n",
    "    \n",
    "    if display_log:\n",
    "        print (\"buy_price: {:.2f}\\n\".format(buy_price))\n",
    "    \n",
    "    return buy_price"
   ]
  },
  {
   "cell_type": "code",
   "execution_count": 74,
   "metadata": {},
   "outputs": [],
   "source": [
    "def analyzeStock(stock_id,    \n",
    "                 year_to_hold = 8,\n",
    "                 prev_year=\"2019\",\n",
    "                 max_PEratio=12, \n",
    "                 verbose = 0 ):\n",
    "                 \n",
    "    cash_dividend_payouts = get_cash_dividend_payouts( stock_id, year_to_check=5 )\n",
    "    EPSs = get_EPSs( stock_id, year_to_check=5 )\n",
    "    ROEs = get_ROEs( stock_id, year_to_check=5 )\n",
    "    PEratios = get_PEratios( stock_id, year_to_check=20 )\n",
    "    prev_net_val_per_share = get_prev_net_val_per_share( stock_id, prev_year )\n",
    "    dividend_payout_ratios = np.array(cash_dividend_payouts) / np.array(EPSs)\n",
    "    \n",
    "    exptect_ROE = np.mean(ROEs) / 100 \n",
    "    exptect_dividend_payout_ratio = np.mean(dividend_payout_ratios) \n",
    "\n",
    "    \n",
    "    prev_EPS = EPSs[-1]\n",
    "    prev_dividend_payout = cash_dividend_payouts[-1]\n",
    "    cur_net_val_per_share = prev_net_val_per_share + (prev_EPS - prev_dividend_payout)\n",
    "\n",
    "    cur_EPS = exptect_ROE * cur_net_val_per_share\n",
    "\n",
    "    cur_dividend_payout = cur_EPS * exptect_dividend_payout_ratio\n",
    "\n",
    "    EPS_8th = exptect_ROE * prev_net_val_per_share\n",
    "\n",
    "    expect_PEratio = np.mean(PEratios)\n",
    "    expect_PEratio = min( expect_PEratio, max_PEratio )\n",
    "\n",
    "    sell_price = EPS_8th * expect_PEratio\n",
    "    \n",
    "    if verbose >= 1:\n",
    "        print ('{:>36}  {}'.format(\"stock id\", stock_id ))\n",
    "        print ('{:>36}  {:>4.2f} (year)'.format(\"exptect_ROE\", exptect_ROE ))\n",
    "        print ('{:>36}  {:>4.2f}'.format(\"exptect_dividend_payout_ratio\", exptect_dividend_payout_ratio ))\n",
    "        print ('{:>36}  {:>4.2f}'.format(\"cur_net_val_per_share (accumulated)\", cur_net_val_per_share ))\n",
    "        print ('{:>36}  {:>4.2f}'.format(\"cur_EPS\", cur_EPS ))\n",
    "        print ('{:>36}  {:>4.2f}'.format(\"cur_dividend_payout\", cur_dividend_payout ))\n",
    "        print ('{:>36}  {:>4.2f}'.format(\"EPS_8th\", EPS_8th ))\n",
    "        print ('{:>36}  {:>4.2f}'.format(\"expect_PEratio\", expect_PEratio ))\n",
    "        print ('{:>36}  {:>4.2f}\\n'.format(\"sell_price\", sell_price ))    \n",
    "    \n",
    "    \n",
    "    buy_price_ror10 = getBuyPrice( cur_dividend_payout, sell_price, 0.10, year_to_hold, display_log=verboe>=2 )\n",
    "    buy_price_ror15 = getBuyPrice( cur_dividend_payout, sell_price, 0.15, year_to_hold, display_log=verboe>=2 )\n",
    "\n",
    "    company_name, cur_price, volume, stock_type, industry = getCompanyAttrs(stock_id)\n",
    "    \n",
    "    return buy_price_ror10, buy_price_ror15, sell_price, company_name, cur_price, volume, stock_type, industry"
   ]
  },
  {
   "cell_type": "code",
   "execution_count": 75,
   "metadata": {},
   "outputs": [
    {
     "name": "stdout",
     "output_type": "stream",
     "text": [
      "fail stock id: 2904\n",
      "fail stock id: 3567\n"
     ]
    }
   ],
   "source": [
    "buy_prices_ror10 = []\n",
    "buy_prices_ror15 = []\n",
    "sell_prices = []\n",
    "company_names = []\n",
    "cur_prices = []\n",
    "volumes = []\n",
    "stock_types = []\n",
    "industrys = []\n",
    "stock_ids = [2904, 3567]\n",
    "\n",
    "for stock_id in stock_ids:\n",
    "    \n",
    "    try:\n",
    "        buy_price_ror10, buy_price_ror15, sell_price, company_name, cur_price, volume, stock_type, industry = \\\n",
    "            analyzeStock(stock_id, verbose=0)\n",
    "\n",
    "        buy_prices_ror10.append(buy_price_ror10)\n",
    "        buy_prices_ror15.append(buy_price_ror15)\n",
    "        sell_prices.append(sell_price)\n",
    "        company_names.append(company_name)\n",
    "        cur_prices.append(cur_price)\n",
    "        volumes.append(volume)\n",
    "        stock_types.append(stock_type)\n",
    "        industrys.append(industry)\n",
    "    except:\n",
    "        print (\"fail stock id:\", stock_id)"
   ]
  },
  {
   "cell_type": "code",
   "execution_count": 76,
   "metadata": {},
   "outputs": [
    {
     "ename": "ValueError",
     "evalue": "arrays must all be same length",
     "output_type": "error",
     "traceback": [
      "\u001b[0;31m---------------------------------------------------------------------------\u001b[0m",
      "\u001b[0;31mValueError\u001b[0m                                Traceback (most recent call last)",
      "\u001b[0;32m<ipython-input-76-9c9bde7cf9ee>\u001b[0m in \u001b[0;36m<module>\u001b[0;34m\u001b[0m\n\u001b[1;32m     11\u001b[0m     \u001b[0;34m\"現價\"\u001b[0m\u001b[0;34m:\u001b[0m \u001b[0mcur_prices\u001b[0m\u001b[0;34m,\u001b[0m\u001b[0;34m\u001b[0m\u001b[0;34m\u001b[0m\u001b[0m\n\u001b[1;32m     12\u001b[0m }\n\u001b[0;32m---> 13\u001b[0;31m \u001b[0mdf\u001b[0m \u001b[0;34m=\u001b[0m \u001b[0mpd\u001b[0m\u001b[0;34m.\u001b[0m\u001b[0mDataFrame\u001b[0m\u001b[0;34m(\u001b[0m\u001b[0mdata\u001b[0m\u001b[0;34m)\u001b[0m\u001b[0;34m\u001b[0m\u001b[0;34m\u001b[0m\u001b[0m\n\u001b[0m\u001b[1;32m     14\u001b[0m \u001b[0mdf\u001b[0m\u001b[0;34m\u001b[0m\u001b[0;34m\u001b[0m\u001b[0m\n",
      "\u001b[0;32m~/pyEnv/crawler/lib/python3.7/site-packages/pandas/core/frame.py\u001b[0m in \u001b[0;36m__init__\u001b[0;34m(self, data, index, columns, dtype, copy)\u001b[0m\n\u001b[1;32m    465\u001b[0m \u001b[0;34m\u001b[0m\u001b[0m\n\u001b[1;32m    466\u001b[0m         \u001b[0;32melif\u001b[0m \u001b[0misinstance\u001b[0m\u001b[0;34m(\u001b[0m\u001b[0mdata\u001b[0m\u001b[0;34m,\u001b[0m \u001b[0mdict\u001b[0m\u001b[0;34m)\u001b[0m\u001b[0;34m:\u001b[0m\u001b[0;34m\u001b[0m\u001b[0;34m\u001b[0m\u001b[0m\n\u001b[0;32m--> 467\u001b[0;31m             \u001b[0mmgr\u001b[0m \u001b[0;34m=\u001b[0m \u001b[0minit_dict\u001b[0m\u001b[0;34m(\u001b[0m\u001b[0mdata\u001b[0m\u001b[0;34m,\u001b[0m \u001b[0mindex\u001b[0m\u001b[0;34m,\u001b[0m \u001b[0mcolumns\u001b[0m\u001b[0;34m,\u001b[0m \u001b[0mdtype\u001b[0m\u001b[0;34m=\u001b[0m\u001b[0mdtype\u001b[0m\u001b[0;34m)\u001b[0m\u001b[0;34m\u001b[0m\u001b[0;34m\u001b[0m\u001b[0m\n\u001b[0m\u001b[1;32m    468\u001b[0m         \u001b[0;32melif\u001b[0m \u001b[0misinstance\u001b[0m\u001b[0;34m(\u001b[0m\u001b[0mdata\u001b[0m\u001b[0;34m,\u001b[0m \u001b[0mma\u001b[0m\u001b[0;34m.\u001b[0m\u001b[0mMaskedArray\u001b[0m\u001b[0;34m)\u001b[0m\u001b[0;34m:\u001b[0m\u001b[0;34m\u001b[0m\u001b[0;34m\u001b[0m\u001b[0m\n\u001b[1;32m    469\u001b[0m             \u001b[0;32mimport\u001b[0m \u001b[0mnumpy\u001b[0m\u001b[0;34m.\u001b[0m\u001b[0mma\u001b[0m\u001b[0;34m.\u001b[0m\u001b[0mmrecords\u001b[0m \u001b[0;32mas\u001b[0m \u001b[0mmrecords\u001b[0m\u001b[0;34m\u001b[0m\u001b[0;34m\u001b[0m\u001b[0m\n",
      "\u001b[0;32m~/pyEnv/crawler/lib/python3.7/site-packages/pandas/core/internals/construction.py\u001b[0m in \u001b[0;36minit_dict\u001b[0;34m(data, index, columns, dtype)\u001b[0m\n\u001b[1;32m    281\u001b[0m             \u001b[0marr\u001b[0m \u001b[0;32mif\u001b[0m \u001b[0;32mnot\u001b[0m \u001b[0mis_datetime64tz_dtype\u001b[0m\u001b[0;34m(\u001b[0m\u001b[0marr\u001b[0m\u001b[0;34m)\u001b[0m \u001b[0;32melse\u001b[0m \u001b[0marr\u001b[0m\u001b[0;34m.\u001b[0m\u001b[0mcopy\u001b[0m\u001b[0;34m(\u001b[0m\u001b[0;34m)\u001b[0m \u001b[0;32mfor\u001b[0m \u001b[0marr\u001b[0m \u001b[0;32min\u001b[0m \u001b[0marrays\u001b[0m\u001b[0;34m\u001b[0m\u001b[0;34m\u001b[0m\u001b[0m\n\u001b[1;32m    282\u001b[0m         ]\n\u001b[0;32m--> 283\u001b[0;31m     \u001b[0;32mreturn\u001b[0m \u001b[0marrays_to_mgr\u001b[0m\u001b[0;34m(\u001b[0m\u001b[0marrays\u001b[0m\u001b[0;34m,\u001b[0m \u001b[0mdata_names\u001b[0m\u001b[0;34m,\u001b[0m \u001b[0mindex\u001b[0m\u001b[0;34m,\u001b[0m \u001b[0mcolumns\u001b[0m\u001b[0;34m,\u001b[0m \u001b[0mdtype\u001b[0m\u001b[0;34m=\u001b[0m\u001b[0mdtype\u001b[0m\u001b[0;34m)\u001b[0m\u001b[0;34m\u001b[0m\u001b[0;34m\u001b[0m\u001b[0m\n\u001b[0m\u001b[1;32m    284\u001b[0m \u001b[0;34m\u001b[0m\u001b[0m\n\u001b[1;32m    285\u001b[0m \u001b[0;34m\u001b[0m\u001b[0m\n",
      "\u001b[0;32m~/pyEnv/crawler/lib/python3.7/site-packages/pandas/core/internals/construction.py\u001b[0m in \u001b[0;36marrays_to_mgr\u001b[0;34m(arrays, arr_names, index, columns, dtype, verify_integrity)\u001b[0m\n\u001b[1;32m     76\u001b[0m         \u001b[0;31m# figure out the index, if necessary\u001b[0m\u001b[0;34m\u001b[0m\u001b[0;34m\u001b[0m\u001b[0;34m\u001b[0m\u001b[0m\n\u001b[1;32m     77\u001b[0m         \u001b[0;32mif\u001b[0m \u001b[0mindex\u001b[0m \u001b[0;32mis\u001b[0m \u001b[0;32mNone\u001b[0m\u001b[0;34m:\u001b[0m\u001b[0;34m\u001b[0m\u001b[0;34m\u001b[0m\u001b[0m\n\u001b[0;32m---> 78\u001b[0;31m             \u001b[0mindex\u001b[0m \u001b[0;34m=\u001b[0m \u001b[0mextract_index\u001b[0m\u001b[0;34m(\u001b[0m\u001b[0marrays\u001b[0m\u001b[0;34m)\u001b[0m\u001b[0;34m\u001b[0m\u001b[0;34m\u001b[0m\u001b[0m\n\u001b[0m\u001b[1;32m     79\u001b[0m         \u001b[0;32melse\u001b[0m\u001b[0;34m:\u001b[0m\u001b[0;34m\u001b[0m\u001b[0;34m\u001b[0m\u001b[0m\n\u001b[1;32m     80\u001b[0m             \u001b[0mindex\u001b[0m \u001b[0;34m=\u001b[0m \u001b[0mensure_index\u001b[0m\u001b[0;34m(\u001b[0m\u001b[0mindex\u001b[0m\u001b[0;34m)\u001b[0m\u001b[0;34m\u001b[0m\u001b[0;34m\u001b[0m\u001b[0m\n",
      "\u001b[0;32m~/pyEnv/crawler/lib/python3.7/site-packages/pandas/core/internals/construction.py\u001b[0m in \u001b[0;36mextract_index\u001b[0;34m(data)\u001b[0m\n\u001b[1;32m    395\u001b[0m             \u001b[0mlengths\u001b[0m \u001b[0;34m=\u001b[0m \u001b[0mlist\u001b[0m\u001b[0;34m(\u001b[0m\u001b[0mset\u001b[0m\u001b[0;34m(\u001b[0m\u001b[0mraw_lengths\u001b[0m\u001b[0;34m)\u001b[0m\u001b[0;34m)\u001b[0m\u001b[0;34m\u001b[0m\u001b[0;34m\u001b[0m\u001b[0m\n\u001b[1;32m    396\u001b[0m             \u001b[0;32mif\u001b[0m \u001b[0mlen\u001b[0m\u001b[0;34m(\u001b[0m\u001b[0mlengths\u001b[0m\u001b[0;34m)\u001b[0m \u001b[0;34m>\u001b[0m \u001b[0;36m1\u001b[0m\u001b[0;34m:\u001b[0m\u001b[0;34m\u001b[0m\u001b[0;34m\u001b[0m\u001b[0m\n\u001b[0;32m--> 397\u001b[0;31m                 \u001b[0;32mraise\u001b[0m \u001b[0mValueError\u001b[0m\u001b[0;34m(\u001b[0m\u001b[0;34m\"arrays must all be same length\"\u001b[0m\u001b[0;34m)\u001b[0m\u001b[0;34m\u001b[0m\u001b[0;34m\u001b[0m\u001b[0m\n\u001b[0m\u001b[1;32m    398\u001b[0m \u001b[0;34m\u001b[0m\u001b[0m\n\u001b[1;32m    399\u001b[0m             \u001b[0;32mif\u001b[0m \u001b[0mhave_dicts\u001b[0m\u001b[0;34m:\u001b[0m\u001b[0;34m\u001b[0m\u001b[0;34m\u001b[0m\u001b[0m\n",
      "\u001b[0;31mValueError\u001b[0m: arrays must all be same length"
     ]
    }
   ],
   "source": [
    "pd.options.display.float_format = \"{:,.2f}\".format\n",
    "data = {\n",
    "    \"id\": stock_ids,\n",
    "    \"公司\": company_names,\n",
    "    \"種類\": stock_types,\n",
    "    \"產業\": industrys,\n",
    "    \"成交量\": volumes,\n",
    "    \"買入價 (ror=10%)\": buy_prices_ror10,\n",
    "    \"買入價 (ror=15%)\": buy_prices_ror15,\n",
    "    \"賣出價\": sell_prices,\n",
    "    \"現價\": cur_prices,\n",
    "}\n",
    "df = pd.DataFrame(data) \n",
    "df"
   ]
  },
  {
   "cell_type": "code",
   "execution_count": null,
   "metadata": {},
   "outputs": [],
   "source": []
  }
 ],
 "metadata": {
  "kernelspec": {
   "display_name": "Python 3",
   "language": "python",
   "name": "python3"
  },
  "language_info": {
   "codemirror_mode": {
    "name": "ipython",
    "version": 3
   },
   "file_extension": ".py",
   "mimetype": "text/x-python",
   "name": "python",
   "nbconvert_exporter": "python",
   "pygments_lexer": "ipython3",
   "version": "3.7.3"
  }
 },
 "nbformat": 4,
 "nbformat_minor": 4
}
