{
 "cells": [
  {
   "cell_type": "code",
   "execution_count": 183,
   "metadata": {},
   "outputs": [],
   "source": [
    "import requests\n",
    "from bs4 import BeautifulSoup\n",
    "import pandas\n",
    "import numpy as np\n",
    "\n",
    "headers = {\n",
    "  'user-agent': 'Mozilla/5.0 (Macintosh; Intel Mac OS X 10_14_6) AppleWebKit/537.36 (KHTML, like Gecko) Chrome/84.0.4147.105 Safari/537.36'  \n",
    "}"
   ]
  },
  {
   "cell_type": "code",
   "execution_count": 260,
   "metadata": {},
   "outputs": [],
   "source": [
    "stock_id = 6216"
   ]
  },
  {
   "cell_type": "code",
   "execution_count": 261,
   "metadata": {},
   "outputs": [],
   "source": [
    "def get_cash_dividend_payouts( stock_id, \n",
    "                               year_to_check=5):\n",
    "    res = requests.get(\"https://histock.tw/stock/{}/%E9%99%A4%E6%AC%8A%E9%99%A4%E6%81%AF\".format(stock_id), headers = headers)\n",
    "    res.encoding = 'utf-8'\n",
    "    \n",
    "    soup = BeautifulSoup(res.text, 'lxml')\n",
    "    data = soup.select_one(\"table\", class_=\"tb-outline\")\n",
    "\n",
    "    dfs = pandas.read_html(data.prettify())\n",
    "\n",
    "    df = dfs[0]\n",
    "    df = df[1:]\n",
    "    \n",
    "    cash_dividend_payouts = df[\"現金股利\"][:year_to_check].astype('float')\n",
    "    return list(cash_dividend_payouts)"
   ]
  },
  {
   "cell_type": "code",
   "execution_count": 262,
   "metadata": {},
   "outputs": [],
   "source": [
    "def get_ROEs( stock_id, \n",
    "              year_to_check=5):\n",
    "    \n",
    "    res = requests.get(\"https://histock.tw/stock/financial.aspx?no={}&t=3&st=2&q=3\".format(stock_id), headers = headers)\n",
    "    res.encoding = 'utf-8'\n",
    "\n",
    "    soup = BeautifulSoup(res.text, 'lxml')\n",
    "    data = soup.select_one(\"table\", class_=\"tb-outline\")\n",
    "\n",
    "    dfs = pandas.read_html(data.prettify())\n",
    "\n",
    "    df = dfs[0]\n",
    "    ROEs = [float(ROE.strip('%')) for ROE in df[\"年度ROE\"][:year_to_check]]\n",
    "    return ROEs"
   ]
  },
  {
   "cell_type": "code",
   "execution_count": 263,
   "metadata": {},
   "outputs": [],
   "source": [
    "def get_PEratios( stock_id,\n",
    "                  year_to_check=20):\n",
    "    \n",
    "    res = requests.get(\"https://histock.tw/stock/{}/%E6%9C%AC%E7%9B%8A%E6%AF%94\".format(stock_id), headers = headers)\n",
    "    res.encoding = 'utf-8'\n",
    "\n",
    "    soup = BeautifulSoup(res.text, 'lxml')\n",
    "    data = soup.select_one(\"table\", class_=\"tb-outline\")\n",
    "\n",
    "    dfs = pandas.read_html(data.prettify())\n",
    "\n",
    "    df = dfs[0]\n",
    "    df = df[1:]\n",
    "    \n",
    "    PEratio_cols = [col for col in df.columns if '本益比' in col]\n",
    "    PEratios = []\n",
    "    for col in PEratio_cols:\n",
    "        PEratios += list(df[col])\n",
    "\n",
    "    return PEratios[:year_to_check]"
   ]
  },
  {
   "cell_type": "code",
   "execution_count": 264,
   "metadata": {},
   "outputs": [],
   "source": [
    "def get_prev_net_val_per_share( stock_id, \n",
    "                                prev_year=\"2019\"):\n",
    "\n",
    "    res = requests.get(\"https://histock.tw/stock/{}/%E6%AF%8F%E8%82%A1%E6%B7%A8%E5%80%BC\".format(stock_id), headers = headers)\n",
    "    res.encoding = 'utf-8'\n",
    "\n",
    "    soup = BeautifulSoup(res.text, 'lxml')\n",
    "    data = soup.select_one(\"table\", class_=\"tb-outline\")\n",
    "    dfs = pandas.read_html(data.prettify())\n",
    "\n",
    "    df = dfs[0]\n",
    "\n",
    "    prev_net_val_per_share = df.iloc[3][prev_year]\n",
    "    return prev_net_val_per_share"
   ]
  },
  {
   "cell_type": "code",
   "execution_count": 265,
   "metadata": {},
   "outputs": [],
   "source": [
    "def get_EPSs( stock_id, \n",
    "              year_to_check=5):\n",
    "    \n",
    "    res = requests.get(\"https://histock.tw/stock/{}/%E9%99%A4%E6%AC%8A%E9%99%A4%E6%81%AF\".format(stock_id), headers = headers)\n",
    "    res.encoding = 'utf-8'\n",
    "    \n",
    "    soup = BeautifulSoup(res.text, 'lxml')\n",
    "    data = soup.select_one(\"table\", class_=\"tb-outline\")\n",
    "\n",
    "    dfs = pandas.read_html(data.prettify())\n",
    "\n",
    "    df = dfs[0]\n",
    "    df = df[1:]\n",
    "\n",
    "    EPSs = df[\"EPS\"][:year_to_check].astype('float')\n",
    "    return list(EPSs)"
   ]
  },
  {
   "cell_type": "code",
   "execution_count": 266,
   "metadata": {},
   "outputs": [],
   "source": [
    "cash_dividend_payouts = get_cash_dividend_payouts( stock_id, year_to_check=5 )\n",
    "EPSs = get_EPSs( stock_id, year_to_check=5 )\n",
    "ROEs = get_ROEs( stock_id, year_to_check=5 )\n",
    "PEratios = get_PEratios( stock_id, year_to_check=20 )\n",
    "prev_net_val_per_share = get_prev_net_val_per_share( stock_id, prev_year=\"2019\" )\n",
    "dividend_payout_ratios = np.array(cash_dividend_payouts) / np.array(EPSs)"
   ]
  },
  {
   "cell_type": "code",
   "execution_count": 267,
   "metadata": {},
   "outputs": [
    {
     "name": "stdout",
     "output_type": "stream",
     "text": [
      "[1.87, 1.98, 2.06, 2.64, 2.62]\n",
      "[1.8, 2.28, 2.38, 3.07, 2.99]\n",
      "[10.09, 12.91, 13.67, 17.38, 17.48]\n",
      "[17.48, 17.79, 14.84, 15.11, 14.78, 15.48, 13.71, 14.07, 14.12, 14.43, 14.38, 14.79, 14.74, 14.08, 13.86, 13.74, 12.79, 12.83, 11.79, 11.5]\n",
      "[1.03888889 0.86842105 0.86554622 0.85993485 0.87625418]\n",
      "17.88\n"
     ]
    }
   ],
   "source": [
    "# cash_dividend_payouts = np.array()\n",
    "print (cash_dividend_payouts)\n",
    "print (EPSs)\n",
    "print (ROEs)\n",
    "print (PEratios)\n",
    "print (dividend_payout_ratios)\n",
    "print (prev_net_val_per_share)"
   ]
  },
  {
   "cell_type": "code",
   "execution_count": 268,
   "metadata": {},
   "outputs": [
    {
     "name": "stdout",
     "output_type": "stream",
     "text": [
      "                         exptect_ROE  0.14 (year)\n",
      "       exptect_dividend_payout_ratio  0.90\n",
      " cur_net_val_per_share (accumulated)  18.25\n",
      "                             cur_EPS  2.61\n",
      "                 cur_dividend_payout  2.35\n",
      "                             EPS_8th  2.56\n",
      "                      expect_PEratio  12.00\n",
      "                          sell_price  30.69\n"
     ]
    }
   ],
   "source": [
    "exptect_ROE = np.mean(ROEs) / 100 \n",
    "print ('{:>36}  {:>4.2f} (year)'.format(\"exptect_ROE\", exptect_ROE ))\n",
    "\n",
    "exptect_dividend_payout_ratio = np.mean(dividend_payout_ratios) \n",
    "print ('{:>36}  {:>4.2f}'.format(\"exptect_dividend_payout_ratio\", exptect_dividend_payout_ratio ))\n",
    "\n",
    "prev_EPS = EPSs[-1]\n",
    "prev_dividend_payout = cash_dividend_payouts[-1]\n",
    "cur_net_val_per_share = prev_net_val_per_share + (prev_EPS - prev_dividend_payout)\n",
    "print ('{:>36}  {:>4.2f}'.format(\"cur_net_val_per_share (accumulated)\", cur_net_val_per_share ))\n",
    "\n",
    "cur_EPS = exptect_ROE * cur_net_val_per_share\n",
    "print ('{:>36}  {:>4.2f}'.format(\"cur_EPS\", cur_EPS ))\n",
    "\n",
    "cur_dividend_payout = cur_EPS * exptect_dividend_payout_ratio\n",
    "print ('{:>36}  {:>4.2f}'.format(\"cur_dividend_payout\", cur_dividend_payout ))\n",
    "\n",
    "EPS_8th = exptect_ROE * prev_net_val_per_share\n",
    "print ('{:>36}  {:>4.2f}'.format(\"EPS_8th\", EPS_8th ))\n",
    "\n",
    "expect_PEratio = np.mean(PEratios)\n",
    "expect_PEratio = min( expect_PEratio, 12 )\n",
    "print ('{:>36}  {:>4.2f}'.format(\"expect_PEratio\", expect_PEratio ))\n",
    "\n",
    "sell_price = EPS_8th * expect_PEratio\n",
    "print ('{:>36}  {:>4.2f}'.format(\"sell_price\", sell_price ))"
   ]
  },
  {
   "cell_type": "code",
   "execution_count": 269,
   "metadata": {},
   "outputs": [
    {
     "name": "stdout",
     "output_type": "stream",
     "text": [
      "year 1 => buy_price: 2.05\n",
      "year 2 => buy_price: 3.83\n",
      "year 3 => buy_price: 5.38\n",
      "year 4 => buy_price: 6.72\n",
      "year 5 => buy_price: 7.89\n",
      "year 6 => buy_price: 8.91\n",
      "year 7 => buy_price: 9.80\n",
      "year 8 => buy_price: 20.60\n",
      "buy_price: 20.60\n"
     ]
    }
   ],
   "source": [
    "buy_price = 0\n",
    "ror = 0.15 # rate of return = 15%\n",
    "year_to_hold = 8\n",
    "for year in range(1, year_to_hold+1):\n",
    "    if year == year_to_hold:\n",
    "        buy_price += (cur_dividend_payout + sell_price) / ((1 + ror) ** year )\n",
    "    else: \n",
    "        buy_price += cur_dividend_payout / ((1 + ror) ** year )\n",
    "    print (\"year {} => buy_price: {:.2f}\".format(year, buy_price))\n",
    "\n",
    "print (\"buy_price: {:.2f}\".format(buy_price))"
   ]
  },
  {
   "cell_type": "code",
   "execution_count": null,
   "metadata": {},
   "outputs": [],
   "source": []
  }
 ],
 "metadata": {
  "kernelspec": {
   "display_name": "Python 3",
   "language": "python",
   "name": "python3"
  },
  "language_info": {
   "codemirror_mode": {
    "name": "ipython",
    "version": 3
   },
   "file_extension": ".py",
   "mimetype": "text/x-python",
   "name": "python",
   "nbconvert_exporter": "python",
   "pygments_lexer": "ipython3",
   "version": "3.7.3"
  }
 },
 "nbformat": 4,
 "nbformat_minor": 4
}
