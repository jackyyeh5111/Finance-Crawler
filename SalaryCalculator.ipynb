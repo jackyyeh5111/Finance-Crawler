{
 "cells": [
  {
   "cell_type": "code",
   "execution_count": 15,
   "metadata": {},
   "outputs": [
    {
     "name": "stdout",
     "output_type": "stream",
     "text": [
      "Year   0: Salary   120, Capital         20, Capital Gain          0\n",
      "Year   1: Salary   129, Capital         40, Capital Gain          1\n",
      "Year   2: Salary   139, Capital         69, Capital Gain          2\n",
      "Year   3: Salary   151, Capital        108, Capital Gain          3\n",
      "Year   4: Salary   163, Capital        159, Capital Gain          5\n",
      "Year   5: Salary   176, Capital        223, Capital Gain          7\n",
      "Year   6: Salary   190, Capital        302, Capital Gain         11\n",
      "Year   7: Salary   205, Capital        396, Capital Gain         15\n",
      "Year   8: Salary   222, Capital        509, Capital Gain         19\n",
      "Year   9: Salary   239, Capital        641, Capital Gain         25\n",
      "Year  10: Salary   259, Capital        770, Capital Gain         32\n",
      "Year  11: Salary   279, Capital        919, Capital Gain         38\n",
      "Year  12: Salary   302, Capital       1092, Capital Gain         45\n",
      "Year  13: Salary   326, Capital       1290, Capital Gain         54\n",
      "Year  14: Salary   352, Capital       1516, Capital Gain         64\n",
      "Year  15: Salary   380, Capital       1773, Capital Gain         75\n",
      "Year  16: Salary   411, Capital       2065, Capital Gain         88\n",
      "Year  17: Salary   444, Capital       2394, Capital Gain        103\n",
      "Year  18: Salary   479, Capital       2716, Capital Gain        119\n",
      "Year  19: Salary   517, Capital       3078, Capital Gain        135\n",
      "Year  20: Salary   559, Capital       3482, Capital Gain        153\n",
      "Year  21: Salary   604, Capital       3934, Capital Gain        174\n",
      "Year  22: Salary   652, Capital       4437, Capital Gain        196\n",
      "Year  23: Salary   704, Capital       4997, Capital Gain        221\n",
      "Year  24: Salary   760, Capital       5618, Capital Gain        249\n",
      "Year  25: Salary   821, Capital       6307, Capital Gain        280\n",
      "Year  26: Salary   887, Capital       7070, Capital Gain        315\n",
      "Year  27: Salary   958, Capital       7914, Capital Gain        353\n",
      "Year  28: Salary  1035, Capital       8846, Capital Gain        395\n",
      "Year  29: Salary  1118, Capital       9874, Capital Gain        442\n"
     ]
    }
   ],
   "source": [
    "def tax_rate(salary):\n",
    "    if salary<54:\n",
    "        return 0.05\n",
    "    elif salary<121:\n",
    "        return 0.12\n",
    "    elif salary<242:\n",
    "        return 0.20\n",
    "    elif salary<453:\n",
    "        return 0.30\n",
    "    else: \n",
    "        return 0.40\n",
    "base = 120\n",
    "r = 1.08\n",
    "house_cost = 1500 \n",
    "buy_house_1st_price = 150\n",
    "yearly_house_debt = 61\n",
    "year_to_pay_debt = 30\n",
    "capital_gain_rate = 0.05\n",
    "yearly_cost = 24 #2 x 12 months\n",
    "acc = 0\n",
    "for i in range(30):\n",
    "    #salary gain\n",
    "    salary = base*pow(r, i)\n",
    "    tax = tax_rate(salary)*salary\n",
    "    #capital gain\n",
    "    c_gain = acc*capital_gain_rate\n",
    "    acc+=salary-yearly_house_debt-yearly_cost+c_gain-tax\n",
    "    print(\"Year %3d: Salary %5d, Capital %10d, Capital Gain %10d\"%(i, int(salary), int(acc), int(c_gain)))"
   ]
  },
  {
   "cell_type": "code",
   "execution_count": null,
   "metadata": {},
   "outputs": [],
   "source": []
  }
 ],
 "metadata": {
  "kernelspec": {
   "display_name": "Python 3",
   "language": "python",
   "name": "python3"
  },
  "language_info": {
   "codemirror_mode": {
    "name": "ipython",
    "version": 3
   },
   "file_extension": ".py",
   "mimetype": "text/x-python",
   "name": "python",
   "nbconvert_exporter": "python",
   "pygments_lexer": "ipython3",
   "version": "3.7.6"
  }
 },
 "nbformat": 4,
 "nbformat_minor": 2
}
