{
 "cells": [
  {
   "cell_type": "code",
   "execution_count": 100,
   "metadata": {},
   "outputs": [],
   "source": [
    "import requests\n",
    "headers = {\n",
    "  'user-agent': 'Mozilla/5.0 (Macintosh; Intel Mac OS X 10_14_6) AppleWebKit/537.36 (KHTML, like Gecko) Chrome/84.0.4147.105 Safari/537.36'  \n",
    "}"
   ]
  },
  {
   "cell_type": "code",
   "execution_count": 101,
   "metadata": {},
   "outputs": [],
   "source": [
    "stock_id = 6257"
   ]
  },
  {
   "cell_type": "markdown",
   "metadata": {},
   "source": [
    "## Crawl ROE"
   ]
  },
  {
   "cell_type": "code",
   "execution_count": 102,
   "metadata": {},
   "outputs": [
    {
     "data": {
      "text/plain": [
       "'\\r\\n<!doctype html PUBLIC \"-//W3C//DTD XHTML 1.0 Transitional//EN\" \"http://www.w3.org/TR/xhtml1/DTD/xhtml1-transitional.dtd\">\\r\\n<html lang=\"zh-Hant\">\\r\\n<head>\\r\\n\\r\\n<meta charset=\"UTF-8\">\\r\\n<meta name=\"viewport\" content=\"width=device-width\">\\r\\n<meta name=\"description\" content=\"(6257) 矽格歷年財報評比,股票成交價格,成交量,獲利能力(如:營業收入,淨利,營業毛利率,淨利率),股東權益報酬率ROE,資產報酬率ROA,每股盈餘EPS,每股淨值BPS,現金股利,股票股利,殖利率 等交易資料統計\">\\r\\n<title>(6257) 矽格歷年經營績效統計 - 合併財報 - Goodinfo!台灣股市資訊網</title>\\r\\n\\r\\n<link rel=\"canonical\" href=\"https://goodinfo.tw/StockInfo/StockBzPerformance.asp?STOCK_ID=6257&RPT_CAT=M%5FYEAR\"/>\\r\\n<link rel=\"icon\" href=\"image/Goodinfo.ico\">\\r\\n<link rel=\"stylesheet\" type=\"text/css\" href=\"../Library/css/normalize201_UTF-8.css\"/>\\r\\n<link rel=\"stylesheet\" type=\"text/css\" href=\"../Library/css/Public_UTF-8.css\"/>\\r\\n<link rel=\"stylesheet\" type=\"text/css\" href=\"../Library/jsp/JSCal2-1.8/src/css/jscal2.css\" />\\r\\n<link rel=\"stylesheet\" type=\"text/css\" href=\"../Library/jsp/JSCal2-1.8/src/css/border-radius.css\" />\\r\\n<link rel=\"stylesheet\" type=\"text/css\" href=\"../Library/jsp/JSCal2-1.8/src/css/steel/steel.css\" />\\r\\n\\r\\n<script type=\"text/JavaScript\" src=\"../Library/jsp/JSCal2-1.8/src/js/jscal2.js\"></script>\\r\\n<script type=\"text/JavaScript\" src=\"../Library/jsp/JSCal2-1.8/src/js/lang/en.js\"></script>\\r\\n<script type=\"text/javascript\" charset=\"utf-8\" src=\"StockLib/initial.asp\"></script>\\r\\n<script type=\"text/javascript\" charset=\"utf-8\" src=\"StockLib/util.asp\"></script>\\r\\n<script type=\"text/javascript\" charset=\"utf-8\" src=\"StockLib/cookie.asp\"></script>\\r\\n<script type=\"text/javascript\" charset=\"utf-8\" src=\"StockLib/ChartClass.asp\"></script>\\r\\n<script type=\"text/javascript\" charset=\"utf-8\" src=\"StockLib/ChartFunction.asp\"></script>\\r\\n\\r\\n</head>\\r\\n\\r\\n<body OnResize=\"SaveScreenSize();RepaintStockChart(StockPainter);\" style=\"font-size:11pt;min-width:1000px;\">\\r\\n\\r\\n<!-- Title -->\\r\\n<div style=\\'width:100%;background:rgba(0,0,0,0.3);position:fixed;top:0;z-index:10000;\\'><table id=\\'MenuMask\\' onclick=\"ShowWebSiteMenu();\" style=\\'display:none;\\' width=\\'100%\\' border=\\'0\\' cellspacing=\\'0\\' cellpadding=\\'0\\' align=\\'center\\'><tr height=\\'100000px\\' valign=\\'middle\\'><td></td></tr></table></div><div id=\\'divTitleBar\\' class=\\'disable_select\\' style=\\'min-width:1000px;width:100%;background:translate;position:absolute;top:0;z-index:10002;\\'><table class=\\'none_tbl\\' width=\\'1000px\\' style=\\'font-size:11pt;\\' align=\\'center\\'>  <tr height=\\'42px\\'><td class=\\'head_td\\'><table><tr><td title=\\'開啟選單\\' style=\\'cursor:pointer;display:none;\\' onclick=\"ShowWebSiteMenu();\"><div id=\\'FloatMenu\\' style=\\'width:198px;top:42px;background:lightgray;padding:2px;display:none;position:absolute;\\'></div><a style=\\'color:black;text-decoration:none;margin:0 12px 0 14px;font-size:24pt;font-weight:bold;font-family:Times New Roman;\\'>≡</a></td><td>&nbsp;&nbsp;&nbsp;&nbsp;<a target=\\'_self\\' href=\\'index.asp\\' style=\\'color:black;text-decoration:none;font-family:Impact,Times New Roman,新細明體,sans-serif;font-size:22pt;\\'><nobr>Goodinfo!</nobr></a></td><td style=\\'padding-left:3px;padding-top:3px;\\'><a target=\\'_self\\' href=\\'index.asp\\' style=\\'color:black;text-decoration:none;font-family:新細明體;font-size:17pt;font-weight:bold;\\'><nobr>台灣股市資訊網</nobr></a></td></tr></table></td><td class=\\'head_td\\' style=\\'padding-top:6px;\\'><nobr><a class=\\'link_blue\\' target=\\'_self\\' href=\\'StockList.asp\\'>股票代號/名稱</a>&ensp;<form id=\\'frmStockSearch\\' style=\\'margin-top:0px;margin-bottom:0px;display: inline;\\' target=\\'_self\\' method=\\'POST\\' onsubmit=\\'txtStockCode.blur(); return CheckStockID();\\' action=\\'\\'><input type=\\'text\\' id=\\'txtStockCode\\' size=\\'18\\' maxlength=\\'10\\'  OnFocus=\"jsp:if (txtStockCode.style.color != \\'black\\') {txtStockCode.value = \\'\\'; txtStockCode.style.color = \\'black\\';}\"  OnBlur=\"jsp:if (String(txtStockCode.value).trim() == \\'\\') {txtStockCode.value = \\'股票代號/名稱\\'; txtStockCode.style.color = \\'gray\\';}\"  value=\\'股票代號/名稱\\' style=\\'color:gray;\\'>&ensp;<input type=\\'submit\\' value=\\'股票查詢\\'></form></nobr></td><td class=\\'head_td\\' align=\\'right\\' style=\\'padding-top:7px\\'><table><tr><td align=\\'right\\' width=\\'90px\\' valign=\\'middle\\' style=\\'padding:3px 0 0 0;\\'><nobr><b title=\\'選擇以facebook或google帳號登入,\\r以啟用下列個人化功能：\\r1.我的自選股\\r2.我的自訂欄位\\r3.K線圖參數設定\\'>登入網站</b>&nbsp;</nobr></td><td align=\\'center\\' style=\\'padding:0\\' valign=\\'middle\\'><a target=\\'_self\\' id=\\'linkLoginGoogle\\' href=\\'login.asp?STEP=LOGIN&NO_EXPIRE=T&LOGIN_SITE=Google\\'><img title=\\'使用google帳號登入,\\r以啟用下列個人化功能：\\r1.我的自選股\\r2.我的自訂欄位\\r3.K線圖參數設定\\' alt=\\'使用google帳號進行登入\\' border=\\'0\\' height=\\'24px\\' src=\\'image/social_google_box.png\\'></a></td><td width=\\'4px\\'></td><td align=\\'center\\' style=\\'padding:0\\' valign=\\'middle\\'><a target=\\'_self\\' id=\\'linkLoginFacebook\\' href=\\'login.asp?STEP=LOGIN&NO_EXPIRE=T&LOGIN_SITE=Facebook\\'><img title=\\'使用facebook帳號登入,\\r以啟用下列個人化功能：\\r1.我的自選股\\r2.我的自訂欄位\\r3.K線圖參數設定\\' alt=\\'使用facebook帳號進行登入\\' border=\\'0\\' height=\\'24px\\' src=\\'image/facebookicon.png\\'></a></td><td width=\\'16px\\'></td></tr></table><td class=\\'head_td\\' width=\\'30px\\'><img id=\\'imgSetTitleBar\\' style=\\'cursor:pointer;\\' OnClick=\\'SetTitleBar()\\' width=\\'24px\\' src=\\'image/pushpin0.png\\'></td></td></tr><tr id=\\'ADMask\\' style=\\'height:14px;display:none;\\'><td colspan=\\'4\\'></td></tr></table></div><table class=\\'none_tbl\\' width=\\'1000px\\' border=\\'0px\\' cellspacing=\\'0px\\' cellpadding=\\'0px\\' style=\\'font-size:11pt;\\' align=\\'center\\'><tr height=\\'42px\\'><td></td></tr><tr height=\\'14px\\'><td></td></tr></table><script type=\\'text/javascript\\'>    function CheckStockID() {          var objInput = frmStockSearch.txtStockCode;          if (String(objInput.value).trim() == \\'\\' ||              objInput.value == \\'股票代號/名稱\\' && objInput.style.color == \\'gray\\' ||              objInput.value == \\'查詢字串不可空白\\' && objInput.style.color == \\'red\\') {              objInput.style.color = \\'red\\';              objInput.value = \\'查詢字串不可空白\\';              return false;          };          objInput.style.color = \\'gray\\';          var result = ExecuteAsp(\\'CheckStockID.asp\\',\\'CALL=AJAX&FUNC=QRY_STOCK&CHK_STR=\\'+encodeURIComponent(objInput.value));          if (result.result) {              var oJSON = JSON.parse(result.responseText);              if (oJSON.ReturnCode == \\'0\\') {                  frmStockSearch.action = oJSON.ActivePage;                  return true;              } else if (oJSON.ReturnCode == \\'2\\') {                  frmStockSearch.action = oJSON.ActivePage;                  return true;              } else if (oJSON.ReturnCode == \\'1\\') {                  objInput.style.color = \\'red\\';                  objInput.value = \\'此股票不存在\\';              } else {                  objInput.style.color = \\'red\\';                  objInput.value = \\'不明錯誤\\';              }          };          return false;     }     function ShowWebSiteMenu() {         if (MenuMask.style.display != \\'\\') {             var bMobileMode = false;             if (\\'StockDetailMenu\\' in window) { FloatMenu.innerHTML = StockDetailMenu.innerHTML; }             else if (\\'IdxMenu\\' in window) { FloatMenu.innerHTML = IdxMenu.innerHTML; }             else if (\\'SettingMenu\\' in window) { FloatMenu.innerHTML = SettingMenu.innerHTML; }             else { FloatMenu.innerHTML = MainMenu.innerHTML; }             if (bMobileMode) {                 FloatMenu.innerHTML = String(FloatMenu.innerHTML).replace(/ height=\"23px\"/gi, \\' height=\"50px\"\\');                 FloatMenu.innerHTML = String(FloatMenu.innerHTML).replace(/ height=\\'23px\\'/gi, \\' height=\\\\\\'50px\\\\\\'\\');                 FloatMenu.innerHTML = String(FloatMenu.innerHTML).replace(/font-size:11pt/gi, \\'font-size:24pt\\');                 FloatMenu.innerHTML = String(FloatMenu.innerHTML).replace(/font-size:10pt/gi, \\'font-size:23pt\\');             } else {                 FloatMenu.innerHTML = String(FloatMenu.innerHTML).replace(/ height=\"23px\"/gi, \\' height=\"24px\"\\');                 FloatMenu.innerHTML = String(FloatMenu.innerHTML).replace(/ height=\\'23px\\'/gi, \\' height=\\\\\\'24px\\\\\\'\\');                 FloatMenu.innerHTML = String(FloatMenu.innerHTML).replace(/font-size:11pt/gi, \\'font-size:12pt\\');                 FloatMenu.innerHTML = String(FloatMenu.innerHTML).replace(/font-size:10pt/gi, \\'font-size:11pt\\');             }             MenuMask.style.display = \\'\\';            FloatMenu.style.display = \\'\\';        } else {             MenuMask.style.display = \\'none\\';            FloatMenu.style.display = \\'none\\';        }     }     function SetTitleBar() {         setCookie(\\'FLOAT_TITLE_BAR\\',(getCookie(\\'FLOAT_TITLE_BAR\\')==\\'T\\'?\\'F\\':\\'T\\'),3650,\\'/\\');         imgSetTitleBar.src = \\'image/pushpin\\' + (getCookie(\\'FLOAT_TITLE_BAR\\')==\\'T\\'?\\'1\\':\\'0\\') + \\'.png\\';         divTitleBar.style.position = (getCookie(\\'FLOAT_TITLE_BAR\\')==\\'T\\'?\\'fixed\\':\\'absolute\\');    } </script>\\r\\n\\r\\n<!-- Main Frame -->\\r\\n<table border=\"0\" width=\"1000\" cellspacing=\"0\" cellpadding=\"0\" align=\\'center\\'>\\r\\n  <tr valign=\"top\">\\r\\n<td width=\\'180px\\'><div id=\\'StockDetailMenu\\' ><table class=\\'none_tbl disable_select\\' width=\\'100%\\' bgcolor=\\'white\\' style=\\'font-size:11pt\\'>  <tr valign=\\'top\\'><td width=\\'50%\\' align=\\'left\\'>    <table width=\\'99%\\' border=\\'0\\' cellspacing=\\'1\\' bgcolor=\\'#eaf3fa\\'>      <tr height=\\'23px\\' align=\\'center\\'><td class=\\'head_td\\' bgcolor=\\'#d7e6f4\\' style=\\'font-size:10pt\\'>基本分析</td></tr>      <tr height=\\'23px\\'><td>&nbsp;<a class=\\'link_blue\\' href=\\'StockDetail.asp?STOCK_ID=6257\\'>個股市況</a></td></tr>      <tr height=\\'23px\\'><td>&nbsp;<a class=\\'link_orange\\' href=\\'StockBzPerformance.asp?STOCK_ID=6257\\'>經營績效</a></td></tr>      <tr height=\\'23px\\'><td>&nbsp;<a class=\\'link_blue\\' href=\\'StockAssetsStatus.asp?STOCK_ID=6257\\'\\'>資產狀況</a></td></tr>      <tr height=\\'23px\\'><td>&nbsp;<a class=\\'link_blue\\' href=\\'StockCashFlow.asp?STOCK_ID=6257\\'\\'>現金流量</a></td></tr>      <tr height=\\'23px\\'><td>&nbsp;<a class=\\'link_blue\\' href=\\'ShowSaleMonChart.asp?STOCK_ID=6257\\'>每月營收</a></td></tr>      <tr height=\\'23px\\'><td>&nbsp;<a class=\\'link_blue\\' href=\\'ShowSaleMonProdChart.asp?STOCK_ID=6257\\'>產品營收</a></td></tr>      <tr height=\\'23px\\'><td>&nbsp;<a class=\\'link_blue\\' href=\\'BasicInfo.asp?STOCK_ID=6257\\'>基本資料</a></td></tr>      <tr height=\\'23px\\'><td>&nbsp;<a class=\\'link_blue\\' href=\\'StockAnnounceList.asp?START_DT=2020%2F9%2F27&END_DT=2020%2F10%2F27&STOCK_ID=6257\\'>新聞及公告</a></td></tr>      <tr height=\\'23px\\' align=\\'center\\'><td class=\\'head_td\\' bgcolor=\\'#d7e6f4\\' colspan=\\'2\\' style=\\'font-size:10pt\\'>股東權益</td></tr>      <tr height=\\'23px\\'><td>&nbsp;<a class=\\'link_blue\\' href=\\'StockHolderSchedule.asp?STOCK_ID=6257\\'>股東會日程</a></td></tr>      <tr height=\\'23px\\'><td>&nbsp;<a class=\\'link_blue\\' href=\\'StockDividendPolicy.asp?STOCK_ID=6257\\'>股利政策</a></td></tr>      <tr height=\\'23px\\'><td>&nbsp;<a class=\\'link_blue\\' href=\\'StockDividendSchedule.asp?STOCK_ID=6257\\'>除權息日程</a></td></tr>      <tr height=\\'23px\\'><td>&nbsp;<a class=\\'link_blue\\' href=\\'MarginPauseSchedule.asp?STOCK_ID=6257\\'>停資停券日</a></td></tr>      <tr height=\\'23px\\' align=\\'center\\'><td class=\\'head_td\\' bgcolor=\\'#d7e6f4\\' colspan=\\'2\\' style=\\'font-size:10pt\\'>財務報表</td></tr>      <tr height=\\'23px\\'><td>&nbsp;<a class=\\'link_blue\\' href=\\'StockFinDetail.asp?RPT_CAT=BS_M_QUAR&STOCK_ID=6257\\'>資產負債表</a></td></tr>      <tr height=\\'23px\\'><td>&nbsp;<a class=\\'link_blue\\' href=\\'StockFinDetail.asp?RPT_CAT=IS_M_QUAR_ACC&STOCK_ID=6257\\'>損益表</a></td></tr>      <tr height=\\'23px\\'><td>&nbsp;<a class=\\'link_blue\\' href=\\'StockFinDetail.asp?RPT_CAT=CF_M_QUAR_ACC&STOCK_ID=6257\\'>現金流量表</a></td></tr>      <tr height=\\'23px\\'><td>&nbsp;<a class=\\'link_blue\\' href=\\'StockFinDetail.asp?RPT_CAT=XX_M_QUAR_ACC&STOCK_ID=6257\\'>財務比率表</a></td></tr>      <tr height=\\'23px\\'><td>&nbsp;<a class=\\'link_blue\\' href=\\'StockFinGrade.asp?STOCK_ID=6257\\'>財務評分表</a></td></tr>      <tr height=\\'23px\\'><td>&nbsp;<a class=\\'link_blue\\' href=\\'StockFinCompare.asp?STOCK0=6257\\'>財報比較</a></td></tr>      <tr height=\\'23px\\'><td>&nbsp;</td></tr>    </table>  </td><td width=\\'50%\\' align=\\'right\\'>    <table width=\\'99%\\' border=\\'0\\' cellspacing=\\'1\\' bgcolor=\\'#eaf3fa\\'>      <tr height=\\'23px\\' align=\\'center\\'><td class=\\'head_td\\' bgcolor=\\'#d7e6f4\\' colspan=\\'2\\' style=\\'font-size:10pt\\'>籌碼分析</td></tr>      <tr height=\\'23px\\'><td>&nbsp;<a class=\\'link_blue\\' href=\\'ShowBuySaleChart.asp?STOCK_ID=6257&CHT_CAT=DATE\\'>法人買賣</a></td></tr>      <tr height=\\'23px\\'><td>&nbsp;<a class=\\'link_blue\\' href=\\'ShowBearishChart.asp?STOCK_ID=6257&CHT_CAT=DATE\\'>融資融券</a></td></tr>      <tr height=\\'23px\\'><td>&nbsp;<a class=\\'link_blue\\' href=\\'DayTrading.asp?STOCK_ID=6257\\'>現股當沖</a></td></tr>      <tr height=\\'23px\\'><td>&nbsp;<a class=\\'link_blue\\' href=\\'EquityDistributionCatHis.asp?STOCK_ID=6257\\'>股東結構</a></td></tr>      <tr height=\\'23px\\'><td>&nbsp;<a class=\\'link_blue\\' href=\\'EquityDistributionClassHis.asp?STOCK_ID=6257\\'>持股分級</a></td></tr>      <tr height=\\'23px\\'><td>&nbsp;<a class=\\'link_blue\\' href=\\'StockDirectorSharehold.asp?STOCK_ID=6257\\'>董監持股</a></td></tr>      <tr height=\\'23px\\'><td>&nbsp;<a class=\\'link_blue\\' href=\\'EquityTransfer.asp?STOCK_ID=6257\\'>申報轉讓</a></td></tr>      <tr height=\\'23px\\' align=\\'center\\'><td class=\\'head_td\\' bgcolor=\\'#d7e6f4\\' colspan=\\'2\\' style=\\'font-size:10pt\\'>技術分析</td></tr>      <tr height=\\'23px\\'><td>&nbsp;<a class=\\'link_blue\\' href=\\'ShowK_Chart.asp?STOCK_ID=6257&CHT_CAT2=DATE\\'>個股K線圖</a></td></tr>      <tr height=\\'23px\\'><td>&nbsp;<a class=\\'link_blue\\' href=\\'ShowK_ChartCompare.asp?STOCK_ID=6257&STOCK_ID2=&CHT_CAT2=DATE\\'>K線比較圖</a></td></tr>      <tr height=\\'23px\\'><td>&nbsp;<a style=\\'font-size:10pt\\' class=\\'link_blue\\' href=\\'ShowK_ChartFlow.asp?RPT_CAT=PER&STOCK_ID=6257&CHT_CAT=WEEK\\'>本益比河流圖</a></td></tr>      <tr height=\\'23px\\'><td>&nbsp;<a style=\\'font-size:10pt\\' class=\\'link_blue\\' href=\\'ShowK_ChartFlow.asp?RPT_CAT=PBR&STOCK_ID=6257&CHT_CAT=WEEK\\'>本淨比河流圖</a></td></tr>      <tr height=\\'23px\\'><td>&nbsp;<a style=\\'font-size:10pt\\' class=\\'link_blue\\' href=\\'ShowK_ChartFlow.asp?RPT_CAT=DR%5F3M&STOCK_ID=6257&CHT_CAT=WEEK\\'>乖離率河流圖</a></td></tr>      <tr height=\\'23px\\'><td>&nbsp;<a class=\\'link_blue\\' href=\\'StockHisAnaQuar.asp?STOCK_ID=6257\\'>季漲跌統計</a></td></tr>      <tr height=\\'23px\\'><td>&nbsp;<a class=\\'link_blue\\' href=\\'StockHisAnaMonth.asp?STOCK_ID=6257\\'>月漲跌統計</a></td></tr>      <tr height=\\'23px\\' align=\\'center\\'><td class=\\'head_td\\' bgcolor=\\'#d7e6f4\\' colspan=\\'2\\' style=\\'font-size:10pt\\'>其他</td></tr>      <tr height=\\'23px\\'><td>&nbsp;<a class=\\'link_blue\\' href=\\'CheckStockID.asp?FUNC=LAST_STOCK&CHK_STR=6257\\'>上一檔股票</a></td></tr>      <tr height=\\'23px\\'><td>&nbsp;<a class=\\'link_blue\\' href=\\'CheckStockID.asp?FUNC=NEXT_STOCK&CHK_STR=6257\\'>下一檔股票</a></td></tr>      <tr height=\\'23px\\'><td><nobr>&nbsp;<a class=\\'link_blue\\' href=\\'StockIdxDetail.asp?STOCK_ID=%E5%8A%A0%E6%AC%8A%E6%8C%87%E6%95%B8\\'>上市大盤</a></nobr></td></tr>      <tr height=\\'23px\\'><td><nobr>&nbsp;<a class=\\'link_blue\\' href=\\'StockIdxDetail.asp?STOCK_ID=%E6%AB%83%E8%B2%B7%E6%8C%87%E6%95%B8\\'>上櫃大盤</a></nobr></td></tr>      <tr height=\\'23px\\'><td><nobr>&nbsp;<a class=\\'link_blue\\' target=\\'_self\\' href=\\'index.asp\\'>回到首頁</a></nobr></td></tr>    </table>  </td></tr></table></div><p style=\\'margin: 0 0 14px 0\\'></p><div style=\\'position:sticky;position:-webkit-sticky;top:0px;left:0px;padding:0;z-index:10;\\'><table class=\\'none_tbl\\' id=\\'AD18\\' style=\\'height:632px;\\' width=\\'100%\\' bgcolor=\\'white\\'><tr height=\\'16px\\'><td></td></tr><tr height=\\'600px\\'><td align=\\'center\\' valign=\\'middle\\' style=\\'position:relative;\\'><div onclick=\\'var o=this;o.style.display=\"none\";setTimeout(function(){o.style.display=\"\";},2000);\\' style=\\'z-index:11;position:absolute;left:50%;transform:translateX(-50%);width:164px;height:10px;\\'></div><div onclick=\\'var o=this;o.style.display=\"none\";setTimeout(function(){o.style.display=\"\";},2000);\\' style=\\'z-index:11;position:absolute;left:50%;top:100%;transform:translate(-50%,-9px);width:164px;height:10px;\\'></div><div onclick=\\'var o=this;o.style.display=\"none\";setTimeout(function(){o.style.display=\"\";},2000);\\' style=\\'z-index:11;position:absolute;left:50%;transform:translateX(-91px);width:10px;height:601px;\\'></div><div onclick=\\'var o=this;o.style.display=\"none\";setTimeout(function(){o.style.display=\"\";},2000);\\' style=\\'z-index:11;position:absolute;left:50%;transform:translateX(81px);width:10px;height:601px;\\'></div><div id=\\'DFP_4236926568\\' style=\\'width:180px;text-align:center;\\'></div></td></tr><tr height=\\'16px\\'><td></td></tr></table><script type=\\'text/javascript\\'>ADList.push(\"AD18\");googletag.cmd.push(function() {  googletag.defineSlot(\\'/166795457/TW_180x600\\', [180,600], \\'DFP_4236926568\\').addService(googletag.pubads());  googletag.pubads().enableSingleRequest();  googletag.enableServices();  googletag.display(\\'DFP_4236926568\\');});</script></div></td><td width=\\'8px\\'></td>    \\r\\n    <td>\\r\\n      <table width=\\'100%\\' border=\\'0\\' cellspacing=\\'0\\' cellpadding=\\'0\\' align=\\'center\\' valing=\\'top\\' bgcolor=\\'white\\'>  <tr valign=\\'top\\' align=\\'center\\'><td height=\\'1px\\'><table class=\\'solid_1_padding_3_1_tbl\\' border=\\'0\\' cellspacing=\\'0\\' cellpadding=\\'0\\' style=\\'width:100%;font-size:11pt;\\'>  <tr><td class=\\'head_td\\' colspan=\\'8\\'><table class=\\'none_tbl\\' style=\\'width:100%\\'><tr align=\\'left\\' valign=\\'bottom\\' height=\\'35px\\'><td style=\\'padding:0 2px 5px 20px;width:10px;\\'><nobr><a class=\\'link_blue\\' style=\\'font-size:14pt;font-weight:bold;\\' href=\\'StockDetail.asp?STOCK_ID=6257\\'>6257&nbsp;矽格</a></nobr></td><td style=\\'padding:0 0 5px 10px;width:10px;\\'><nobr style=\\'cursor:default;font-size:9pt;color:red;background-color:yellow;\\'>期貨標的</nobr></td><td style=\\'padding:0 0 5px 10px;width:10px;\\'><nobr style=\\'cursor:default;font-size:9pt;color:red;background-color:yellow;\\'>權證標的</nobr></td><td style=\\'padding:0 18px 5px 0;text-align:right;\\'><nobr style=\\'font-size:9pt;color:gray;\\'>資料日期: 10/26</nobr></td></tr></table></td></tr>  <tr align=\\'center\\' valign=\\'middle\\' bgcolor=\\'#ebf3fa\\' height=\\'32px\\'>    <td width=\\'13%\\'><nobr>成交價</nobr></td>    <td width=\\'13%\\'><nobr>昨收</nobr></td>    <td width=\\'13%\\'><nobr>漲跌價</nobr></td>    <td width=\\'13%\\'><nobr>漲跌幅</nobr></td>    <td width=\\'13%\\'><nobr>振幅</nobr></td>    <td width=\\'10%\\'><nobr>開盤</nobr></td>    <td width=\\'10%\\'><nobr>最高</nobr></td>    <td width=\\'10%\\'><nobr>最低</nobr></td>  </tr>  <tr align=\\'center\\' bgcolor=\\'white\\' height=\\'32px\\'>    <td style=\\'font-weight:bold;color:green\\'>38.8</td>    <td>39.05</td>    <td style=\\'color:green\\'>-0.25</td>    <td style=\\'color:green\\'>-0.64%</td>    <td>1.28%</td>    <td style=\\'color:black\\'>39.05</td>    <td style=\\'color:red\\'>39.2</td>    <td style=\\'color:green\\'>38.7</td>  </tr>  <tr align=\\'center\\' valign=\\'middle\\' bgcolor=\\'#ebf3fa\\' height=\\'32px\\'>    <td><nobr>成交張數</nobr></td>    <td><nobr>成交金額</nobr></td>    <td><nobr>成交筆數</nobr></td>    <td><nobr>成交均張</nobr></td>    <td><nobr>成交均價</nobr></td>    <td title=\\'PBR=成交價/最近一季BPS\\'><nobr>PBR</nobr></td>    <td title=\\'PER=成交價/近四季合計EPS\\'><nobr>PER</nobr></td>    <td title=\\'PEG=PER/近四季合計稅後淨利年成長率\\'><nobr>PEG</nobr></td>  </tr>  <tr align=\\'center\\' bgcolor=\\'white\\' height=\\'32px\\'>    <td>1,712</td><td><nobr>6,663&nbsp;萬</nobr></td>    <td>957</td>    <td><nobr>1.8&nbsp;張/筆</nobr></td>    <td><nobr>38.93&nbsp;元</nobr></td>    <td title=\\'PBR=成交價/最近一季BPS\\'>1.48</td>    <td title=\\'PER=成交價/近四季合計EPS\\'>10.13</td>    <td title=\\'PEG=PER/近四季合計稅後淨利年成長率\\' style=\\'color:black\\'>0.19</td>  </tr>  <tr align=\\'center\\' valign=\\'middle\\' bgcolor=\\'#ebf3fa\\' height=\\'32px\\'>    <td><nobr>昨日張數</nobr></td>    <td><nobr>昨日金額</nobr></td>    <td><nobr>昨日筆數</nobr></td>    <td><nobr>昨日均張</nobr></td>    <td><nobr>昨日均價</nobr></td>    <td colspan=\\'3\\'><nobr>昨漲跌價&nbsp;(幅)</nobr></td>  </tr>  <tr align=\\'center\\' bgcolor=\\'white\\' height=\\'32px\\'>    <td>2,107</td><td><nobr>8,225&nbsp;萬</nobr></td>    <td>1,067</td>    <td><nobr>2&nbsp;張/筆</nobr></td>    <td><nobr>39.03&nbsp;元</nobr></td>    <td colspan=\\'3\\' style=\\'color:red\\'><nobr>+0.5&nbsp;(+1.3%)</nobr></td></tr>  <tr bgcolor=\\'#d7e6f4\\' style=\\'font-size:10pt\\' valign=\\'top\\' align=\\'left\\' height=\\'38px\\'>    <td colspan=\\'8\\' class=\\'head_td\\'><p style=\\'margin:3px 0 3px 6px;line-height:18px;\\'><nobr>連漲連跌:&nbsp;<font style=\\'color:green\\'>首日下跌&nbsp;&nbsp;(&nbsp;-0.25元&nbsp;/&nbsp;-0.64%)</font>&nbsp;&nbsp;&nbsp;&nbsp;&nbsp;&nbsp;&nbsp;&nbsp;<br>財報評分: <a title=\\'最近一個財報年度的評分\\' class=\\'link_black\\' target=\\'_self\\' href=\\'StockFinGrade.asp?STOCK_ID=6257&RPT_CAT=M_YEAR\\'>最新62分</a>&nbsp;/&nbsp;<span title=\\'歷年各年度財報的平均分數\\' style=\\'color:black\\'>平均62分</span>&nbsp;&nbsp;&nbsp;&nbsp;&nbsp;&nbsp;&nbsp;&nbsp;<span style=\\'color:blue\\'><a class=\\'link_blue\\' target=\\'_self\\' href=\\'StockIdxDetail.asp?STOCK_ID=%E5%8A%A0%E6%AC%8A%E6%8C%87%E6%95%B8\\'>上市指數</a>: </span><span style=\\'color:red\\'>12909.03&nbsp;(10.21&nbsp;/&nbsp;+0.08%)</span></nobr></p></td></tr></table></td><td rowspan=\\'3\\' width=\\'8px\\'></td><td rowspan=\\'3\\' style=\\'border:0;padding:0;\\' align=\\'center\\' width=\\'300px\\'><table class=\\'none_tbl\\' id=\\'AD6\\' style=\\'height:600px;\\' width=\\'100%\\' bgcolor=\\'white\\'><tr height=\\'0px\\'><td></td></tr><tr height=\\'600px\\'><td align=\\'center\\' valign=\\'middle\\' style=\\'position:relative;\\'><div onclick=\\'var o=this;o.style.display=\"none\";setTimeout(function(){o.style.display=\"\";},2000);\\' style=\\'z-index:11;position:absolute;left:50%;transform:translateX(-50%);width:284px;height:10px;\\'></div><div onclick=\\'var o=this;o.style.display=\"none\";setTimeout(function(){o.style.display=\"\";},2000);\\' style=\\'z-index:11;position:absolute;left:50%;top:100%;transform:translate(-50%,-9px);width:284px;height:10px;\\'></div><div onclick=\\'var o=this;o.style.display=\"none\";setTimeout(function(){o.style.display=\"\";},2000);\\' style=\\'z-index:11;position:absolute;left:50%;transform:translateX(-151px);width:10px;height:601px;\\'></div><div onclick=\\'var o=this;o.style.display=\"none\";setTimeout(function(){o.style.display=\"\";},2000);\\' style=\\'z-index:11;position:absolute;left:50%;transform:translateX(141px);width:10px;height:601px;\\'></div><div id=\\'DFP_2189437368\\' style=\\'width:300px;text-align:center;\\'></div></td></tr><tr height=\\'0px\\'><td></td></tr></table><script type=\\'text/javascript\\'>ADList.push(\"AD6\");googletag.cmd.push(function() {  googletag.defineSlot(\\'/166795457/TW_大型摩天大廣告_300x600\\', [300,600], \\'DFP_2189437368\\').addService(googletag.pubads());  googletag.pubads().enableSingleRequest();  googletag.enableServices();  googletag.display(\\'DFP_2189437368\\');});</script></td></tr><tr style=\\'height:14px;\\'><td></td></tr><tr><td style=\\'border:0;padding:0;\\' align=\\'center\\' valign=\\'middle\\'><table class=\\'none_tbl\\' id=\\'AD19\\' style=\\'height:312px;\\' width=\\'100%\\' bgcolor=\\'white\\'><tr height=\\'16px\\'><td></td></tr><tr height=\\'280px\\'><td align=\\'center\\' valign=\\'middle\\' style=\\'position:relative;\\'><div onclick=\\'var o=this;o.style.display=\"none\";setTimeout(function(){o.style.display=\"\";},2000);\\' style=\\'z-index:11;position:absolute;left:50%;transform:translateX(-50%);width:484px;height:10px;\\'></div><div onclick=\\'var o=this;o.style.display=\"none\";setTimeout(function(){o.style.display=\"\";},2000);\\' style=\\'z-index:11;position:absolute;left:50%;top:100%;transform:translate(-50%,-9px);width:484px;height:10px;\\'></div><div onclick=\\'var o=this;o.style.display=\"none\";setTimeout(function(){o.style.display=\"\";},2000);\\' style=\\'z-index:11;position:absolute;left:50%;transform:translateX(-251px);width:10px;height:281px;\\'></div><div onclick=\\'var o=this;o.style.display=\"none\";setTimeout(function(){o.style.display=\"\";},2000);\\' style=\\'z-index:11;position:absolute;left:50%;transform:translateX(241px);width:10px;height:281px;\\'></div><div id=\\'DFP_2517481362\\' style=\\'width:500px;text-align:center;\\'></div></td></tr><tr height=\\'16px\\'><td></td></tr></table><script type=\\'text/javascript\\'>ADList.push(\"AD19\");googletag.cmd.push(function() {  googletag.defineSlot(\\'/166795457/TW_500x280\\', [500,280], \\'DFP_2517481362\\').addService(googletag.pubads());  googletag.pubads().enableSingleRequest();  googletag.enableServices();  googletag.display(\\'DFP_2517481362\\');});</script></td></tr></table>\\r\\n      <p style=\\'margin-top:0px;margin-bottom:14px\\'></p>\\r\\n      <p style=\\'color:gray;margin-top:4px;margin-bottom:1px;font-size:9pt\\'>&nbsp;* 配合國際財務報導準則(IFRSs), 自2013年第一季以後之財報統一以合併資料顯示, 若欲查詢早期無合併財報之資料, 請以「個別報表」選項查詢。</p>\\r\\n      <p style=\\'color:gray;margin-top:0px;margin-bottom:1px;font-size:9pt\\'>&nbsp;* 因證交所在2013年以前並未強制上市櫃公司編製合併財報, 故早期之合併財報會有部分「無資料」之情形, 請使用者多加留意。</p>\\r\\n      <p style=\\'color:gray;margin-top:0px;margin-bottom:1px;font-size:9pt\\'>&nbsp;*「近四季財報」指的是將最近四季的單季財報合計為一個年度的財報，例如2018Q3指的是以2017Q4到2018Q3的各季財報合計為一個年度的財報。</p>\\r\\n      <p style=\\'color:red;margin-top:0px;margin-bottom:1px;font-size:9pt\\'>&nbsp;*「近四季財報」為本網站自行計算之報表，並非各上市櫃公司公布的正規財報，故資料僅供參考，請使用者自行斟酌使用。</p>\\r\\n      <table class=\\'solid_1_padding_4_2_tbl\\' width=\\'100%\\' border=\\'0\\' cellpadding=\\'0\\' cellspacing=\\'0\\'>  <tr bgcolor=\\'#d7e6f4\\'><td class=\\'head_td\\'>    <table class=\\'none_tbl\\' width=\\'100%\\' border=\\'0\\' cellpadding=\\'0\\' cellspacing=\\'0\\'><tr>      <td width=\\'20%\\'></td><td width=\\'60%\\' style=\\'padding:2px;color:blue;font-size:14pt;font-weight:bold;\\' align=\\'center\\'><nobr>6257 矽格&nbsp;歷年經營績效</nobr></td><td width=\\'20%\\' align=\\'right\\'><nobr>&nbsp;&nbsp;<form action=\\'StockBzPerformance.asp\\' target=\\'_self\\' method=\\'get\\' style=\\'margin:0px;display:inline;\\'><input type=\\'submit\\' id=\\'btnBzPerformanceQry\\' style=\\'display:none\\' value=\\'查詢\\'><input type=\\'text\\' style=\\'display:none\\' name=\\'STOCK_ID\\' value=\\'6257\\'><input type=\\'text\\' style=\\'display:none\\' name=\\'YEAR_PERIOD\\' value=\\'9999\\'><select name=\\'RPT_CAT\\' style=\\'font-size:11pt\\' OnChange=\\'jsp:btnBzPerformanceQry.click();\\'><option value=\\'M_QUAR\\' >合併報表 – 單季</option><option value=\\'M_QUAR_ACC\\' >合併報表 – 累季</option><option value=\\'M_YEAR\\' selected>合併報表 – 年度</option><option value=\\'M_Y4Q\\' >合併報表 – 近四季</option><option value=\\'QUAR\\' >個別報表 – 單季</option><option value=\\'QUAR_ACC\\' >個別報表 – 累季</option><option value=\\'YEAR\\' >個別報表 – 年度</option><option value=\\'Y4Q\\' >個別報表 – 近四季</option></select>&nbsp;&nbsp;</form></nobr></td>    </tr></table>  </td></tr><tr align=\\'center\\' bgcolor=\\'white\\' valign=\\'middle\\' height=\\'541px\\'><td style=\\'padding:0\\' OnMouseOver=\"DisableSelect();\" OnMouseOut=\"EnableSelect();\"><div id=\\'IMG_LOADING\\'><img border=\\'0\\' src=\\'image/loading.gif\\'></div><canvas id=\"StockCanvas\" height=\\'540px\\' width=\\'810px\\' style=\"display:none;z-index:0;border:0 solid #69c\"><p style=\\'font-size:14pt;color:red;margin-top:240px;margin-bottom:240px\\'>很抱歉，您的瀏覽器不支援 html5 所設計之繪圖功能，<br>請改用 IE9、google chrome 或 firefox 等瀏覽器，以支援此功能。</p></canvas><div id=\"debug\"></div><script type=\"text/javascript\" src=\"StockBzPerformanceData.asp?STOCK_ID=6257&STOCK_NM=%E7%9F%BD%E6%A0%BC&STOCK_CAT=%E4%B8%80%E8%88%AC&MARKET_CAT=%E4%B8%8A%E5%B8%82&YEAR_PERIOD=9999&RPT_CAT=M%5FYEAR&SESSION_VAL=008%2E3429501\"></script></td></tr></table>\\r\\n      <p style=\\'margin-top:0px;margin-bottom:14px\\'></p>\\r\\n<p style=\\'font-size:9pt;color:gray;margin:4px 0 2px 0;\\'><nobr>&nbsp;*&nbsp;資料統計期間：2000 ~ 2020年(共21年)</nobr></p><table class=\\'solid_1_padding_6_0_tbl\\' width=\\'100%\\' style=\\'font-size:10pt;\\'><tr bgcolor=\\'#d7e6f4\\'><td class=\\'head_td\\'><table class=\\'none_tbl\\' width=\\'100%\\'><tr><td width=\\'25%\\'></td><td width=\\'50%\\' style=\\'color:blue;font-size:14pt;font-weight:bold;\\' align=\\'center\\'><nobr>6257 矽格&nbsp;歷年平均經營績效</nobr></td><td width=\\'25%\\' align=\\'right\\' valign=\\'bottom\\'><nobr>&nbsp;&nbsp;<form action=\\'StockBzPerformance.asp\\' target=\\'_self\\' method=\\'get\\' style=\\'margin:0px;display:inline;\\'><input type=\\'submit\\' id=\\'btnBzPerformanceAvgQry\\' style=\\'display:none\\' value=\\'查詢\\'><input type=\\'text\\' style=\\'display:none\\' name=\\'STOCK_ID\\' value=\\'6257\\'><select name=\\'YEAR_PERIOD\\' style=\\'font-size:11pt\\' OnChange=\\'jsp:btnBzPerformanceAvgQry.click();\\'><option value=\\'9999\\' selected>歷年平均</option><option value=\\'20\\' >近20年平均</option><option value=\\'15\\' >近15年平均</option><option value=\\'10\\' >近10年平均</option><option value=\\'5\\' >近5年平均</option><option value=\\'3\\' >近3年平均</option><option value=\\'1\\' >近1年平均</option></select>&nbsp;<select name=\\'RPT_CAT\\' style=\\'font-size:11pt\\' OnChange=\\'jsp:btnBzPerformanceAvgQry.click();\\'><option value=\\'M_QUAR\\' >合併報表 – 單季</option><option value=\\'M_QUAR_ACC\\' >合併報表 – 累季</option><option value=\\'M_YEAR\\' selected>合併報表 – 年度</option><option value=\\'M_Y4Q\\' >合併報表 – 近四季</option><option value=\\'QUAR\\' >個別報表 – 單季</option><option value=\\'QUAR_ACC\\' >個別報表 – 累季</option><option value=\\'YEAR\\' >個別報表 – 年度</option><option value=\\'Y4Q\\' >個別報表 – 近四季</option></select>&nbsp;&nbsp;</form></nobr></td></tr></table></td></tr></table><div style=\\'position:relative;width:812px;\\'><div style=\\'overflow-x:auto;overflow-y:hidden;border:solid #d2d2d2 0px;\\'><table class=\\'solid_1_padding_4_0_tbl\\' width=\\'100%\\' style=\\'font-size:10pt;table-layout:fixed;\\'>  <tr align=\\'center\\' bgcolor=\\'#ebf3fa\\' height=\\'23px\\'>    <td colspan=\\'3\\' rowspan=\\'2\\'><nobr style=\\'color:red\\'>目前股價</nobr><br><nobr style=\\'color:green\\'>38.8&nbsp;元</nobr></td>    <td colspan=\\'6\\'><nobr>成交價 (元)</nobr></td>    <td colspan=\\'6\\'><nobr>平均漲跌</nobr></td>    <td colspan=\\'6\\'><nobr>成交量 (張)</nobr></td>    <td colspan=\\'6\\'><nobr>營業收入</nobr></td>    <td colspan=\\'6\\'><nobr>稅後淨利</nobr></td>    <td colspan=\\'6\\'><nobr>平均獲利率 </nobr></td>  </tr>  <tr align=\\'center\\' bgcolor=\\'#ebf3fa\\' height=\\'23px\\'>    <td colspan=\\'2\\' title=\\'各年度平均股價統計值\\'><nobr>平均</nobr></td>    <td colspan=\\'2\\' title=\\'各年度最低股價統計值\\'><nobr>最低</nobr></td>    <td colspan=\\'2\\' title=\\'各年度最高股價統計值\\'><nobr>最高</nobr></td>    <td colspan=\\'3\\' title=\\'各年度股價漲跌價統計值\\'><nobr>漲跌<br>(元)</nobr></td>    <td colspan=\\'3\\' title=\\'各年度股價漲跌幅統計值\\'><nobr>漲跌<br>(%)</nobr></td>    <td colspan=\\'3\\' title=\\'各年度最低成交量統計值\\'><nobr>最低量</nobr></td>    <td colspan=\\'3\\' title=\\'各年度最高成交量統計值\\'><nobr>最高量</nobr></td>    <td colspan=\\'3\\' title=\\'歷年營業收入平均值\\'><nobr>平均<br>(億元)</nobr></td>    <td colspan=\\'3\\' title=\\'歷年營業收入成長率平均值\\'><nobr>均成長<br>(%)</nobr></td>    <td colspan=\\'3\\' title=\\'歷年淨利平均值\\'><nobr>平均<br>(億元)</nobr></td>    <td colspan=\\'3\\' title=\\'歷年淨利成長率平均值\\'><nobr>均成長<br>(%)</nobr></td>    <td colspan=\\'3\\' title=\\'歷年營業毛利率平均值\\'><nobr>毛利率</nobr></td>    <td colspan=\\'3\\' title=\\'歷年淨利率平均值\\'><nobr>淨利率</nobr></td>  </tr><tr align=\\'center\\' bgcolor=\\'white\\' height=\\'23px\\' OnMouseOver=\\'this.style.background=\"#fff2cc\";\\' OnMouseOut=\\'this.style.background=\"white\";\\'>  <td colspan=\\'3\\' title=\\'以一般方式直接將歷年資料加以平均\\'><nobr>一般平均</nobr></td>  <td colspan=\\'2\\'>26.78</td>  <td colspan=\\'2\\'>19.53</td>  <td colspan=\\'2\\'>34.8</td>  <td colspan=\\'3\\' style=\\'color:red\\'>+0.33</td>  <td colspan=\\'3\\' style=\\'color:red\\'>+11.5</td>  <td colspan=\\'3\\'>377</td>  <td colspan=\\'3\\'>23,157</td>  <td colspan=\\'3\\'>50.69</td>  <td colspan=\\'3\\' style=\\'color:red\\'>+11.89%</td>  <td colspan=\\'3\\' >6.89</td>  <td colspan=\\'3\\' style=\\'color:red\\'>+11.57%</td>  <td colspan=\\'3\\' >28.15%</td>  <td colspan=\\'3\\' >14.09%</td></tr><tr align=\\'center\\' bgcolor=\\'white\\' height=\\'23px\\' OnMouseOver=\\'this.style.background=\"#fff2cc\";\\' OnMouseOut=\\'this.style.background=\"white\";\\'>  <td colspan=\\'3\\' title=\\'參考股本與時間因素,將歷年資料予以加權後再平均,使計算結果更趨近於近期情況\\'><nobr>加權平均</nobr></td>  <td colspan=\\'2\\'>26.56</td>  <td colspan=\\'2\\'>20.67</td>  <td colspan=\\'2\\'>33.13</td>  <td colspan=\\'3\\' style=\\'color:red\\'>+1.61</td>  <td colspan=\\'3\\' style=\\'color:red\\'>+13.73</td>  <td colspan=\\'3\\'>346</td>  <td colspan=\\'3\\'>24,760</td>  <td colspan=\\'3\\'>63.38</td>  <td colspan=\\'3\\' style=\\'color:red\\'>+11.82%</td>  <td colspan=\\'3\\' >9.05</td>  <td colspan=\\'3\\' style=\\'color:red\\'>+8.25%</td>  <td colspan=\\'3\\' >28.68%</td>  <td colspan=\\'3\\' >15.26%</td></tr>  <tr align=\\'center\\' bgcolor=\\'#ebf3fa\\' height=\\'23px\\'>    <td colspan=\\'3\\' rowspan=\\'2\\'><nobr style=\\'color:red\\'>目前淨值</nobr><br><nobr style=\\'color:green\\'>26.25&nbsp;元</nobr></td>    <td colspan=\\'6\\' title=\\'股東權益報酬率\\'><nobr>ROE</nobr></td>    <td colspan=\\'6\\' title=\\'資產報酬率\\'><nobr>ROA</nobr></td>    <td colspan=\\'6\\' title=\\'每股稅後盈餘統計\\'><nobr>EPS (元)</nobr></td>    <td colspan=\\'6\\' title=\\'本益比統計\\'><nobr>PER (目前&nbsp;10.13)</nobr></td>    <td colspan=\\'6\\' title=\\'每股淨值統計\\'><nobr>BPS (元)</nobr></td>    <td colspan=\\'6\\' title=\\'股價淨值比統計\\'><nobr>PBR (目前&nbsp;1.48)</nobr></td>  </tr>  <tr align=\\'center\\' bgcolor=\\'#ebf3fa\\' height=\\'23px\\'>    <td colspan=\\'3\\' title=\\'歷年股東權益報酬率平均值\\'><nobr>平均<br>(%)</nobr></td>    <td colspan=\\'3\\' title=\\'歷年股東權益報酬率成長狀況統計\\'><nobr>均成長<br>(百分點)</nobr></td>    <td colspan=\\'3\\' title=\\'歷年資產報酬率平均值\\'><nobr>平均<br>(%)</nobr></td>    <td colspan=\\'3\\' title=\\'歷年資產報酬率成長狀況統計\\'><nobr>均成長<br>(百分點)</nobr></td>    <td colspan=\\'3\\' title=\\'歷年每股稅後盈餘平均值\\'><nobr>平均</nobr></td>    <td colspan=\\'3\\' title=\\'歷年每股稅後盈餘成長平均值\\'><nobr>均成長</nobr></td>    <td colspan=\\'2\\' title=\\'歷年股價年均值 / 該年度EPS = 平均本益比\\'><nobr>平均</nobr></td>    <td colspan=\\'2\\' title=\\'歷年股價最低值 / 該年度EPS = 平均最低本益比\\'><nobr>最低</nobr></td>    <td colspan=\\'2\\' title=\\'歷年股價最高值 / 該年度EPS = 平均最高本益比\\'><nobr>最高</nobr></td>    <td colspan=\\'3\\' title=\\'歷年每股淨值平均\\'><nobr>平均</nobr></td>    <td colspan=\\'3\\' title=\\'歷年每股淨值成長率平均值\\'><nobr>均成長</nobr></td>    <td colspan=\\'2\\' title=\\'歷年股價年均值 / 該年度BPS = 平均股價淨值比\\'><nobr>平均</nobr></td>    <td colspan=\\'2\\' title=\\'歷年股價最低值 / 該年度BPS = 平均最低股價淨值比\\'><nobr>最低</nobr></td>    <td colspan=\\'2\\' title=\\'歷年股價最高值 / 該年度BPS = 平均最高股價淨值比\\'><nobr>最高</nobr></td>  </tr><tr align=\\'center\\' bgcolor=\\'white\\' height=\\'23px\\' OnMouseOver=\\'this.style.background=\"#fff2cc\";\\' OnMouseOut=\\'this.style.background=\"white\";\\'>  <td colspan=\\'3\\' title=\\'以一般方式直接將歷年資料加以平均\\'>一般平均</td>  <td colspan=\\'3\\' >11.73</td>  <td colspan=\\'3\\' style=\\'color:green\\'>-0.19</td>  <td colspan=\\'3\\' >7.71</td>  <td colspan=\\'3\\' style=\\'color:green\\'>-0.21</td>  <td colspan=\\'3\\' >2.38</td>  <td colspan=\\'3\\' style=\\'color:red\\'>+0.18</td>  <td colspan=\\'2\\' >11.24</td>  <td colspan=\\'2\\' >8.19</td>  <td colspan=\\'2\\' >14.6</td>  <td colspan=\\'3\\'>20.16</td>  <td colspan=\\'3\\' style=\\'color:red\\'>+0.53</td>  <td colspan=\\'2\\'>1.33</td>  <td colspan=\\'2\\'>0.97</td>  <td colspan=\\'2\\'>1.73</td></tr><tr align=\\'center\\' bgcolor=\\'white\\' height=\\'23px\\' OnMouseOver=\\'this.style.background=\"#fff2cc\";\\' OnMouseOut=\\'this.style.background=\"white\";\\'>  <td colspan=\\'3\\' title=\\'參考股本與時間因素,將歷年資料予以加權後再平均,使計算結果更趨近於近期情況\\'>加權平均</td>  <td colspan=\\'3\\' >11.67</td>  <td colspan=\\'3\\' style=\\'color:red\\'>+0.06</td>  <td colspan=\\'3\\' >7.48</td>  <td colspan=\\'3\\' style=\\'color:green\\'>-0.09</td>  <td colspan=\\'3\\' >2.57</td>  <td colspan=\\'3\\' style=\\'color:red\\'>+0.1</td>  <td colspan=\\'2\\' >10.33</td>  <td colspan=\\'2\\' >8.04</td>  <td colspan=\\'2\\' >12.88</td>  <td colspan=\\'3\\'>21.97</td>  <td colspan=\\'3\\' style=\\'color:red\\'>+0.82</td>  <td colspan=\\'2\\'>1.21</td>  <td colspan=\\'2\\'>0.94</td>  <td colspan=\\'2\\'>1.51</td></tr>  <tr align=\\'center\\' bgcolor=\\'#ebf3fa\\' height=\\'23px\\'>    <td colspan=\\'3\\' rowspan=\\'2\\'><nobr style=\\'color:red\\'>19年EPS</nobr><br><nobr style=\\'color:green\\'>3.26&nbsp;元</nobr></td>    <td colspan=\\'6\\'><nobr>股票股利</nobr></td>    <td colspan=\\'6\\'><nobr>現金股利</nobr></td>    <td colspan=\\'6\\'><nobr>股利合計</nobr></td>    <td colspan=\\'6\\'><nobr>股票殖利率(%)</nobr></td>    <td colspan=\\'6\\'><nobr>現金殖利率(%)</nobr></td>    <td colspan=\\'6\\'><nobr>合計殖利率(%)</nobr></td>  </tr>  <tr align=\\'center\\' bgcolor=\\'#ebf3fa\\' height=\\'23px\\'>    <td colspan=\\'2\\' title=\\'歷年股票股利平均值\\'><nobr>平均<br>(元)</nobr></td>    <td colspan=\\'2\\' title=\\'歷年股票股利成長數平均值\\'><nobr>均成長<br>(元)</nobr></td>    <td colspan=\\'2\\' title=\\'歷年填權日數平均值\\'><nobr>填權<br>日數</nobr></td>    <td colspan=\\'2\\' title=\\'歷年現金股利平均值\\'><nobr>平均<br>(元)</nobr></td>    <td colspan=\\'2\\' title=\\'歷年現金股利成長數平均值\\'><nobr>均成長<br>(元)</nobr></td>    <td colspan=\\'2\\' title=\\'歷年填息日數平均值\\'><nobr>填息<br>日數</nobr></td>    <td colspan=\\'3\\' title=\\'歷年股利總和平均值\\'><nobr>平均<br>(元)</nobr></td>    <td colspan=\\'3\\' title=\\'歷年股利總和成長數平均值\\'><nobr>均成長<br>(元)</nobr></td>    <td colspan=\\'2\\' title=\\'歷年股票股利 / 該年度股價年均值 = 平均股票殖利率\\'><nobr>平均</nobr></td>    <td colspan=\\'2\\' title=\\'歷年股票股利 / 該年度股價最低值 = 平均最高股票殖利率\\'><nobr>最高</nobr></td>    <td colspan=\\'2\\' title=\\'歷年股票股利 / 該年度股價最高值 = 平均最低股票殖利率\\'><nobr>最低</nobr></td>    <td colspan=\\'2\\' title=\\'歷年現金股利 / 該年度股價年均值 = 平均現金殖利率\\'><nobr>平均</nobr></td>    <td colspan=\\'2\\' title=\\'歷年現金股利 / 該年度股價最低值 = 平均最高現金殖利率\\'><nobr>最高</nobr></td>    <td colspan=\\'2\\' title=\\'歷年現金股利 / 該年度股價最高值 = 平均最低現金殖利率\\'><nobr>最低</nobr></td>    <td colspan=\\'2\\' title=\\'歷年股利合計 / 該年度股價年均值 = 平均合計殖利率\\'><nobr>平均</nobr></td>    <td colspan=\\'2\\' title=\\'歷年股利合計 / 該年度股價最低值 = 平均最高合計殖利率\\'><nobr>最高</nobr></td>    <td colspan=\\'2\\' title=\\'歷年股利合計 / 該年度股價最高值 = 平均最低合計殖利率\\'><nobr>最低</nobr></td>  </tr><tr align=\\'center\\' bgcolor=\\'white\\' height=\\'23px\\'  OnMouseOver=\\'this.style.background=\"#fff2cc\";\\'  OnMouseOut=\\'this.style.background=\"white\";\\'>  <td colspan=\\'3\\' title=\\'以一般方式直接將歷年資料加以平均\\'>一般平均</td>  <td colspan=\\'2\\'>0.36</td>  <td colspan=\\'2\\' style=\\'color:green\\'>-0.11</td>  <td colspan=\\'2\\'>198</td>  <td colspan=\\'2\\'>1.32</td>  <td colspan=\\'2\\' style=\\'color:red\\'>+0.12</td>  <td colspan=\\'2\\'>176</td>  <td colspan=\\'3\\'>1.67</td>  <td colspan=\\'3\\' style=\\'color:red\\'>+0.01</td>  <td colspan=\\'2\\'>0.98</td>  <td colspan=\\'2\\'>1.68</td>  <td colspan=\\'2\\'>0.67</td>  <td colspan=\\'2\\'>5.42</td>  <td colspan=\\'2\\'>7.86</td>  <td colspan=\\'2\\'>4.27</td>  <td colspan=\\'2\\'>6.4</td>  <td colspan=\\'2\\'>9.54</td>  <td colspan=\\'2\\'>4.95</td></tr><tr align=\\'center\\' bgcolor=\\'white\\' height=\\'23px\\'  OnMouseOver=\\'this.style.background=\"#fff2cc\";\\'  OnMouseOut=\\'this.style.background=\"white\";\\'>  <td colspan=\\'3\\' title=\\'參考股本與時間因素,將歷年資料予以加權後再平均,使計算結果更趨近於近期情況\\'>加權平均</td>  <td colspan=\\'2\\'>0.05</td>  <td colspan=\\'2\\' style=\\'color:green\\'>-0.03</td>  <td colspan=\\'2\\'>14.9</td>  <td colspan=\\'2\\'>1.74</td>  <td colspan=\\'2\\' style=\\'color:red\\'>+0.09</td>  <td colspan=\\'2\\'>154</td>  <td colspan=\\'3\\'>1.8</td>  <td colspan=\\'3\\' style=\\'color:red\\'>+0.06</td>  <td colspan=\\'2\\'>0.25</td>  <td colspan=\\'2\\'>0.5</td>  <td colspan=\\'2\\'>0.17</td>  <td colspan=\\'2\\'>6.35</td>  <td colspan=\\'2\\'>8.67</td>  <td colspan=\\'2\\'>5.1</td>  <td colspan=\\'2\\'>6.59</td>  <td colspan=\\'2\\'>9.16</td>  <td colspan=\\'2\\'>5.27</td></tr></table></div></div><p style=\\'margin-top:0px;margin-bottom:14px\\'></p><table class=\\'none_tbl\\' id=\\'AD17\\' style=\\'height:232px;\\' width=\\'100%\\' bgcolor=\\'white\\'><tr height=\\'16px\\'><td></td></tr><tr height=\\'200px\\'><td align=\\'center\\' valign=\\'middle\\' style=\\'position:relative;\\'><div onclick=\\'var o=this;o.style.display=\"none\";setTimeout(function(){o.style.display=\"\";},2000);\\' style=\\'z-index:11;position:absolute;left:50%;transform:translateX(-50%);width:784px;height:10px;\\'></div><div onclick=\\'var o=this;o.style.display=\"none\";setTimeout(function(){o.style.display=\"\";},2000);\\' style=\\'z-index:11;position:absolute;left:50%;top:100%;transform:translate(-50%,-9px);width:784px;height:10px;\\'></div><div onclick=\\'var o=this;o.style.display=\"none\";setTimeout(function(){o.style.display=\"\";},2000);\\' style=\\'z-index:11;position:absolute;left:50%;transform:translateX(-401px);width:10px;height:201px;\\'></div><div onclick=\\'var o=this;o.style.display=\"none\";setTimeout(function(){o.style.display=\"\";},2000);\\' style=\\'z-index:11;position:absolute;left:50%;transform:translateX(391px);width:10px;height:201px;\\'></div><div id=\\'DFP_8352728565\\' style=\\'width:800px;text-align:center;\\'></div></td></tr><tr height=\\'16px\\'><td></td></tr></table><script type=\\'text/javascript\\'>ADList.push(\"AD17\");googletag.cmd.push(function() {  googletag.defineSlot(\\'/166795457/TW_800x200_2\\', [800,200], \\'DFP_8352728565\\').addService(googletag.pubads());  googletag.pubads().enableSingleRequest();  googletag.enableServices();  googletag.display(\\'DFP_8352728565\\');});</script><p style=\\'margin-top:0px;margin-bottom:14px\\'></p>\\r\\n      <div id=\\'txtFinDetailData\\'><table class=\\'solid_1_padding_4_2_tbl\\' width=\\'100%\\' border=\\'0\\' cellpadding=\\'0\\' cellspacing=\\'0\\' bgcolor=\\'#d2d2d2\\' style=\\'font-size:10pt;\\'><tr bgcolor=\\'#d7e6f4\\' valign=\\'bottom\\'><td><table class=\\'none_tbl\\' width=\\'100%\\'><tr><td>&nbsp;<input type=\\'button\\' value=\\'獲利指標\\' onclick=\"ChgFinDetailSheet(this);\" style=\\'padding:0;height:23px;width:72px;color:blue;font-weight:bold;\\'><input type=\\'button\\' value=\\'年增統計\\' onclick=\"ChgFinDetailSheet(this);\" style=\\'padding:0;height:23px;width:72px;\\'><input type=\\'button\\' value=\\'股利統計\\' onclick=\"ChgFinDetailSheet(this);\" style=\\'padding:0;height:23px;width:72px;\\'><input type=\\'button\\' value=\\'PER/PBR\\' onclick=\"ChgFinDetailSheet(this);\" style=\\'padding:0;height:23px;width:72px;\\'><nobr id=\\'txtFinDetailLoading\\' style=\\'color:gray;display:none;\\'>&nbsp;&nbsp;(&nbsp;資料載入中...&nbsp;)</nobr></td><td align=\\'right\\'><input type=\\'button\\' value=\\'匯出XLS\\' onclick=\"export2xls(divFinDetail.innerHTML,\\'BzPerformance.xls\\');\">&nbsp;<input type=\\'button\\' value=\\'匯出HTML\\' onclick=\"export2html(divFinDetail.innerHTML,\\'BzPerformance.html\\');\">&nbsp;&nbsp;&nbsp;&nbsp;</td></tr></table></td></tr></table><script language=\\'javascript\\'>function ChgFinDetailSheet(obj) {    if (obj.style.color == \\'blue\\') { return; }    ReloadReport(\\'StockBzPerformance.asp?STOCK_ID=6257&YEAR_PERIOD=9999&RPT_CAT=M%5FYEAR&STEP=DATA&SHEET=\\'+encodeURIComponent(obj.value),txtFinDetailData,txtFinDetailLoading);}</script><div style=\\'position:relative;width:812px;\\'><div id=\\'divFinDetail\\' style=\\'overflow-x:auto;overflow-y:hidden;border:solid #d2d2d2 0px;display:;\\'><table class=\\'solid_1_padding_4_0_tbl\\' width=\\'100%\\' style=\\'font-size:10pt;line-height:17px;\\'><thead><tr align=\\'center\\' bgcolor=\\'#d7e6f4\\' height=\\'23px\\'><td rowspan=\\'2\\'><nobr>年度</nobr></td><td rowspan=\\'2\\'><nobr>股本<br>(億)</nobr></td><td rowspan=\\'2\\'><nobr>財報<br>評分</nobr></td><td colspan=\\'4\\'><nobr>年度股價(元)</nobr></td><td colspan=\\'5\\'><nobr>獲利金額(億)</nobr></td><td colspan=\\'4\\'><nobr>獲利率(%)</nobr></td><td rowspan=\\'2\\'><nobr>ROE<br>(%)</nobr></td><td rowspan=\\'2\\'><nobr>ROA<br>(%)</nobr></td><td colspan=\\'2\\'><nobr>EPS(元)</nobr></td><td rowspan=\\'2\\'><nobr>BPS<br>(元)</nobr></td></tr><tr align=\\'center\\' bgcolor=\\'#d7e6f4\\' height=\\'40px\\'><td><nobr>收盤</nobr></td><td title=\\'年度平均收盤價\\'><nobr>平均</nobr></td><td><nobr>漲跌</nobr></td><td><nobr>漲跌<br>(%)</nobr></td><td><nobr>營業<br>收入</nobr></td><td><nobr>營業<br>毛利</nobr></td><td><nobr>營業<br>利益</nobr></td><td><nobr>業外<br>損益</nobr></td><td><nobr>稅後<br>淨利</nobr></td><td><nobr>營業<br>毛利</nobr></td><td><nobr>營業<br>利益</nobr></td><td><nobr>業外<br>損益</nobr></td><td><nobr>稅後<br>淨利</nobr></td><td><nobr>稅後<br>EPS</nobr></td><td><nobr>年增<br>(元)</nobr></td></tr></thead><tr id=\\'row0\\' align=\\'center\\' bgcolor=\\'#ffffff\\' height=\\'23px\\'  OnMouseOver=\"ChgBGColor([\\'rowh0\\',\\'row0\\'],\\'#fff2cc\\');\"  OnMouseOut=\"ChgBGColor([\\'rowh0\\',\\'row0\\'],\\'#ffffff\\');\"><td><nobr>20Q2</nobr></td><td><nobr><a title=\\'查看2020Q2資產負債表\\' class=\\'link_black\\' href=\\'StockFinDetail.asp?RPT_CAT=BS_M_QUAR&LAST_RPT_CAT=BS_M_QUAR&STOCK_ID=6257&QRY_TIME=20202\\' target=\\'_self\\'>42.2</a></nobr></td><td><nobr><a title=\\'查看2020Q2財報評分\\' class=\\'link_black\\' href=\\'StockFinGrade.asp?STOCK_ID=6257&QRY_TIME=20202&RPT_CAT=M_QUAR\\' target=\\'_self\\'>62</a></nobr></td><td><nobr><a title=\\'查看個股日K線圖\\' class=\\'link_black\\' href=\\'ShowK_Chart.asp?STOCK_ID=6257&CHT_NM=%E5%80%8B%E8%82%A1K%E7%B7%9A%E5%9C%96&CHT_CAT=%E6%97%A5%E7%B7%9A%E5%9C%96&CHT_CAT2=DATE\\' target=\\'_self\\'>38.8</a></nobr></td><td><nobr><a title=\\'查看個股日K線圖\\' class=\\'link_black\\' href=\\'ShowK_Chart.asp?STOCK_ID=6257&CHT_NM=%E5%80%8B%E8%82%A1K%E7%B7%9A%E5%9C%96&CHT_CAT=%E6%97%A5%E7%B7%9A%E5%9C%96&CHT_CAT2=DATE\\' target=\\'_self\\'>37.9</a></nobr></td><td><nobr><a title=\\'查看個股日K線圖\\' class=\\'link_red\\' href=\\'ShowK_Chart.asp?STOCK_ID=6257&CHT_NM=%E5%80%8B%E8%82%A1K%E7%B7%9A%E5%9C%96&CHT_CAT=%E6%97%A5%E7%B7%9A%E5%9C%96&CHT_CAT2=DATE\\' target=\\'_self\\'>+1.7</a></nobr></td><td><nobr><a title=\\'查看個股日K線圖\\' class=\\'link_red\\' href=\\'ShowK_Chart.asp?STOCK_ID=6257&CHT_NM=%E5%80%8B%E8%82%A1K%E7%B7%9A%E5%9C%96&CHT_CAT=%E6%97%A5%E7%B7%9A%E5%9C%96&CHT_CAT2=DATE\\' target=\\'_self\\'>+4.6</a></nobr></td><td><nobr><a title=\\'查看2020Q2損益表\\' class=\\'link_black\\' href=\\'StockFinDetail.asp?RPT_CAT=IS_M_QUAR&LAST_RPT_CAT=IS_M_QUAR&STOCK_ID=6257&QRY_TIME=20202\\' target=\\'_self\\'>56.2</a></nobr></td><td><nobr><a title=\\'查看2020Q2損益表\\' class=\\'link_black\\' href=\\'StockFinDetail.asp?RPT_CAT=IS_M_QUAR&LAST_RPT_CAT=IS_M_QUAR&STOCK_ID=6257&QRY_TIME=20202\\' target=\\'_self\\'>15.5</a></nobr></td><td><nobr><a title=\\'查看2020Q2損益表\\' class=\\'link_black\\' href=\\'StockFinDetail.asp?RPT_CAT=IS_M_QUAR&LAST_RPT_CAT=IS_M_QUAR&STOCK_ID=6257&QRY_TIME=20202\\' target=\\'_self\\'>9.66</a></nobr></td><td><nobr><a title=\\'查看2020Q2損益表\\' class=\\'link_black\\' href=\\'StockFinDetail.asp?RPT_CAT=IS_M_QUAR&LAST_RPT_CAT=IS_M_QUAR&STOCK_ID=6257&QRY_TIME=20202\\' target=\\'_self\\'>0.17</a></nobr></td><td><nobr><a title=\\'查看2020Q2損益表\\' class=\\'link_black\\' href=\\'StockFinDetail.asp?RPT_CAT=IS_M_QUAR&LAST_RPT_CAT=IS_M_QUAR&STOCK_ID=6257&QRY_TIME=20202\\' target=\\'_self\\'>7.97</a></nobr></td><td><nobr><a title=\\'查看2020Q2財務比率表\\' class=\\'link_black\\' href=\\'StockFinDetail.asp?RPT_CAT=XX_M_QUAR&LAST_RPT_CAT=XX_M_QUAR&STOCK_ID=6257&QRY_TIME=20202\\' target=\\'_self\\'>27.5</a></nobr></td><td><nobr><a title=\\'查看2020Q2財務比率表\\' class=\\'link_black\\' href=\\'StockFinDetail.asp?RPT_CAT=XX_M_QUAR&LAST_RPT_CAT=XX_M_QUAR&STOCK_ID=6257&QRY_TIME=20202\\' target=\\'_self\\'>17.2</a></nobr></td><td><nobr><a title=\\'查看2020Q2財務比率表\\' class=\\'link_black\\' href=\\'StockFinDetail.asp?RPT_CAT=XX_M_QUAR&LAST_RPT_CAT=XX_M_QUAR&STOCK_ID=6257&QRY_TIME=20202\\' target=\\'_self\\'>0.3</a></nobr></td><td><nobr><a title=\\'查看2020Q2財務比率表\\' class=\\'link_black\\' href=\\'StockFinDetail.asp?RPT_CAT=XX_M_QUAR&LAST_RPT_CAT=XX_M_QUAR&STOCK_ID=6257&QRY_TIME=20202\\' target=\\'_self\\'>14.8</a></nobr></td><td><nobr><a title=\\'查看2020Q2財務比率表\\' class=\\'link_black\\' style=\\'line-height:10pt;\\' href=\\'StockFinDetail.asp?RPT_CAT=XX_M_QUAR_ACC&LAST_RPT_CAT=XX_M_QUAR_ACC&STOCK_ID=6257&QRY_TIME=20202\\' target=\\'_self\\'>12.4</a><div style=\\'font-size:8pt;color:gray;line-height:9pt;\\'>(年估)</div></nobr></td><td><nobr><a title=\\'查看2020Q2財務比率表\\' class=\\'link_black\\' style=\\'line-height:10pt;\\' href=\\'StockFinDetail.asp?RPT_CAT=XX_M_QUAR_ACC&LAST_RPT_CAT=XX_M_QUAR_ACC&STOCK_ID=6257&QRY_TIME=20202\\' target=\\'_self\\'>6.46</a><div style=\\'font-size:8pt;color:gray;line-height:9pt;\\'>(年估)</div></nobr></td><td><nobr><a title=\\'查看2020Q2財務比率表\\' class=\\'link_black\\' href=\\'StockFinDetail.asp?RPT_CAT=XX_M_QUAR&LAST_RPT_CAT=XX_M_QUAR&STOCK_ID=6257&QRY_TIME=20202\\' target=\\'_self\\'>1.89</a></nobr></td><td><nobr><a title=\\'查看2020Q2財務比率表\\' class=\\'link_red\\' href=\\'StockFinDetail.asp?RPT_CAT=XX_M_QUAR&LAST_RPT_CAT=XX_M_QUAR&STOCK_ID=6257&QRY_TIME=20202\\' target=\\'_self\\'>+0.67</a></nobr></td><td><nobr><a title=\\'查看2020Q2資產負債表\\' class=\\'link_black\\' href=\\'StockFinDetail.asp?RPT_CAT=BS_M_QUAR&LAST_RPT_CAT=BS_M_QUAR&STOCK_ID=6257&QRY_TIME=20202\\' target=\\'_self\\'>26.25</a></nobr></td></tr><tr id=\\'row1\\' align=\\'center\\' bgcolor=\\'#f0f0f0\\' height=\\'23px\\'  OnMouseOver=\"ChgBGColor([\\'rowh1\\',\\'row1\\'],\\'#fff2cc\\');\"  OnMouseOut=\"ChgBGColor([\\'rowh1\\',\\'row1\\'],\\'#f0f0f0\\');\"><td><nobr>2019</nobr></td><td><nobr><a title=\\'查看2019資產負債表\\' class=\\'link_black\\' href=\\'StockFinDetail.asp?RPT_CAT=BS_M_YEAR&LAST_RPT_CAT=BS_M_YEAR&STOCK_ID=6257&QRY_TIME=2019\\' target=\\'_self\\'>42.1</a></nobr></td><td><nobr><a title=\\'查看2019財報評分\\' class=\\'link_black\\' href=\\'StockFinGrade.asp?STOCK_ID=6257&QRY_TIME=2019&RPT_CAT=M_YEAR\\' target=\\'_self\\'>62</a></nobr></td><td><nobr><a title=\\'查看個股日K線圖\\' class=\\'link_black\\' href=\\'ShowK_Chart.asp?STOCK_ID=6257&CHT_NM=%E5%80%8B%E8%82%A1K%E7%B7%9A%E5%9C%96&CHT_CAT=%E6%97%A5%E7%B7%9A%E5%9C%96&CHT_CAT2=DATE\\' target=\\'_self\\'>37.1</a></nobr></td><td><nobr><a title=\\'查看個股日K線圖\\' class=\\'link_black\\' href=\\'ShowK_Chart.asp?STOCK_ID=6257&CHT_NM=%E5%80%8B%E8%82%A1K%E7%B7%9A%E5%9C%96&CHT_CAT=%E6%97%A5%E7%B7%9A%E5%9C%96&CHT_CAT2=DATE\\' target=\\'_self\\'>31.5</a></nobr></td><td><nobr><a title=\\'查看個股日K線圖\\' class=\\'link_red\\' href=\\'ShowK_Chart.asp?STOCK_ID=6257&CHT_NM=%E5%80%8B%E8%82%A1K%E7%B7%9A%E5%9C%96&CHT_CAT=%E6%97%A5%E7%B7%9A%E5%9C%96&CHT_CAT2=DATE\\' target=\\'_self\\'>+10.05</a></nobr></td><td><nobr><a title=\\'查看個股日K線圖\\' class=\\'link_red\\' href=\\'ShowK_Chart.asp?STOCK_ID=6257&CHT_NM=%E5%80%8B%E8%82%A1K%E7%B7%9A%E5%9C%96&CHT_CAT=%E6%97%A5%E7%B7%9A%E5%9C%96&CHT_CAT2=DATE\\' target=\\'_self\\'>+37.2</a></nobr></td><td><nobr><a title=\\'查看2019損益表\\' class=\\'link_black\\' href=\\'StockFinDetail.asp?RPT_CAT=IS_M_YEAR&LAST_RPT_CAT=IS_M_YEAR&STOCK_ID=6257&QRY_TIME=2019\\' target=\\'_self\\'>100</a></nobr></td><td><nobr><a title=\\'查看2019損益表\\' class=\\'link_black\\' href=\\'StockFinDetail.asp?RPT_CAT=IS_M_YEAR&LAST_RPT_CAT=IS_M_YEAR&STOCK_ID=6257&QRY_TIME=2019\\' target=\\'_self\\'>30.4</a></nobr></td><td><nobr><a title=\\'查看2019損益表\\' class=\\'link_black\\' href=\\'StockFinDetail.asp?RPT_CAT=IS_M_YEAR&LAST_RPT_CAT=IS_M_YEAR&STOCK_ID=6257&QRY_TIME=2019\\' target=\\'_self\\'>20.7</a></nobr></td><td><nobr><a title=\\'查看2019損益表\\' class=\\'link_green\\' href=\\'StockFinDetail.asp?RPT_CAT=IS_M_YEAR&LAST_RPT_CAT=IS_M_YEAR&STOCK_ID=6257&QRY_TIME=2019\\' target=\\'_self\\'>-0.01</a></nobr></td><td><nobr><a title=\\'查看2019損益表\\' class=\\'link_black\\' href=\\'StockFinDetail.asp?RPT_CAT=IS_M_YEAR&LAST_RPT_CAT=IS_M_YEAR&STOCK_ID=6257&QRY_TIME=2019\\' target=\\'_self\\'>12.9</a></nobr></td><td><nobr><a title=\\'查看2019財務比率表\\' class=\\'link_black\\' href=\\'StockFinDetail.asp?RPT_CAT=XX_M_YEAR&LAST_RPT_CAT=XX_M_YEAR&STOCK_ID=6257&QRY_TIME=2019\\' target=\\'_self\\'>30.3</a></nobr></td><td><nobr><a title=\\'查看2019財務比率表\\' class=\\'link_black\\' href=\\'StockFinDetail.asp?RPT_CAT=XX_M_YEAR&LAST_RPT_CAT=XX_M_YEAR&STOCK_ID=6257&QRY_TIME=2019\\' target=\\'_self\\'>20.6</a></nobr></td><td><nobr><a title=\\'查看2019財務比率表\\' class=\\'link_green\\' href=\\'StockFinDetail.asp?RPT_CAT=XX_M_YEAR&LAST_RPT_CAT=XX_M_YEAR&STOCK_ID=6257&QRY_TIME=2019\\' target=\\'_self\\'>-0.01</a></nobr></td><td><nobr><a title=\\'查看2019財務比率表\\' class=\\'link_black\\' href=\\'StockFinDetail.asp?RPT_CAT=XX_M_YEAR&LAST_RPT_CAT=XX_M_YEAR&STOCK_ID=6257&QRY_TIME=2019\\' target=\\'_self\\'>15.6</a></nobr></td><td><nobr><a title=\\'查看2019財務比率表\\' class=\\'link_black\\' href=\\'StockFinDetail.asp?RPT_CAT=XX_M_YEAR&LAST_RPT_CAT=XX_M_YEAR&STOCK_ID=6257&QRY_TIME=2019\\' target=\\'_self\\'>12.3</a></nobr></td><td><nobr><a title=\\'查看2019財務比率表\\' class=\\'link_black\\' href=\\'StockFinDetail.asp?RPT_CAT=XX_M_YEAR&LAST_RPT_CAT=XX_M_YEAR&STOCK_ID=6257&QRY_TIME=2019\\' target=\\'_self\\'>7.07</a></nobr></td><td><nobr><a title=\\'查看2019財務比率表\\' class=\\'link_black\\' href=\\'StockFinDetail.asp?RPT_CAT=XX_M_YEAR&LAST_RPT_CAT=XX_M_YEAR&STOCK_ID=6257&QRY_TIME=2019\\' target=\\'_self\\'>3.26</a></nobr></td><td><nobr><a title=\\'查看2019財務比率表\\' class=\\'link_red\\' href=\\'StockFinDetail.asp?RPT_CAT=XX_M_YEAR&LAST_RPT_CAT=XX_M_YEAR&STOCK_ID=6257&QRY_TIME=2019\\' target=\\'_self\\'>+0.25</a></nobr></td><td><nobr><a title=\\'查看2019資產負債表\\' class=\\'link_black\\' href=\\'StockFinDetail.asp?RPT_CAT=BS_M_YEAR&LAST_RPT_CAT=BS_M_YEAR&STOCK_ID=6257&QRY_TIME=2019\\' target=\\'_self\\'>26.75</a></nobr></td></tr><tr id=\\'row2\\' align=\\'center\\' bgcolor=\\'#ffffff\\' height=\\'23px\\'  OnMouseOver=\"ChgBGColor([\\'rowh2\\',\\'row2\\'],\\'#fff2cc\\');\"  OnMouseOut=\"ChgBGColor([\\'rowh2\\',\\'row2\\'],\\'#ffffff\\');\"><td><nobr>2018</nobr></td><td><nobr><a title=\\'查看2018資產負債表\\' class=\\'link_black\\' href=\\'StockFinDetail.asp?RPT_CAT=BS_M_YEAR&LAST_RPT_CAT=BS_M_YEAR&STOCK_ID=6257&QRY_TIME=2018\\' target=\\'_self\\'>39</a></nobr></td><td><nobr><a title=\\'查看2018財報評分\\' class=\\'link_black\\' href=\\'StockFinGrade.asp?STOCK_ID=6257&QRY_TIME=2018&RPT_CAT=M_YEAR\\' target=\\'_self\\'>64</a></nobr></td><td><nobr><a title=\\'查看個股日K線圖\\' class=\\'link_black\\' href=\\'ShowK_Chart.asp?STOCK_ID=6257&CHT_NM=%E5%80%8B%E8%82%A1K%E7%B7%9A%E5%9C%96&CHT_CAT=%E6%97%A5%E7%B7%9A%E5%9C%96&CHT_CAT2=DATE\\' target=\\'_self\\'>27.05</a></nobr></td><td><nobr><a title=\\'查看個股日K線圖\\' class=\\'link_black\\' href=\\'ShowK_Chart.asp?STOCK_ID=6257&CHT_NM=%E5%80%8B%E8%82%A1K%E7%B7%9A%E5%9C%96&CHT_CAT=%E6%97%A5%E7%B7%9A%E5%9C%96&CHT_CAT2=DATE\\' target=\\'_self\\'>34.3</a></nobr></td><td><nobr><a title=\\'查看個股日K線圖\\' class=\\'link_green\\' href=\\'ShowK_Chart.asp?STOCK_ID=6257&CHT_NM=%E5%80%8B%E8%82%A1K%E7%B7%9A%E5%9C%96&CHT_CAT=%E6%97%A5%E7%B7%9A%E5%9C%96&CHT_CAT2=DATE\\' target=\\'_self\\'>-5.9</a></nobr></td><td><nobr><a title=\\'查看個股日K線圖\\' class=\\'link_green\\' href=\\'ShowK_Chart.asp?STOCK_ID=6257&CHT_NM=%E5%80%8B%E8%82%A1K%E7%B7%9A%E5%9C%96&CHT_CAT=%E6%97%A5%E7%B7%9A%E5%9C%96&CHT_CAT2=DATE\\' target=\\'_self\\'>-17.9</a></nobr></td><td><nobr><a title=\\'查看2018損益表\\' class=\\'link_black\\' href=\\'StockFinDetail.asp?RPT_CAT=IS_M_YEAR&LAST_RPT_CAT=IS_M_YEAR&STOCK_ID=6257&QRY_TIME=2018\\' target=\\'_self\\'>95.4</a></nobr></td><td><nobr><a title=\\'查看2018損益表\\' class=\\'link_black\\' href=\\'StockFinDetail.asp?RPT_CAT=IS_M_YEAR&LAST_RPT_CAT=IS_M_YEAR&STOCK_ID=6257&QRY_TIME=2018\\' target=\\'_self\\'>26.6</a></nobr></td><td><nobr><a title=\\'查看2018損益表\\' class=\\'link_black\\' href=\\'StockFinDetail.asp?RPT_CAT=IS_M_YEAR&LAST_RPT_CAT=IS_M_YEAR&STOCK_ID=6257&QRY_TIME=2018\\' target=\\'_self\\'>17.3</a></nobr></td><td><nobr><a title=\\'查看2018損益表\\' class=\\'link_black\\' href=\\'StockFinDetail.asp?RPT_CAT=IS_M_YEAR&LAST_RPT_CAT=IS_M_YEAR&STOCK_ID=6257&QRY_TIME=2018\\' target=\\'_self\\'>0.67</a></nobr></td><td><nobr><a title=\\'查看2018損益表\\' class=\\'link_black\\' href=\\'StockFinDetail.asp?RPT_CAT=IS_M_YEAR&LAST_RPT_CAT=IS_M_YEAR&STOCK_ID=6257&QRY_TIME=2018\\' target=\\'_self\\'>11.6</a></nobr></td><td><nobr><a title=\\'查看2018財務比率表\\' class=\\'link_black\\' href=\\'StockFinDetail.asp?RPT_CAT=XX_M_YEAR&LAST_RPT_CAT=XX_M_YEAR&STOCK_ID=6257&QRY_TIME=2018\\' target=\\'_self\\'>27.8</a></nobr></td><td><nobr><a title=\\'查看2018財務比率表\\' class=\\'link_black\\' href=\\'StockFinDetail.asp?RPT_CAT=XX_M_YEAR&LAST_RPT_CAT=XX_M_YEAR&STOCK_ID=6257&QRY_TIME=2018\\' target=\\'_self\\'>18.1</a></nobr></td><td><nobr><a title=\\'查看2018財務比率表\\' class=\\'link_black\\' href=\\'StockFinDetail.asp?RPT_CAT=XX_M_YEAR&LAST_RPT_CAT=XX_M_YEAR&STOCK_ID=6257&QRY_TIME=2018\\' target=\\'_self\\'>0.7</a></nobr></td><td><nobr><a title=\\'查看2018財務比率表\\' class=\\'link_black\\' href=\\'StockFinDetail.asp?RPT_CAT=XX_M_YEAR&LAST_RPT_CAT=XX_M_YEAR&STOCK_ID=6257&QRY_TIME=2018\\' target=\\'_self\\'>14.1</a></nobr></td><td><nobr><a title=\\'查看2018財務比率表\\' class=\\'link_black\\' href=\\'StockFinDetail.asp?RPT_CAT=XX_M_YEAR&LAST_RPT_CAT=XX_M_YEAR&STOCK_ID=6257&QRY_TIME=2018\\' target=\\'_self\\'>12.1</a></nobr></td><td><nobr><a title=\\'查看2018財務比率表\\' class=\\'link_black\\' href=\\'StockFinDetail.asp?RPT_CAT=XX_M_YEAR&LAST_RPT_CAT=XX_M_YEAR&STOCK_ID=6257&QRY_TIME=2018\\' target=\\'_self\\'>7.07</a></nobr></td><td><nobr><a title=\\'查看2018財務比率表\\' class=\\'link_black\\' href=\\'StockFinDetail.asp?RPT_CAT=XX_M_YEAR&LAST_RPT_CAT=XX_M_YEAR&STOCK_ID=6257&QRY_TIME=2018\\' target=\\'_self\\'>3.01</a></nobr></td><td><nobr><a title=\\'查看2018財務比率表\\' class=\\'link_red\\' href=\\'StockFinDetail.asp?RPT_CAT=XX_M_YEAR&LAST_RPT_CAT=XX_M_YEAR&STOCK_ID=6257&QRY_TIME=2018\\' target=\\'_self\\'>+0.25</a></nobr></td><td><nobr><a title=\\'查看2018資產負債表\\' class=\\'link_black\\' href=\\'StockFinDetail.asp?RPT_CAT=BS_M_YEAR&LAST_RPT_CAT=BS_M_YEAR&STOCK_ID=6257&QRY_TIME=2018\\' target=\\'_self\\'>25.2</a></nobr></td></tr><tr id=\\'row3\\' align=\\'center\\' bgcolor=\\'#f0f0f0\\' height=\\'23px\\'  OnMouseOver=\"ChgBGColor([\\'rowh3\\',\\'row3\\'],\\'#fff2cc\\');\"  OnMouseOut=\"ChgBGColor([\\'rowh3\\',\\'row3\\'],\\'#f0f0f0\\');\"><td><nobr>2017</nobr></td><td><nobr><a title=\\'查看2017資產負債表\\' class=\\'link_black\\' href=\\'StockFinDetail.asp?RPT_CAT=BS_M_YEAR&LAST_RPT_CAT=BS_M_YEAR&STOCK_ID=6257&QRY_TIME=2017\\' target=\\'_self\\'>36</a></nobr></td><td><nobr><a title=\\'查看2017財報評分\\' class=\\'link_black\\' href=\\'StockFinGrade.asp?STOCK_ID=6257&QRY_TIME=2017&RPT_CAT=M_YEAR\\' target=\\'_self\\'>60</a></nobr></td><td><nobr><a title=\\'查看個股日K線圖\\' class=\\'link_black\\' href=\\'ShowK_Chart.asp?STOCK_ID=6257&CHT_NM=%E5%80%8B%E8%82%A1K%E7%B7%9A%E5%9C%96&CHT_CAT=%E6%97%A5%E7%B7%9A%E5%9C%96&CHT_CAT2=DATE\\' target=\\'_self\\'>32.95</a></nobr></td><td><nobr><a title=\\'查看個股日K線圖\\' class=\\'link_black\\' href=\\'ShowK_Chart.asp?STOCK_ID=6257&CHT_NM=%E5%80%8B%E8%82%A1K%E7%B7%9A%E5%9C%96&CHT_CAT=%E6%97%A5%E7%B7%9A%E5%9C%96&CHT_CAT2=DATE\\' target=\\'_self\\'>27.3</a></nobr></td><td><nobr><a title=\\'查看個股日K線圖\\' class=\\'link_red\\' href=\\'ShowK_Chart.asp?STOCK_ID=6257&CHT_NM=%E5%80%8B%E8%82%A1K%E7%B7%9A%E5%9C%96&CHT_CAT=%E6%97%A5%E7%B7%9A%E5%9C%96&CHT_CAT2=DATE\\' target=\\'_self\\'>+9.65</a></nobr></td><td><nobr><a title=\\'查看個股日K線圖\\' class=\\'link_red\\' href=\\'ShowK_Chart.asp?STOCK_ID=6257&CHT_NM=%E5%80%8B%E8%82%A1K%E7%B7%9A%E5%9C%96&CHT_CAT=%E6%97%A5%E7%B7%9A%E5%9C%96&CHT_CAT2=DATE\\' target=\\'_self\\'>+41.4</a></nobr></td><td><nobr><a title=\\'查看2017損益表\\' class=\\'link_black\\' href=\\'StockFinDetail.asp?RPT_CAT=IS_M_YEAR&LAST_RPT_CAT=IS_M_YEAR&STOCK_ID=6257&QRY_TIME=2017\\' target=\\'_self\\'>68.3</a></nobr></td><td><nobr><a title=\\'查看2017損益表\\' class=\\'link_black\\' href=\\'StockFinDetail.asp?RPT_CAT=IS_M_YEAR&LAST_RPT_CAT=IS_M_YEAR&STOCK_ID=6257&QRY_TIME=2017\\' target=\\'_self\\'>18.7</a></nobr></td><td><nobr><a title=\\'查看2017損益表\\' class=\\'link_black\\' href=\\'StockFinDetail.asp?RPT_CAT=IS_M_YEAR&LAST_RPT_CAT=IS_M_YEAR&STOCK_ID=6257&QRY_TIME=2017\\' target=\\'_self\\'>16.1</a></nobr></td><td><nobr><a title=\\'查看2017損益表\\' class=\\'link_green\\' href=\\'StockFinDetail.asp?RPT_CAT=IS_M_YEAR&LAST_RPT_CAT=IS_M_YEAR&STOCK_ID=6257&QRY_TIME=2017\\' target=\\'_self\\'>-0.04</a></nobr></td><td><nobr><a title=\\'查看2017損益表\\' class=\\'link_black\\' href=\\'StockFinDetail.asp?RPT_CAT=IS_M_YEAR&LAST_RPT_CAT=IS_M_YEAR&STOCK_ID=6257&QRY_TIME=2017\\' target=\\'_self\\'>9.89</a></nobr></td><td><nobr><a title=\\'查看2017財務比率表\\' class=\\'link_black\\' href=\\'StockFinDetail.asp?RPT_CAT=XX_M_YEAR&LAST_RPT_CAT=XX_M_YEAR&STOCK_ID=6257&QRY_TIME=2017\\' target=\\'_self\\'>27.4</a></nobr></td><td><nobr><a title=\\'查看2017財務比率表\\' class=\\'link_black\\' href=\\'StockFinDetail.asp?RPT_CAT=XX_M_YEAR&LAST_RPT_CAT=XX_M_YEAR&STOCK_ID=6257&QRY_TIME=2017\\' target=\\'_self\\'>23.6</a></nobr></td><td><nobr><a title=\\'查看2017財務比率表\\' class=\\'link_green\\' href=\\'StockFinDetail.asp?RPT_CAT=XX_M_YEAR&LAST_RPT_CAT=XX_M_YEAR&STOCK_ID=6257&QRY_TIME=2017\\' target=\\'_self\\'>-0.05</a></nobr></td><td><nobr><a title=\\'查看2017財務比率表\\' class=\\'link_black\\' href=\\'StockFinDetail.asp?RPT_CAT=XX_M_YEAR&LAST_RPT_CAT=XX_M_YEAR&STOCK_ID=6257&QRY_TIME=2017\\' target=\\'_self\\'>17.5</a></nobr></td><td><nobr><a title=\\'查看2017財務比率表\\' class=\\'link_black\\' href=\\'StockFinDetail.asp?RPT_CAT=XX_M_YEAR&LAST_RPT_CAT=XX_M_YEAR&STOCK_ID=6257&QRY_TIME=2017\\' target=\\'_self\\'>13</a></nobr></td><td><nobr><a title=\\'查看2017財務比率表\\' class=\\'link_black\\' href=\\'StockFinDetail.asp?RPT_CAT=XX_M_YEAR&LAST_RPT_CAT=XX_M_YEAR&STOCK_ID=6257&QRY_TIME=2017\\' target=\\'_self\\'>7.43</a></nobr></td><td><nobr><a title=\\'查看2017財務比率表\\' class=\\'link_black\\' href=\\'StockFinDetail.asp?RPT_CAT=XX_M_YEAR&LAST_RPT_CAT=XX_M_YEAR&STOCK_ID=6257&QRY_TIME=2017\\' target=\\'_self\\'>2.76</a></nobr></td><td><nobr><a title=\\'查看2017財務比率表\\' class=\\'link_red\\' href=\\'StockFinDetail.asp?RPT_CAT=XX_M_YEAR&LAST_RPT_CAT=XX_M_YEAR&STOCK_ID=6257&QRY_TIME=2017\\' target=\\'_self\\'>+0.59</a></nobr></td><td><nobr><a title=\\'查看2017資產負債表\\' class=\\'link_black\\' href=\\'StockFinDetail.asp?RPT_CAT=BS_M_YEAR&LAST_RPT_CAT=BS_M_YEAR&STOCK_ID=6257&QRY_TIME=2017\\' target=\\'_self\\'>23.49</a></nobr></td></tr><tr id=\\'row4\\' align=\\'center\\' bgcolor=\\'#ffffff\\' height=\\'23px\\'  OnMouseOver=\"ChgBGColor([\\'rowh4\\',\\'row4\\'],\\'#fff2cc\\');\"  OnMouseOut=\"ChgBGColor([\\'rowh4\\',\\'row4\\'],\\'#ffffff\\');\"><td><nobr>2016</nobr></td><td><nobr><a title=\\'查看2016資產負債表\\' class=\\'link_black\\' href=\\'StockFinDetail.asp?RPT_CAT=BS_M_YEAR&LAST_RPT_CAT=BS_M_YEAR&STOCK_ID=6257&QRY_TIME=2016\\' target=\\'_self\\'>36</a></nobr></td><td><nobr><a title=\\'查看2016財報評分\\' class=\\'link_black\\' href=\\'StockFinGrade.asp?STOCK_ID=6257&QRY_TIME=2016&RPT_CAT=M_YEAR\\' target=\\'_self\\'>62</a></nobr></td><td><nobr><a title=\\'查看個股日K線圖\\' class=\\'link_black\\' href=\\'ShowK_Chart.asp?STOCK_ID=6257&CHT_NM=%E5%80%8B%E8%82%A1K%E7%B7%9A%E5%9C%96&CHT_CAT=%E6%97%A5%E7%B7%9A%E5%9C%96&CHT_CAT2=DATE\\' target=\\'_self\\'>23.3</a></nobr></td><td><nobr><a title=\\'查看個股日K線圖\\' class=\\'link_black\\' href=\\'ShowK_Chart.asp?STOCK_ID=6257&CHT_NM=%E5%80%8B%E8%82%A1K%E7%B7%9A%E5%9C%96&CHT_CAT=%E6%97%A5%E7%B7%9A%E5%9C%96&CHT_CAT2=DATE\\' target=\\'_self\\'>23.4</a></nobr></td><td><nobr><a title=\\'查看個股日K線圖\\' class=\\'link_red\\' href=\\'ShowK_Chart.asp?STOCK_ID=6257&CHT_NM=%E5%80%8B%E8%82%A1K%E7%B7%9A%E5%9C%96&CHT_CAT=%E6%97%A5%E7%B7%9A%E5%9C%96&CHT_CAT2=DATE\\' target=\\'_self\\'>+1.05</a></nobr></td><td><nobr><a title=\\'查看個股日K線圖\\' class=\\'link_red\\' href=\\'ShowK_Chart.asp?STOCK_ID=6257&CHT_NM=%E5%80%8B%E8%82%A1K%E7%B7%9A%E5%9C%96&CHT_CAT=%E6%97%A5%E7%B7%9A%E5%9C%96&CHT_CAT2=DATE\\' target=\\'_self\\'>+4.7</a></nobr></td><td><nobr><a title=\\'查看2016損益表\\' class=\\'link_black\\' href=\\'StockFinDetail.asp?RPT_CAT=IS_M_YEAR&LAST_RPT_CAT=IS_M_YEAR&STOCK_ID=6257&QRY_TIME=2016\\' target=\\'_self\\'>58</a></nobr></td><td><nobr><a title=\\'查看2016損益表\\' class=\\'link_black\\' href=\\'StockFinDetail.asp?RPT_CAT=IS_M_YEAR&LAST_RPT_CAT=IS_M_YEAR&STOCK_ID=6257&QRY_TIME=2016\\' target=\\'_self\\'>16.1</a></nobr></td><td><nobr><a title=\\'查看2016損益表\\' class=\\'link_black\\' href=\\'StockFinDetail.asp?RPT_CAT=IS_M_YEAR&LAST_RPT_CAT=IS_M_YEAR&STOCK_ID=6257&QRY_TIME=2016\\' target=\\'_self\\'>9.6</a></nobr></td><td><nobr><a title=\\'查看2016損益表\\' class=\\'link_black\\' href=\\'StockFinDetail.asp?RPT_CAT=IS_M_YEAR&LAST_RPT_CAT=IS_M_YEAR&STOCK_ID=6257&QRY_TIME=2016\\' target=\\'_self\\'>0.33</a></nobr></td><td><nobr><a title=\\'查看2016損益表\\' class=\\'link_black\\' href=\\'StockFinDetail.asp?RPT_CAT=IS_M_YEAR&LAST_RPT_CAT=IS_M_YEAR&STOCK_ID=6257&QRY_TIME=2016\\' target=\\'_self\\'>7.76</a></nobr></td><td><nobr><a title=\\'查看2016財務比率表\\' class=\\'link_black\\' href=\\'StockFinDetail.asp?RPT_CAT=XX_M_YEAR&LAST_RPT_CAT=XX_M_YEAR&STOCK_ID=6257&QRY_TIME=2016\\' target=\\'_self\\'>27.8</a></nobr></td><td><nobr><a title=\\'查看2016財務比率表\\' class=\\'link_black\\' href=\\'StockFinDetail.asp?RPT_CAT=XX_M_YEAR&LAST_RPT_CAT=XX_M_YEAR&STOCK_ID=6257&QRY_TIME=2016\\' target=\\'_self\\'>16.6</a></nobr></td><td><nobr><a title=\\'查看2016財務比率表\\' class=\\'link_black\\' href=\\'StockFinDetail.asp?RPT_CAT=XX_M_YEAR&LAST_RPT_CAT=XX_M_YEAR&STOCK_ID=6257&QRY_TIME=2016\\' target=\\'_self\\'>0.56</a></nobr></td><td><nobr><a title=\\'查看2016財務比率表\\' class=\\'link_black\\' href=\\'StockFinDetail.asp?RPT_CAT=XX_M_YEAR&LAST_RPT_CAT=XX_M_YEAR&STOCK_ID=6257&QRY_TIME=2016\\' target=\\'_self\\'>13.8</a></nobr></td><td><nobr><a title=\\'查看2016財務比率表\\' class=\\'link_black\\' href=\\'StockFinDetail.asp?RPT_CAT=XX_M_YEAR&LAST_RPT_CAT=XX_M_YEAR&STOCK_ID=6257&QRY_TIME=2016\\' target=\\'_self\\'>10</a></nobr></td><td><nobr><a title=\\'查看2016財務比率表\\' class=\\'link_black\\' href=\\'StockFinDetail.asp?RPT_CAT=XX_M_YEAR&LAST_RPT_CAT=XX_M_YEAR&STOCK_ID=6257&QRY_TIME=2016\\' target=\\'_self\\'>6.17</a></nobr></td><td><nobr><a title=\\'查看2016財務比率表\\' class=\\'link_black\\' href=\\'StockFinDetail.asp?RPT_CAT=XX_M_YEAR&LAST_RPT_CAT=XX_M_YEAR&STOCK_ID=6257&QRY_TIME=2016\\' target=\\'_self\\'>2.17</a></nobr></td><td><nobr><a title=\\'查看2016財務比率表\\' class=\\'link_red\\' href=\\'StockFinDetail.asp?RPT_CAT=XX_M_YEAR&LAST_RPT_CAT=XX_M_YEAR&STOCK_ID=6257&QRY_TIME=2016\\' target=\\'_self\\'>+0.06</a></nobr></td><td><nobr><a title=\\'查看2016資產負債表\\' class=\\'link_black\\' href=\\'StockFinDetail.asp?RPT_CAT=BS_M_YEAR&LAST_RPT_CAT=BS_M_YEAR&STOCK_ID=6257&QRY_TIME=2016\\' target=\\'_self\\'>22.34</a></nobr></td></tr><tr id=\\'row5\\' align=\\'center\\' bgcolor=\\'#f0f0f0\\' height=\\'23px\\'  OnMouseOver=\"ChgBGColor([\\'rowh5\\',\\'row5\\'],\\'#fff2cc\\');\"  OnMouseOut=\"ChgBGColor([\\'rowh5\\',\\'row5\\'],\\'#f0f0f0\\');\"><td><nobr>2015</nobr></td><td><nobr><a title=\\'查看2015資產負債表\\' class=\\'link_black\\' href=\\'StockFinDetail.asp?RPT_CAT=BS_M_YEAR&LAST_RPT_CAT=BS_M_YEAR&STOCK_ID=6257&QRY_TIME=2015\\' target=\\'_self\\'>36</a></nobr></td><td><nobr><a title=\\'查看2015財報評分\\' class=\\'link_black\\' href=\\'StockFinGrade.asp?STOCK_ID=6257&QRY_TIME=2015&RPT_CAT=M_YEAR\\' target=\\'_self\\'>60</a></nobr></td><td><nobr><a title=\\'查看個股日K線圖\\' class=\\'link_black\\' href=\\'ShowK_Chart.asp?STOCK_ID=6257&CHT_NM=%E5%80%8B%E8%82%A1K%E7%B7%9A%E5%9C%96&CHT_CAT=%E6%97%A5%E7%B7%9A%E5%9C%96&CHT_CAT2=DATE\\' target=\\'_self\\'>22.25</a></nobr></td><td><nobr><a title=\\'查看個股日K線圖\\' class=\\'link_black\\' href=\\'ShowK_Chart.asp?STOCK_ID=6257&CHT_NM=%E5%80%8B%E8%82%A1K%E7%B7%9A%E5%9C%96&CHT_CAT=%E6%97%A5%E7%B7%9A%E5%9C%96&CHT_CAT2=DATE\\' target=\\'_self\\'>25.7</a></nobr></td><td><nobr><a title=\\'查看個股日K線圖\\' class=\\'link_green\\' href=\\'ShowK_Chart.asp?STOCK_ID=6257&CHT_NM=%E5%80%8B%E8%82%A1K%E7%B7%9A%E5%9C%96&CHT_CAT=%E6%97%A5%E7%B7%9A%E5%9C%96&CHT_CAT2=DATE\\' target=\\'_self\\'>-8.45</a></nobr></td><td><nobr><a title=\\'查看個股日K線圖\\' class=\\'link_green\\' href=\\'ShowK_Chart.asp?STOCK_ID=6257&CHT_NM=%E5%80%8B%E8%82%A1K%E7%B7%9A%E5%9C%96&CHT_CAT=%E6%97%A5%E7%B7%9A%E5%9C%96&CHT_CAT2=DATE\\' target=\\'_self\\'>-27.5</a></nobr></td><td><nobr><a title=\\'查看2015損益表\\' class=\\'link_black\\' href=\\'StockFinDetail.asp?RPT_CAT=IS_M_YEAR&LAST_RPT_CAT=IS_M_YEAR&STOCK_ID=6257&QRY_TIME=2015\\' target=\\'_self\\'>50.5</a></nobr></td><td><nobr><a title=\\'查看2015損益表\\' class=\\'link_black\\' href=\\'StockFinDetail.asp?RPT_CAT=IS_M_YEAR&LAST_RPT_CAT=IS_M_YEAR&STOCK_ID=6257&QRY_TIME=2015\\' target=\\'_self\\'>13.5</a></nobr></td><td><nobr><a title=\\'查看2015損益表\\' class=\\'link_black\\' href=\\'StockFinDetail.asp?RPT_CAT=IS_M_YEAR&LAST_RPT_CAT=IS_M_YEAR&STOCK_ID=6257&QRY_TIME=2015\\' target=\\'_self\\'>8.3</a></nobr></td><td><nobr><a title=\\'查看2015損益表\\' class=\\'link_black\\' href=\\'StockFinDetail.asp?RPT_CAT=IS_M_YEAR&LAST_RPT_CAT=IS_M_YEAR&STOCK_ID=6257&QRY_TIME=2015\\' target=\\'_self\\'>0.82</a></nobr></td><td><nobr><a title=\\'查看2015損益表\\' class=\\'link_black\\' href=\\'StockFinDetail.asp?RPT_CAT=IS_M_YEAR&LAST_RPT_CAT=IS_M_YEAR&STOCK_ID=6257&QRY_TIME=2015\\' target=\\'_self\\'>7.61</a></nobr></td><td><nobr><a title=\\'查看2015財務比率表\\' class=\\'link_black\\' href=\\'StockFinDetail.asp?RPT_CAT=XX_M_YEAR&LAST_RPT_CAT=XX_M_YEAR&STOCK_ID=6257&QRY_TIME=2015\\' target=\\'_self\\'>26.7</a></nobr></td><td><nobr><a title=\\'查看2015財務比率表\\' class=\\'link_black\\' href=\\'StockFinDetail.asp?RPT_CAT=XX_M_YEAR&LAST_RPT_CAT=XX_M_YEAR&STOCK_ID=6257&QRY_TIME=2015\\' target=\\'_self\\'>16.4</a></nobr></td><td><nobr><a title=\\'查看2015財務比率表\\' class=\\'link_black\\' href=\\'StockFinDetail.asp?RPT_CAT=XX_M_YEAR&LAST_RPT_CAT=XX_M_YEAR&STOCK_ID=6257&QRY_TIME=2015\\' target=\\'_self\\'>1.63</a></nobr></td><td><nobr><a title=\\'查看2015財務比率表\\' class=\\'link_black\\' href=\\'StockFinDetail.asp?RPT_CAT=XX_M_YEAR&LAST_RPT_CAT=XX_M_YEAR&STOCK_ID=6257&QRY_TIME=2015\\' target=\\'_self\\'>14.9</a></nobr></td><td><nobr><a title=\\'查看2015財務比率表\\' class=\\'link_black\\' href=\\'StockFinDetail.asp?RPT_CAT=XX_M_YEAR&LAST_RPT_CAT=XX_M_YEAR&STOCK_ID=6257&QRY_TIME=2015\\' target=\\'_self\\'>9.4</a></nobr></td><td><nobr><a title=\\'查看2015財務比率表\\' class=\\'link_black\\' href=\\'StockFinDetail.asp?RPT_CAT=XX_M_YEAR&LAST_RPT_CAT=XX_M_YEAR&STOCK_ID=6257&QRY_TIME=2015\\' target=\\'_self\\'>6.17</a></nobr></td><td><nobr><a title=\\'查看2015財務比率表\\' class=\\'link_black\\' href=\\'StockFinDetail.asp?RPT_CAT=XX_M_YEAR&LAST_RPT_CAT=XX_M_YEAR&STOCK_ID=6257&QRY_TIME=2015\\' target=\\'_self\\'>2.11</a></nobr></td><td><nobr><a title=\\'查看2015財務比率表\\' class=\\'link_green\\' href=\\'StockFinDetail.asp?RPT_CAT=XX_M_YEAR&LAST_RPT_CAT=XX_M_YEAR&STOCK_ID=6257&QRY_TIME=2015\\' target=\\'_self\\'>-0.79</a></nobr></td><td><nobr><a title=\\'查看2015資產負債表\\' class=\\'link_black\\' href=\\'StockFinDetail.asp?RPT_CAT=BS_M_YEAR&LAST_RPT_CAT=BS_M_YEAR&STOCK_ID=6257&QRY_TIME=2015\\' target=\\'_self\\'>21.86</a></nobr></td></tr><tr id=\\'row6\\' align=\\'center\\' bgcolor=\\'#ffffff\\' height=\\'23px\\'  OnMouseOver=\"ChgBGColor([\\'rowh6\\',\\'row6\\'],\\'#fff2cc\\');\"  OnMouseOut=\"ChgBGColor([\\'rowh6\\',\\'row6\\'],\\'#ffffff\\');\"><td><nobr>2014</nobr></td><td><nobr><a title=\\'查看2014資產負債表\\' class=\\'link_black\\' href=\\'StockFinDetail.asp?RPT_CAT=BS_M_YEAR&LAST_RPT_CAT=BS_M_YEAR&STOCK_ID=6257&QRY_TIME=2014\\' target=\\'_self\\'>36.3</a></nobr></td><td><nobr><a title=\\'查看2014財報評分\\' class=\\'link_black\\' href=\\'StockFinGrade.asp?STOCK_ID=6257&QRY_TIME=2014&RPT_CAT=M_YEAR\\' target=\\'_self\\'>66</a></nobr></td><td><nobr><a title=\\'查看個股日K線圖\\' class=\\'link_black\\' href=\\'ShowK_Chart.asp?STOCK_ID=6257&CHT_NM=%E5%80%8B%E8%82%A1K%E7%B7%9A%E5%9C%96&CHT_CAT=%E6%97%A5%E7%B7%9A%E5%9C%96&CHT_CAT2=DATE\\' target=\\'_self\\'>30.7</a></nobr></td><td><nobr><a title=\\'查看個股日K線圖\\' class=\\'link_black\\' href=\\'ShowK_Chart.asp?STOCK_ID=6257&CHT_NM=%E5%80%8B%E8%82%A1K%E7%B7%9A%E5%9C%96&CHT_CAT=%E6%97%A5%E7%B7%9A%E5%9C%96&CHT_CAT2=DATE\\' target=\\'_self\\'>31.2</a></nobr></td><td><nobr><a title=\\'查看個股日K線圖\\' class=\\'link_red\\' href=\\'ShowK_Chart.asp?STOCK_ID=6257&CHT_NM=%E5%80%8B%E8%82%A1K%E7%B7%9A%E5%9C%96&CHT_CAT=%E6%97%A5%E7%B7%9A%E5%9C%96&CHT_CAT2=DATE\\' target=\\'_self\\'>+2.25</a></nobr></td><td><nobr><a title=\\'查看個股日K線圖\\' class=\\'link_red\\' href=\\'ShowK_Chart.asp?STOCK_ID=6257&CHT_NM=%E5%80%8B%E8%82%A1K%E7%B7%9A%E5%9C%96&CHT_CAT=%E6%97%A5%E7%B7%9A%E5%9C%96&CHT_CAT2=DATE\\' target=\\'_self\\'>+7.9</a></nobr></td><td><nobr><a title=\\'查看2014損益表\\' class=\\'link_black\\' href=\\'StockFinDetail.asp?RPT_CAT=IS_M_YEAR&LAST_RPT_CAT=IS_M_YEAR&STOCK_ID=6257&QRY_TIME=2014\\' target=\\'_self\\'>52.3</a></nobr></td><td><nobr><a title=\\'查看2014損益表\\' class=\\'link_black\\' href=\\'StockFinDetail.asp?RPT_CAT=IS_M_YEAR&LAST_RPT_CAT=IS_M_YEAR&STOCK_ID=6257&QRY_TIME=2014\\' target=\\'_self\\'>17.1</a></nobr></td><td><nobr><a title=\\'查看2014損益表\\' class=\\'link_black\\' href=\\'StockFinDetail.asp?RPT_CAT=IS_M_YEAR&LAST_RPT_CAT=IS_M_YEAR&STOCK_ID=6257&QRY_TIME=2014\\' target=\\'_self\\'>11.5</a></nobr></td><td><nobr><a title=\\'查看2014損益表\\' class=\\'link_black\\' href=\\'StockFinDetail.asp?RPT_CAT=IS_M_YEAR&LAST_RPT_CAT=IS_M_YEAR&STOCK_ID=6257&QRY_TIME=2014\\' target=\\'_self\\'>0.93</a></nobr></td><td><nobr><a title=\\'查看2014損益表\\' class=\\'link_black\\' href=\\'StockFinDetail.asp?RPT_CAT=IS_M_YEAR&LAST_RPT_CAT=IS_M_YEAR&STOCK_ID=6257&QRY_TIME=2014\\' target=\\'_self\\'>10.5</a></nobr></td><td><nobr><a title=\\'查看2014財務比率表\\' class=\\'link_black\\' href=\\'StockFinDetail.asp?RPT_CAT=XX_M_YEAR&LAST_RPT_CAT=XX_M_YEAR&STOCK_ID=6257&QRY_TIME=2014\\' target=\\'_self\\'>32.6</a></nobr></td><td><nobr><a title=\\'查看2014財務比率表\\' class=\\'link_black\\' href=\\'StockFinDetail.asp?RPT_CAT=XX_M_YEAR&LAST_RPT_CAT=XX_M_YEAR&STOCK_ID=6257&QRY_TIME=2014\\' target=\\'_self\\'>21.9</a></nobr></td><td><nobr><a title=\\'查看2014財務比率表\\' class=\\'link_black\\' href=\\'StockFinDetail.asp?RPT_CAT=XX_M_YEAR&LAST_RPT_CAT=XX_M_YEAR&STOCK_ID=6257&QRY_TIME=2014\\' target=\\'_self\\'>1.78</a></nobr></td><td><nobr><a title=\\'查看2014財務比率表\\' class=\\'link_black\\' href=\\'StockFinDetail.asp?RPT_CAT=XX_M_YEAR&LAST_RPT_CAT=XX_M_YEAR&STOCK_ID=6257&QRY_TIME=2014\\' target=\\'_self\\'>19.5</a></nobr></td><td><nobr><a title=\\'查看2014財務比率表\\' class=\\'link_black\\' href=\\'StockFinDetail.asp?RPT_CAT=XX_M_YEAR&LAST_RPT_CAT=XX_M_YEAR&STOCK_ID=6257&QRY_TIME=2014\\' target=\\'_self\\'>13</a></nobr></td><td><nobr><a title=\\'查看2014財務比率表\\' class=\\'link_black\\' href=\\'StockFinDetail.asp?RPT_CAT=XX_M_YEAR&LAST_RPT_CAT=XX_M_YEAR&STOCK_ID=6257&QRY_TIME=2014\\' target=\\'_self\\'>8.87</a></nobr></td><td><nobr><a title=\\'查看2014財務比率表\\' class=\\'link_black\\' href=\\'StockFinDetail.asp?RPT_CAT=XX_M_YEAR&LAST_RPT_CAT=XX_M_YEAR&STOCK_ID=6257&QRY_TIME=2014\\' target=\\'_self\\'>2.9</a></nobr></td><td><nobr><a title=\\'查看2014財務比率表\\' class=\\'link_red\\' href=\\'StockFinDetail.asp?RPT_CAT=XX_M_YEAR&LAST_RPT_CAT=XX_M_YEAR&STOCK_ID=6257&QRY_TIME=2014\\' target=\\'_self\\'>+0.46</a></nobr></td><td><nobr><a title=\\'查看2014資產負債表\\' class=\\'link_black\\' href=\\'StockFinDetail.asp?RPT_CAT=BS_M_YEAR&LAST_RPT_CAT=BS_M_YEAR&STOCK_ID=6257&QRY_TIME=2014\\' target=\\'_self\\'>21.95</a></nobr></td></tr><tr id=\\'row7\\' align=\\'center\\' bgcolor=\\'#f0f0f0\\' height=\\'23px\\'  OnMouseOver=\"ChgBGColor([\\'rowh7\\',\\'row7\\'],\\'#fff2cc\\');\"  OnMouseOut=\"ChgBGColor([\\'rowh7\\',\\'row7\\'],\\'#f0f0f0\\');\"><td><nobr>2013</nobr></td><td><nobr><a title=\\'查看2013資產負債表\\' class=\\'link_black\\' href=\\'StockFinDetail.asp?RPT_CAT=BS_M_YEAR&LAST_RPT_CAT=BS_M_YEAR&STOCK_ID=6257&QRY_TIME=2013\\' target=\\'_self\\'>36.6</a></nobr></td><td><nobr><a title=\\'查看2013財報評分\\' class=\\'link_black\\' href=\\'StockFinGrade.asp?STOCK_ID=6257&QRY_TIME=2013&RPT_CAT=M_YEAR\\' target=\\'_self\\'>62</a></nobr></td><td><nobr><a title=\\'查看個股日K線圖\\' class=\\'link_black\\' href=\\'ShowK_Chart.asp?STOCK_ID=6257&CHT_NM=%E5%80%8B%E8%82%A1K%E7%B7%9A%E5%9C%96&CHT_CAT=%E6%97%A5%E7%B7%9A%E5%9C%96&CHT_CAT2=DATE\\' target=\\'_self\\'>28.45</a></nobr></td><td><nobr><a title=\\'查看個股日K線圖\\' class=\\'link_black\\' href=\\'ShowK_Chart.asp?STOCK_ID=6257&CHT_NM=%E5%80%8B%E8%82%A1K%E7%B7%9A%E5%9C%96&CHT_CAT=%E6%97%A5%E7%B7%9A%E5%9C%96&CHT_CAT2=DATE\\' target=\\'_self\\'>27.9</a></nobr></td><td><nobr><a title=\\'查看個股日K線圖\\' class=\\'link_red\\' href=\\'ShowK_Chart.asp?STOCK_ID=6257&CHT_NM=%E5%80%8B%E8%82%A1K%E7%B7%9A%E5%9C%96&CHT_CAT=%E6%97%A5%E7%B7%9A%E5%9C%96&CHT_CAT2=DATE\\' target=\\'_self\\'>+2.55</a></nobr></td><td><nobr><a title=\\'查看個股日K線圖\\' class=\\'link_red\\' href=\\'ShowK_Chart.asp?STOCK_ID=6257&CHT_NM=%E5%80%8B%E8%82%A1K%E7%B7%9A%E5%9C%96&CHT_CAT=%E6%97%A5%E7%B7%9A%E5%9C%96&CHT_CAT2=DATE\\' target=\\'_self\\'>+9.8</a></nobr></td><td><nobr><a title=\\'查看2013損益表\\' class=\\'link_black\\' href=\\'StockFinDetail.asp?RPT_CAT=IS_M_YEAR&LAST_RPT_CAT=IS_M_YEAR&STOCK_ID=6257&QRY_TIME=2013\\' target=\\'_self\\'>52.4</a></nobr></td><td><nobr><a title=\\'查看2013損益表\\' class=\\'link_black\\' href=\\'StockFinDetail.asp?RPT_CAT=IS_M_YEAR&LAST_RPT_CAT=IS_M_YEAR&STOCK_ID=6257&QRY_TIME=2013\\' target=\\'_self\\'>14.7</a></nobr></td><td><nobr><a title=\\'查看2013損益表\\' class=\\'link_black\\' href=\\'StockFinDetail.asp?RPT_CAT=IS_M_YEAR&LAST_RPT_CAT=IS_M_YEAR&STOCK_ID=6257&QRY_TIME=2013\\' target=\\'_self\\'>9.2</a></nobr></td><td><nobr><a title=\\'查看2013損益表\\' class=\\'link_black\\' href=\\'StockFinDetail.asp?RPT_CAT=IS_M_YEAR&LAST_RPT_CAT=IS_M_YEAR&STOCK_ID=6257&QRY_TIME=2013\\' target=\\'_self\\'>0.7</a></nobr></td><td><nobr><a title=\\'查看2013損益表\\' class=\\'link_black\\' href=\\'StockFinDetail.asp?RPT_CAT=IS_M_YEAR&LAST_RPT_CAT=IS_M_YEAR&STOCK_ID=6257&QRY_TIME=2013\\' target=\\'_self\\'>8.78</a></nobr></td><td><nobr><a title=\\'查看2013財務比率表\\' class=\\'link_black\\' href=\\'StockFinDetail.asp?RPT_CAT=XX_M_YEAR&LAST_RPT_CAT=XX_M_YEAR&STOCK_ID=6257&QRY_TIME=2013\\' target=\\'_self\\'>28.1</a></nobr></td><td><nobr><a title=\\'查看2013財務比率表\\' class=\\'link_black\\' href=\\'StockFinDetail.asp?RPT_CAT=XX_M_YEAR&LAST_RPT_CAT=XX_M_YEAR&STOCK_ID=6257&QRY_TIME=2013\\' target=\\'_self\\'>17.6</a></nobr></td><td><nobr><a title=\\'查看2013財務比率表\\' class=\\'link_black\\' href=\\'StockFinDetail.asp?RPT_CAT=XX_M_YEAR&LAST_RPT_CAT=XX_M_YEAR&STOCK_ID=6257&QRY_TIME=2013\\' target=\\'_self\\'>1.33</a></nobr></td><td><nobr><a title=\\'查看2013財務比率表\\' class=\\'link_black\\' href=\\'StockFinDetail.asp?RPT_CAT=XX_M_YEAR&LAST_RPT_CAT=XX_M_YEAR&STOCK_ID=6257&QRY_TIME=2013\\' target=\\'_self\\'>16</a></nobr></td><td><nobr><a title=\\'查看2013財務比率表\\' class=\\'link_black\\' href=\\'StockFinDetail.asp?RPT_CAT=XX_M_YEAR&LAST_RPT_CAT=XX_M_YEAR&STOCK_ID=6257&QRY_TIME=2013\\' target=\\'_self\\'>11</a></nobr></td><td><nobr><a title=\\'查看2013財務比率表\\' class=\\'link_black\\' href=\\'StockFinDetail.asp?RPT_CAT=XX_M_YEAR&LAST_RPT_CAT=XX_M_YEAR&STOCK_ID=6257&QRY_TIME=2013\\' target=\\'_self\\'>7.7</a></nobr></td><td><nobr><a title=\\'查看2013財務比率表\\' class=\\'link_black\\' href=\\'StockFinDetail.asp?RPT_CAT=XX_M_YEAR&LAST_RPT_CAT=XX_M_YEAR&STOCK_ID=6257&QRY_TIME=2013\\' target=\\'_self\\'>2.44</a></nobr></td><td><nobr><a title=\\'查看2013財務比率表\\' class=\\'link_green\\' href=\\'StockFinDetail.asp?RPT_CAT=XX_M_YEAR&LAST_RPT_CAT=XX_M_YEAR&STOCK_ID=6257&QRY_TIME=2013\\' target=\\'_self\\'>-0.32</a></nobr></td><td><nobr><a title=\\'查看2013資產負債表\\' class=\\'link_black\\' href=\\'StockFinDetail.asp?RPT_CAT=BS_M_YEAR&LAST_RPT_CAT=BS_M_YEAR&STOCK_ID=6257&QRY_TIME=2013\\' target=\\'_self\\'>20.86</a></nobr></td></tr><tr id=\\'row8\\' align=\\'center\\' bgcolor=\\'#ffffff\\' height=\\'23px\\'  OnMouseOver=\"ChgBGColor([\\'rowh8\\',\\'row8\\'],\\'#fff2cc\\');\"  OnMouseOut=\"ChgBGColor([\\'rowh8\\',\\'row8\\'],\\'#ffffff\\');\"><td><nobr>2012</nobr></td><td><nobr><a title=\\'查看2012資產負債表\\' class=\\'link_black\\' href=\\'StockFinDetail.asp?RPT_CAT=BS_M_YEAR&LAST_RPT_CAT=BS_M_YEAR&STOCK_ID=6257&QRY_TIME=2012\\' target=\\'_self\\'>36.6</a></nobr></td><td><nobr><a title=\\'查看2012財報評分\\' class=\\'link_black\\' href=\\'StockFinGrade.asp?STOCK_ID=6257&QRY_TIME=2012&RPT_CAT=M_YEAR\\' target=\\'_self\\'>64</a></nobr></td><td><nobr><a title=\\'查看個股日K線圖\\' class=\\'link_black\\' href=\\'ShowK_Chart.asp?STOCK_ID=6257&CHT_NM=%E5%80%8B%E8%82%A1K%E7%B7%9A%E5%9C%96&CHT_CAT=%E6%97%A5%E7%B7%9A%E5%9C%96&CHT_CAT2=DATE\\' target=\\'_self\\'>25.9</a></nobr></td><td><nobr><a title=\\'查看個股日K線圖\\' class=\\'link_black\\' href=\\'ShowK_Chart.asp?STOCK_ID=6257&CHT_NM=%E5%80%8B%E8%82%A1K%E7%B7%9A%E5%9C%96&CHT_CAT=%E6%97%A5%E7%B7%9A%E5%9C%96&CHT_CAT2=DATE\\' target=\\'_self\\'>23.2</a></nobr></td><td><nobr><a title=\\'查看個股日K線圖\\' class=\\'link_red\\' href=\\'ShowK_Chart.asp?STOCK_ID=6257&CHT_NM=%E5%80%8B%E8%82%A1K%E7%B7%9A%E5%9C%96&CHT_CAT=%E6%97%A5%E7%B7%9A%E5%9C%96&CHT_CAT2=DATE\\' target=\\'_self\\'>+6.55</a></nobr></td><td><nobr><a title=\\'查看個股日K線圖\\' class=\\'link_red\\' href=\\'ShowK_Chart.asp?STOCK_ID=6257&CHT_NM=%E5%80%8B%E8%82%A1K%E7%B7%9A%E5%9C%96&CHT_CAT=%E6%97%A5%E7%B7%9A%E5%9C%96&CHT_CAT2=DATE\\' target=\\'_self\\'>+33.9</a></nobr></td><td><nobr><a title=\\'查看2012損益表\\' class=\\'link_black\\' href=\\'StockFinDetail.asp?RPT_CAT=IS_M_YEAR&LAST_RPT_CAT=IS_M_YEAR&STOCK_ID=6257&QRY_TIME=2012\\' target=\\'_self\\'>48.9</a></nobr></td><td><nobr><a title=\\'查看2012損益表\\' class=\\'link_black\\' href=\\'StockFinDetail.asp?RPT_CAT=IS_M_YEAR&LAST_RPT_CAT=IS_M_YEAR&STOCK_ID=6257&QRY_TIME=2012\\' target=\\'_self\\'>14.6</a></nobr></td><td><nobr><a title=\\'查看2012損益表\\' class=\\'link_black\\' href=\\'StockFinDetail.asp?RPT_CAT=IS_M_YEAR&LAST_RPT_CAT=IS_M_YEAR&STOCK_ID=6257&QRY_TIME=2012\\' target=\\'_self\\'>9.73</a></nobr></td><td><nobr><a title=\\'查看2012損益表\\' class=\\'link_black\\' href=\\'StockFinDetail.asp?RPT_CAT=IS_M_YEAR&LAST_RPT_CAT=IS_M_YEAR&STOCK_ID=6257&QRY_TIME=2012\\' target=\\'_self\\'>0.91</a></nobr></td><td><nobr><a title=\\'查看2012損益表\\' class=\\'link_black\\' href=\\'StockFinDetail.asp?RPT_CAT=IS_M_YEAR&LAST_RPT_CAT=IS_M_YEAR&STOCK_ID=6257&QRY_TIME=2012\\' target=\\'_self\\'>9.87</a></nobr></td><td><nobr><a title=\\'查看2012財務比率表\\' class=\\'link_black\\' href=\\'StockFinDetail.asp?RPT_CAT=XX_M_YEAR&LAST_RPT_CAT=XX_M_YEAR&STOCK_ID=6257&QRY_TIME=2012\\' target=\\'_self\\'>29.9</a></nobr></td><td><nobr><a title=\\'查看2012財務比率表\\' class=\\'link_black\\' href=\\'StockFinDetail.asp?RPT_CAT=XX_M_YEAR&LAST_RPT_CAT=XX_M_YEAR&STOCK_ID=6257&QRY_TIME=2012\\' target=\\'_self\\'>19.9</a></nobr></td><td><nobr><a title=\\'查看2012財務比率表\\' class=\\'link_black\\' href=\\'StockFinDetail.asp?RPT_CAT=XX_M_YEAR&LAST_RPT_CAT=XX_M_YEAR&STOCK_ID=6257&QRY_TIME=2012\\' target=\\'_self\\'>1.85</a></nobr></td><td><nobr><a title=\\'查看2012財務比率表\\' class=\\'link_black\\' href=\\'StockFinDetail.asp?RPT_CAT=XX_M_YEAR&LAST_RPT_CAT=XX_M_YEAR&STOCK_ID=6257&QRY_TIME=2012\\' target=\\'_self\\'>19.4</a></nobr></td><td><nobr><a title=\\'查看2012財務比率表\\' class=\\'link_black\\' href=\\'StockFinDetail.asp?RPT_CAT=XX_M_YEAR&LAST_RPT_CAT=XX_M_YEAR&STOCK_ID=6257&QRY_TIME=2012\\' target=\\'_self\\'>13</a></nobr></td><td><nobr><a title=\\'查看2012財務比率表\\' class=\\'link_black\\' href=\\'StockFinDetail.asp?RPT_CAT=XX_M_YEAR&LAST_RPT_CAT=XX_M_YEAR&STOCK_ID=6257&QRY_TIME=2012\\' target=\\'_self\\'>9.41</a></nobr></td><td><nobr><a title=\\'查看2012財務比率表\\' class=\\'link_black\\' href=\\'StockFinDetail.asp?RPT_CAT=XX_M_YEAR&LAST_RPT_CAT=XX_M_YEAR&STOCK_ID=6257&QRY_TIME=2012\\' target=\\'_self\\'>2.76</a></nobr></td><td><nobr><a title=\\'查看2012財務比率表\\' class=\\'link_red\\' href=\\'StockFinDetail.asp?RPT_CAT=XX_M_YEAR&LAST_RPT_CAT=XX_M_YEAR&STOCK_ID=6257&QRY_TIME=2012\\' target=\\'_self\\'>+0.55</a></nobr></td><td><nobr><a title=\\'查看2012資產負債表\\' class=\\'link_black\\' href=\\'StockFinDetail.asp?RPT_CAT=BS_M_YEAR&LAST_RPT_CAT=BS_M_YEAR&STOCK_ID=6257&QRY_TIME=2012\\' target=\\'_self\\'>20.64</a></nobr></td></tr><tr id=\\'row9\\' align=\\'center\\' bgcolor=\\'#f0f0f0\\' height=\\'23px\\'  OnMouseOver=\"ChgBGColor([\\'rowh9\\',\\'row9\\'],\\'#fff2cc\\');\"  OnMouseOut=\"ChgBGColor([\\'rowh9\\',\\'row9\\'],\\'#f0f0f0\\');\"><td><nobr>2011</nobr></td><td><nobr><a title=\\'查看2011資產負債表\\' class=\\'link_black\\' href=\\'StockFinDetail.asp?RPT_CAT=BS_M_YEAR&LAST_RPT_CAT=BS_M_YEAR&STOCK_ID=6257&QRY_TIME=2011\\' target=\\'_self\\'>36</a></nobr></td><td><nobr><a title=\\'查看2011財報評分\\' class=\\'link_black\\' href=\\'StockFinGrade.asp?STOCK_ID=6257&QRY_TIME=2011&RPT_CAT=M_YEAR\\' target=\\'_self\\'>66</a></nobr></td><td><nobr><a title=\\'查看個股日K線圖\\' class=\\'link_black\\' href=\\'ShowK_Chart.asp?STOCK_ID=6257&CHT_NM=%E5%80%8B%E8%82%A1K%E7%B7%9A%E5%9C%96&CHT_CAT=%E6%97%A5%E7%B7%9A%E5%9C%96&CHT_CAT2=DATE\\' target=\\'_self\\'>19.35</a></nobr></td><td><nobr><a title=\\'查看個股日K線圖\\' class=\\'link_black\\' href=\\'ShowK_Chart.asp?STOCK_ID=6257&CHT_NM=%E5%80%8B%E8%82%A1K%E7%B7%9A%E5%9C%96&CHT_CAT=%E6%97%A5%E7%B7%9A%E5%9C%96&CHT_CAT2=DATE\\' target=\\'_self\\'>23.9</a></nobr></td><td><nobr><a title=\\'查看個股日K線圖\\' class=\\'link_green\\' href=\\'ShowK_Chart.asp?STOCK_ID=6257&CHT_NM=%E5%80%8B%E8%82%A1K%E7%B7%9A%E5%9C%96&CHT_CAT=%E6%97%A5%E7%B7%9A%E5%9C%96&CHT_CAT2=DATE\\' target=\\'_self\\'>-8.45</a></nobr></td><td><nobr><a title=\\'查看個股日K線圖\\' class=\\'link_green\\' href=\\'ShowK_Chart.asp?STOCK_ID=6257&CHT_NM=%E5%80%8B%E8%82%A1K%E7%B7%9A%E5%9C%96&CHT_CAT=%E6%97%A5%E7%B7%9A%E5%9C%96&CHT_CAT2=DATE\\' target=\\'_self\\'>-30.4</a></nobr></td><td><nobr><a title=\\'查看2011損益表\\' class=\\'link_black\\' href=\\'StockFinDetail.asp?RPT_CAT=IS_M_YEAR&LAST_RPT_CAT=IS_M_YEAR&STOCK_ID=6257&QRY_TIME=2011\\' target=\\'_self\\'>45.3</a></nobr></td><td><nobr><a title=\\'查看2011損益表\\' class=\\'link_black\\' href=\\'StockFinDetail.asp?RPT_CAT=IS_M_YEAR&LAST_RPT_CAT=IS_M_YEAR&STOCK_ID=6257&QRY_TIME=2011\\' target=\\'_self\\'>13</a></nobr></td><td><nobr><a title=\\'查看2011損益表\\' class=\\'link_black\\' href=\\'StockFinDetail.asp?RPT_CAT=IS_M_YEAR&LAST_RPT_CAT=IS_M_YEAR&STOCK_ID=6257&QRY_TIME=2011\\' target=\\'_self\\'>8.47</a></nobr></td><td><nobr><a title=\\'查看2011損益表\\' class=\\'link_black\\' href=\\'StockFinDetail.asp?RPT_CAT=IS_M_YEAR&LAST_RPT_CAT=IS_M_YEAR&STOCK_ID=6257&QRY_TIME=2011\\' target=\\'_self\\'>0.16</a></nobr></td><td><nobr><a title=\\'查看2011損益表\\' class=\\'link_black\\' href=\\'StockFinDetail.asp?RPT_CAT=IS_M_YEAR&LAST_RPT_CAT=IS_M_YEAR&STOCK_ID=6257&QRY_TIME=2011\\' target=\\'_self\\'>7.83</a></nobr></td><td><nobr><a title=\\'查看2011財務比率表\\' class=\\'link_black\\' href=\\'StockFinDetail.asp?RPT_CAT=XX_M_YEAR&LAST_RPT_CAT=XX_M_YEAR&STOCK_ID=6257&QRY_TIME=2011\\' target=\\'_self\\'>28.7</a></nobr></td><td><nobr><a title=\\'查看2011財務比率表\\' class=\\'link_black\\' href=\\'StockFinDetail.asp?RPT_CAT=XX_M_YEAR&LAST_RPT_CAT=XX_M_YEAR&STOCK_ID=6257&QRY_TIME=2011\\' target=\\'_self\\'>18.7</a></nobr></td><td><nobr><a title=\\'查看2011財務比率表\\' class=\\'link_black\\' href=\\'StockFinDetail.asp?RPT_CAT=XX_M_YEAR&LAST_RPT_CAT=XX_M_YEAR&STOCK_ID=6257&QRY_TIME=2011\\' target=\\'_self\\'>0.35</a></nobr></td><td><nobr><a title=\\'查看2011財務比率表\\' class=\\'link_black\\' href=\\'StockFinDetail.asp?RPT_CAT=XX_M_YEAR&LAST_RPT_CAT=XX_M_YEAR&STOCK_ID=6257&QRY_TIME=2011\\' target=\\'_self\\'>16.7</a></nobr></td><td><nobr><a title=\\'查看2011財務比率表\\' class=\\'link_black\\' href=\\'StockFinDetail.asp?RPT_CAT=XX_M_YEAR&LAST_RPT_CAT=XX_M_YEAR&STOCK_ID=6257&QRY_TIME=2011\\' target=\\'_self\\'>10.7</a></nobr></td><td><nobr><a title=\\'查看2011財務比率表\\' class=\\'link_black\\' href=\\'StockFinDetail.asp?RPT_CAT=XX_M_YEAR&LAST_RPT_CAT=XX_M_YEAR&STOCK_ID=6257&QRY_TIME=2011\\' target=\\'_self\\'>7.79</a></nobr></td><td><nobr><a title=\\'查看2011財務比率表\\' class=\\'link_black\\' href=\\'StockFinDetail.asp?RPT_CAT=XX_M_YEAR&LAST_RPT_CAT=XX_M_YEAR&STOCK_ID=6257&QRY_TIME=2011\\' target=\\'_self\\'>2.21</a></nobr></td><td><nobr><a title=\\'查看2011財務比率表\\' class=\\'link_green\\' href=\\'StockFinDetail.asp?RPT_CAT=XX_M_YEAR&LAST_RPT_CAT=XX_M_YEAR&STOCK_ID=6257&QRY_TIME=2011\\' target=\\'_self\\'>-1.16</a></nobr></td><td><nobr><a title=\\'查看2011資產負債表\\' class=\\'link_black\\' href=\\'StockFinDetail.asp?RPT_CAT=BS_M_YEAR&LAST_RPT_CAT=BS_M_YEAR&STOCK_ID=6257&QRY_TIME=2011\\' target=\\'_self\\'>19.65</a></nobr></td></tr><tr id=\\'row10\\' align=\\'center\\' bgcolor=\\'#ffffff\\' height=\\'23px\\'  OnMouseOver=\"ChgBGColor([\\'rowh10\\',\\'row10\\'],\\'#fff2cc\\');\"  OnMouseOut=\"ChgBGColor([\\'rowh10\\',\\'row10\\'],\\'#ffffff\\');\"><td><nobr>2010</nobr></td><td><nobr><a title=\\'查看2010資產負債表\\' class=\\'link_black\\' href=\\'StockFinDetail.asp?RPT_CAT=BS_M_YEAR&LAST_RPT_CAT=BS_M_YEAR&STOCK_ID=6257&QRY_TIME=2010\\' target=\\'_self\\'>34.5</a></nobr></td><td><nobr><a title=\\'查看2010財報評分\\' class=\\'link_red\\' href=\\'StockFinGrade.asp?STOCK_ID=6257&QRY_TIME=2010&RPT_CAT=M_YEAR\\' target=\\'_self\\'>74</a></nobr></td><td><nobr><a title=\\'查看個股日K線圖\\' class=\\'link_black\\' href=\\'ShowK_Chart.asp?STOCK_ID=6257&CHT_NM=%E5%80%8B%E8%82%A1K%E7%B7%9A%E5%9C%96&CHT_CAT=%E6%97%A5%E7%B7%9A%E5%9C%96&CHT_CAT2=DATE\\' target=\\'_self\\'>27.8</a></nobr></td><td><nobr><a title=\\'查看個股日K線圖\\' class=\\'link_black\\' href=\\'ShowK_Chart.asp?STOCK_ID=6257&CHT_NM=%E5%80%8B%E8%82%A1K%E7%B7%9A%E5%9C%96&CHT_CAT=%E6%97%A5%E7%B7%9A%E5%9C%96&CHT_CAT2=DATE\\' target=\\'_self\\'>24</a></nobr></td><td><nobr><a title=\\'查看個股日K線圖\\' class=\\'link_red\\' href=\\'ShowK_Chart.asp?STOCK_ID=6257&CHT_NM=%E5%80%8B%E8%82%A1K%E7%B7%9A%E5%9C%96&CHT_CAT=%E6%97%A5%E7%B7%9A%E5%9C%96&CHT_CAT2=DATE\\' target=\\'_self\\'>+7.15</a></nobr></td><td><nobr><a title=\\'查看個股日K線圖\\' class=\\'link_red\\' href=\\'ShowK_Chart.asp?STOCK_ID=6257&CHT_NM=%E5%80%8B%E8%82%A1K%E7%B7%9A%E5%9C%96&CHT_CAT=%E6%97%A5%E7%B7%9A%E5%9C%96&CHT_CAT2=DATE\\' target=\\'_self\\'>+34.6</a></nobr></td><td><nobr><a title=\\'查看2010損益表\\' class=\\'link_black\\' href=\\'StockFinDetail.asp?RPT_CAT=IS_M_YEAR&LAST_RPT_CAT=IS_M_YEAR&STOCK_ID=6257&QRY_TIME=2010\\' target=\\'_self\\'>48.6</a></nobr></td><td><nobr><a title=\\'查看2010損益表\\' class=\\'link_black\\' href=\\'StockFinDetail.asp?RPT_CAT=IS_M_YEAR&LAST_RPT_CAT=IS_M_YEAR&STOCK_ID=6257&QRY_TIME=2010\\' target=\\'_self\\'>16</a></nobr></td><td><nobr><a title=\\'查看2010損益表\\' class=\\'link_black\\' href=\\'StockFinDetail.asp?RPT_CAT=IS_M_YEAR&LAST_RPT_CAT=IS_M_YEAR&STOCK_ID=6257&QRY_TIME=2010\\' target=\\'_self\\'>11</a></nobr></td><td><nobr><a title=\\'查看2010損益表\\' class=\\'link_black\\' href=\\'StockFinDetail.asp?RPT_CAT=IS_M_YEAR&LAST_RPT_CAT=IS_M_YEAR&STOCK_ID=6257&QRY_TIME=2010\\' target=\\'_self\\'>0.37</a></nobr></td><td><nobr><a title=\\'查看2010損益表\\' class=\\'link_black\\' href=\\'StockFinDetail.asp?RPT_CAT=IS_M_YEAR&LAST_RPT_CAT=IS_M_YEAR&STOCK_ID=6257&QRY_TIME=2010\\' target=\\'_self\\'>10.7</a></nobr></td><td><nobr><a title=\\'查看2010財務比率表\\' class=\\'link_black\\' href=\\'StockFinDetail.asp?RPT_CAT=XX_M_YEAR&LAST_RPT_CAT=XX_M_YEAR&STOCK_ID=6257&QRY_TIME=2010\\' target=\\'_self\\'>32.9</a></nobr></td><td><nobr><a title=\\'查看2010財務比率表\\' class=\\'link_black\\' href=\\'StockFinDetail.asp?RPT_CAT=XX_M_YEAR&LAST_RPT_CAT=XX_M_YEAR&STOCK_ID=6257&QRY_TIME=2010\\' target=\\'_self\\'>22.7</a></nobr></td><td><nobr><a title=\\'查看2010財務比率表\\' class=\\'link_black\\' href=\\'StockFinDetail.asp?RPT_CAT=XX_M_YEAR&LAST_RPT_CAT=XX_M_YEAR&STOCK_ID=6257&QRY_TIME=2010\\' target=\\'_self\\'>0.77</a></nobr></td><td><nobr><a title=\\'查看2010財務比率表\\' class=\\'link_black\\' href=\\'StockFinDetail.asp?RPT_CAT=XX_M_YEAR&LAST_RPT_CAT=XX_M_YEAR&STOCK_ID=6257&QRY_TIME=2010\\' target=\\'_self\\'>21.5</a></nobr></td><td><nobr><a title=\\'查看2010財務比率表\\' class=\\'link_black\\' href=\\'StockFinDetail.asp?RPT_CAT=XX_M_YEAR&LAST_RPT_CAT=XX_M_YEAR&STOCK_ID=6257&QRY_TIME=2010\\' target=\\'_self\\'>16.4</a></nobr></td><td><nobr><a title=\\'查看2010財務比率表\\' class=\\'link_black\\' href=\\'StockFinDetail.asp?RPT_CAT=XX_M_YEAR&LAST_RPT_CAT=XX_M_YEAR&STOCK_ID=6257&QRY_TIME=2010\\' target=\\'_self\\'>11.5</a></nobr></td><td><nobr><a title=\\'查看2010財務比率表\\' class=\\'link_black\\' href=\\'StockFinDetail.asp?RPT_CAT=XX_M_YEAR&LAST_RPT_CAT=XX_M_YEAR&STOCK_ID=6257&QRY_TIME=2010\\' target=\\'_self\\'>3.37</a></nobr></td><td><nobr><a title=\\'查看2010財務比率表\\' class=\\'link_red\\' href=\\'StockFinDetail.asp?RPT_CAT=XX_M_YEAR&LAST_RPT_CAT=XX_M_YEAR&STOCK_ID=6257&QRY_TIME=2010\\' target=\\'_self\\'>+1.74</a></nobr></td><td><nobr><a title=\\'查看2010資產負債表\\' class=\\'link_black\\' href=\\'StockFinDetail.asp?RPT_CAT=BS_M_YEAR&LAST_RPT_CAT=BS_M_YEAR&STOCK_ID=6257&QRY_TIME=2010\\' target=\\'_self\\'>19.99</a></nobr></td></tr><tr id=\\'row11\\' align=\\'center\\' bgcolor=\\'#f0f0f0\\' height=\\'23px\\'  OnMouseOver=\"ChgBGColor([\\'rowh11\\',\\'row11\\'],\\'#fff2cc\\');\"  OnMouseOut=\"ChgBGColor([\\'rowh11\\',\\'row11\\'],\\'#f0f0f0\\');\"><td><nobr>2009</nobr></td><td><nobr><a title=\\'查看2009資產負債表\\' class=\\'link_black\\' href=\\'StockFinDetail.asp?RPT_CAT=BS_M_YEAR&LAST_RPT_CAT=BS_M_YEAR&STOCK_ID=6257&QRY_TIME=2009\\' target=\\'_self\\'>31.4</a></nobr></td><td><nobr><a title=\\'查看2009財報評分\\' class=\\'link_black\\' href=\\'StockFinGrade.asp?STOCK_ID=6257&QRY_TIME=2009&RPT_CAT=M_YEAR\\' target=\\'_self\\'>60</a></nobr></td><td><nobr><a title=\\'查看個股日K線圖\\' class=\\'link_black\\' href=\\'ShowK_Chart.asp?STOCK_ID=6257&CHT_NM=%E5%80%8B%E8%82%A1K%E7%B7%9A%E5%9C%96&CHT_CAT=%E6%97%A5%E7%B7%9A%E5%9C%96&CHT_CAT2=DATE\\' target=\\'_self\\'>20.65</a></nobr></td><td><nobr><a title=\\'查看個股日K線圖\\' class=\\'link_black\\' href=\\'ShowK_Chart.asp?STOCK_ID=6257&CHT_NM=%E5%80%8B%E8%82%A1K%E7%B7%9A%E5%9C%96&CHT_CAT=%E6%97%A5%E7%B7%9A%E5%9C%96&CHT_CAT2=DATE\\' target=\\'_self\\'>13.5</a></nobr></td><td><nobr><a title=\\'查看個股日K線圖\\' class=\\'link_red\\' href=\\'ShowK_Chart.asp?STOCK_ID=6257&CHT_NM=%E5%80%8B%E8%82%A1K%E7%B7%9A%E5%9C%96&CHT_CAT=%E6%97%A5%E7%B7%9A%E5%9C%96&CHT_CAT2=DATE\\' target=\\'_self\\'>+13.68</a></nobr></td><td><nobr><a title=\\'查看個股日K線圖\\' class=\\'link_red\\' href=\\'ShowK_Chart.asp?STOCK_ID=6257&CHT_NM=%E5%80%8B%E8%82%A1K%E7%B7%9A%E5%9C%96&CHT_CAT=%E6%97%A5%E7%B7%9A%E5%9C%96&CHT_CAT2=DATE\\' target=\\'_self\\'>+196</a></nobr></td><td><nobr><a title=\\'查看2009損益表\\' class=\\'link_black\\' href=\\'StockFinDetail.asp?RPT_CAT=IS_M_YEAR&LAST_RPT_CAT=IS_M_YEAR&STOCK_ID=6257&QRY_TIME=2009\\' target=\\'_self\\'>37.5</a></nobr></td><td><nobr><a title=\\'查看2009損益表\\' class=\\'link_black\\' href=\\'StockFinDetail.asp?RPT_CAT=IS_M_YEAR&LAST_RPT_CAT=IS_M_YEAR&STOCK_ID=6257&QRY_TIME=2009\\' target=\\'_self\\'>10.2</a></nobr></td><td><nobr><a title=\\'查看2009損益表\\' class=\\'link_black\\' href=\\'StockFinDetail.asp?RPT_CAT=IS_M_YEAR&LAST_RPT_CAT=IS_M_YEAR&STOCK_ID=6257&QRY_TIME=2009\\' target=\\'_self\\'>5.97</a></nobr></td><td><nobr><a title=\\'查看2009損益表\\' class=\\'link_green\\' href=\\'StockFinDetail.asp?RPT_CAT=IS_M_YEAR&LAST_RPT_CAT=IS_M_YEAR&STOCK_ID=6257&QRY_TIME=2009\\' target=\\'_self\\'>-0.4</a></nobr></td><td><nobr><a title=\\'查看2009損益表\\' class=\\'link_black\\' href=\\'StockFinDetail.asp?RPT_CAT=IS_M_YEAR&LAST_RPT_CAT=IS_M_YEAR&STOCK_ID=6257&QRY_TIME=2009\\' target=\\'_self\\'>5.05</a></nobr></td><td><nobr><a title=\\'查看2009財務比率表\\' class=\\'link_black\\' href=\\'StockFinDetail.asp?RPT_CAT=XX_M_YEAR&LAST_RPT_CAT=XX_M_YEAR&STOCK_ID=6257&QRY_TIME=2009\\' target=\\'_self\\'>27.2</a></nobr></td><td><nobr><a title=\\'查看2009財務比率表\\' class=\\'link_black\\' href=\\'StockFinDetail.asp?RPT_CAT=XX_M_YEAR&LAST_RPT_CAT=XX_M_YEAR&STOCK_ID=6257&QRY_TIME=2009\\' target=\\'_self\\'>15.9</a></nobr></td><td><nobr><a title=\\'查看2009財務比率表\\' class=\\'link_green\\' href=\\'StockFinDetail.asp?RPT_CAT=XX_M_YEAR&LAST_RPT_CAT=XX_M_YEAR&STOCK_ID=6257&QRY_TIME=2009\\' target=\\'_self\\'>-1.08</a></nobr></td><td><nobr><a title=\\'查看2009財務比率表\\' class=\\'link_black\\' href=\\'StockFinDetail.asp?RPT_CAT=XX_M_YEAR&LAST_RPT_CAT=XX_M_YEAR&STOCK_ID=6257&QRY_TIME=2009\\' target=\\'_self\\'>13</a></nobr></td><td><nobr><a title=\\'查看2009財務比率表\\' class=\\'link_black\\' href=\\'StockFinDetail.asp?RPT_CAT=XX_M_YEAR&LAST_RPT_CAT=XX_M_YEAR&STOCK_ID=6257&QRY_TIME=2009\\' target=\\'_self\\'>8.88</a></nobr></td><td><nobr><a title=\\'查看2009財務比率表\\' class=\\'link_black\\' href=\\'StockFinDetail.asp?RPT_CAT=XX_M_YEAR&LAST_RPT_CAT=XX_M_YEAR&STOCK_ID=6257&QRY_TIME=2009\\' target=\\'_self\\'>5.79</a></nobr></td><td><nobr><a title=\\'查看2009財務比率表\\' class=\\'link_black\\' href=\\'StockFinDetail.asp?RPT_CAT=XX_M_YEAR&LAST_RPT_CAT=XX_M_YEAR&STOCK_ID=6257&QRY_TIME=2009\\' target=\\'_self\\'>1.63</a></nobr></td><td><nobr><a title=\\'查看2009財務比率表\\' class=\\'link_red\\' href=\\'StockFinDetail.asp?RPT_CAT=XX_M_YEAR&LAST_RPT_CAT=XX_M_YEAR&STOCK_ID=6257&QRY_TIME=2009\\' target=\\'_self\\'>+0.59</a></nobr></td><td><nobr><a title=\\'查看2009資產負債表\\' class=\\'link_black\\' href=\\'StockFinDetail.asp?RPT_CAT=BS_M_YEAR&LAST_RPT_CAT=BS_M_YEAR&STOCK_ID=6257&QRY_TIME=2009\\' target=\\'_self\\'>17.77</a></nobr></td></tr><tr id=\\'row12\\' align=\\'center\\' bgcolor=\\'#ffffff\\' height=\\'23px\\'  OnMouseOver=\"ChgBGColor([\\'rowh12\\',\\'row12\\'],\\'#fff2cc\\');\"  OnMouseOut=\"ChgBGColor([\\'rowh12\\',\\'row12\\'],\\'#ffffff\\');\"><td><nobr>2008</nobr></td><td><nobr><a title=\\'查看2008資產負債表\\' class=\\'link_black\\' href=\\'StockFinDetail.asp?RPT_CAT=BS_M_YEAR&LAST_RPT_CAT=BS_M_YEAR&STOCK_ID=6257&QRY_TIME=2008\\' target=\\'_self\\'>31.4</a></nobr></td><td><nobr><a title=\\'查看2008財報評分\\' class=\\'link_black\\' href=\\'StockFinGrade.asp?STOCK_ID=6257&QRY_TIME=2008&RPT_CAT=M_YEAR\\' target=\\'_self\\'>53</a></nobr></td><td><nobr><a title=\\'查看個股日K線圖\\' class=\\'link_black\\' href=\\'ShowK_Chart.asp?STOCK_ID=6257&CHT_NM=%E5%80%8B%E8%82%A1K%E7%B7%9A%E5%9C%96&CHT_CAT=%E6%97%A5%E7%B7%9A%E5%9C%96&CHT_CAT2=DATE\\' target=\\'_self\\'>6.97</a></nobr></td><td><nobr><a title=\\'查看個股日K線圖\\' class=\\'link_black\\' href=\\'ShowK_Chart.asp?STOCK_ID=6257&CHT_NM=%E5%80%8B%E8%82%A1K%E7%B7%9A%E5%9C%96&CHT_CAT=%E6%97%A5%E7%B7%9A%E5%9C%96&CHT_CAT2=DATE\\' target=\\'_self\\'>14.1</a></nobr></td><td><nobr><a title=\\'查看個股日K線圖\\' class=\\'link_green\\' href=\\'ShowK_Chart.asp?STOCK_ID=6257&CHT_NM=%E5%80%8B%E8%82%A1K%E7%B7%9A%E5%9C%96&CHT_CAT=%E6%97%A5%E7%B7%9A%E5%9C%96&CHT_CAT2=DATE\\' target=\\'_self\\'>-9.98</a></nobr></td><td><nobr><a title=\\'查看個股日K線圖\\' class=\\'link_green\\' href=\\'ShowK_Chart.asp?STOCK_ID=6257&CHT_NM=%E5%80%8B%E8%82%A1K%E7%B7%9A%E5%9C%96&CHT_CAT=%E6%97%A5%E7%B7%9A%E5%9C%96&CHT_CAT2=DATE\\' target=\\'_self\\'>-58.9</a></nobr></td><td><nobr><a title=\\'查看2008損益表\\' class=\\'link_black\\' href=\\'StockFinDetail.asp?RPT_CAT=IS_M_YEAR&LAST_RPT_CAT=IS_M_YEAR&STOCK_ID=6257&QRY_TIME=2008\\' target=\\'_self\\'>38.9</a></nobr></td><td><nobr><a title=\\'查看2008損益表\\' class=\\'link_black\\' href=\\'StockFinDetail.asp?RPT_CAT=IS_M_YEAR&LAST_RPT_CAT=IS_M_YEAR&STOCK_ID=6257&QRY_TIME=2008\\' target=\\'_self\\'>7.62</a></nobr></td><td><nobr><a title=\\'查看2008損益表\\' class=\\'link_black\\' href=\\'StockFinDetail.asp?RPT_CAT=IS_M_YEAR&LAST_RPT_CAT=IS_M_YEAR&STOCK_ID=6257&QRY_TIME=2008\\' target=\\'_self\\'>3.87</a></nobr></td><td><nobr><a title=\\'查看2008損益表\\' class=\\'link_green\\' href=\\'StockFinDetail.asp?RPT_CAT=IS_M_YEAR&LAST_RPT_CAT=IS_M_YEAR&STOCK_ID=6257&QRY_TIME=2008\\' target=\\'_self\\'>-0.38</a></nobr></td><td><nobr><a title=\\'查看2008損益表\\' class=\\'link_black\\' href=\\'StockFinDetail.asp?RPT_CAT=IS_M_YEAR&LAST_RPT_CAT=IS_M_YEAR&STOCK_ID=6257&QRY_TIME=2008\\' target=\\'_self\\'>3.23</a></nobr></td><td><nobr><a title=\\'查看2008財務比率表\\' class=\\'link_black\\' href=\\'StockFinDetail.asp?RPT_CAT=XX_M_YEAR&LAST_RPT_CAT=XX_M_YEAR&STOCK_ID=6257&QRY_TIME=2008\\' target=\\'_self\\'>19.6</a></nobr></td><td><nobr><a title=\\'查看2008財務比率表\\' class=\\'link_black\\' href=\\'StockFinDetail.asp?RPT_CAT=XX_M_YEAR&LAST_RPT_CAT=XX_M_YEAR&STOCK_ID=6257&QRY_TIME=2008\\' target=\\'_self\\'>9.95</a></nobr></td><td><nobr><a title=\\'查看2008財務比率表\\' class=\\'link_green\\' href=\\'StockFinDetail.asp?RPT_CAT=XX_M_YEAR&LAST_RPT_CAT=XX_M_YEAR&STOCK_ID=6257&QRY_TIME=2008\\' target=\\'_self\\'>-0.98</a></nobr></td><td><nobr><a title=\\'查看2008財務比率表\\' class=\\'link_black\\' href=\\'StockFinDetail.asp?RPT_CAT=XX_M_YEAR&LAST_RPT_CAT=XX_M_YEAR&STOCK_ID=6257&QRY_TIME=2008\\' target=\\'_self\\'>7.94</a></nobr></td><td><nobr><a title=\\'查看2008財務比率表\\' class=\\'link_black\\' href=\\'StockFinDetail.asp?RPT_CAT=XX_M_YEAR&LAST_RPT_CAT=XX_M_YEAR&STOCK_ID=6257&QRY_TIME=2008\\' target=\\'_self\\'>5.85</a></nobr></td><td><nobr><a title=\\'查看2008財務比率表\\' class=\\'link_black\\' href=\\'StockFinDetail.asp?RPT_CAT=XX_M_YEAR&LAST_RPT_CAT=XX_M_YEAR&STOCK_ID=6257&QRY_TIME=2008\\' target=\\'_self\\'>3.77</a></nobr></td><td><nobr><a title=\\'查看2008財務比率表\\' class=\\'link_black\\' href=\\'StockFinDetail.asp?RPT_CAT=XX_M_YEAR&LAST_RPT_CAT=XX_M_YEAR&STOCK_ID=6257&QRY_TIME=2008\\' target=\\'_self\\'>1.04</a></nobr></td><td><nobr><a title=\\'查看2008財務比率表\\' class=\\'link_green\\' href=\\'StockFinDetail.asp?RPT_CAT=XX_M_YEAR&LAST_RPT_CAT=XX_M_YEAR&STOCK_ID=6257&QRY_TIME=2008\\' target=\\'_self\\'>-1.08</a></nobr></td><td><nobr><a title=\\'查看2008資產負債表\\' class=\\'link_black\\' href=\\'StockFinDetail.asp?RPT_CAT=BS_M_YEAR&LAST_RPT_CAT=BS_M_YEAR&STOCK_ID=6257&QRY_TIME=2008\\' target=\\'_self\\'>16.43</a></nobr></td></tr><tr id=\\'row13\\' align=\\'center\\' bgcolor=\\'#f0f0f0\\' height=\\'23px\\'  OnMouseOver=\"ChgBGColor([\\'rowh13\\',\\'row13\\'],\\'#fff2cc\\');\"  OnMouseOut=\"ChgBGColor([\\'rowh13\\',\\'row13\\'],\\'#f0f0f0\\');\"><td><nobr>2007</nobr></td><td><nobr><a title=\\'查看2007資產負債表\\' class=\\'link_black\\' href=\\'StockFinDetail.asp?RPT_CAT=BS_M_YEAR&LAST_RPT_CAT=BS_M_YEAR&STOCK_ID=6257&QRY_TIME=2007\\' target=\\'_self\\'>29.6</a></nobr></td><td><nobr><a title=\\'查看2007財報評分\\' class=\\'link_black\\' href=\\'StockFinGrade.asp?STOCK_ID=6257&QRY_TIME=2007&RPT_CAT=M_YEAR\\' target=\\'_self\\'>60</a></nobr></td><td><nobr><a title=\\'查看個股日K線圖\\' class=\\'link_black\\' href=\\'ShowK_Chart.asp?STOCK_ID=6257&CHT_NM=%E5%80%8B%E8%82%A1K%E7%B7%9A%E5%9C%96&CHT_CAT=%E6%97%A5%E7%B7%9A%E5%9C%96&CHT_CAT2=DATE\\' target=\\'_self\\'>16.95</a></nobr></td><td><nobr><a title=\\'查看個股日K線圖\\' class=\\'link_black\\' href=\\'ShowK_Chart.asp?STOCK_ID=6257&CHT_NM=%E5%80%8B%E8%82%A1K%E7%B7%9A%E5%9C%96&CHT_CAT=%E6%97%A5%E7%B7%9A%E5%9C%96&CHT_CAT2=DATE\\' target=\\'_self\\'>22.3</a></nobr></td><td><nobr><a title=\\'查看個股日K線圖\\' class=\\'link_green\\' href=\\'ShowK_Chart.asp?STOCK_ID=6257&CHT_NM=%E5%80%8B%E8%82%A1K%E7%B7%9A%E5%9C%96&CHT_CAT=%E6%97%A5%E7%B7%9A%E5%9C%96&CHT_CAT2=DATE\\' target=\\'_self\\'>-4.8</a></nobr></td><td><nobr><a title=\\'查看個股日K線圖\\' class=\\'link_green\\' href=\\'ShowK_Chart.asp?STOCK_ID=6257&CHT_NM=%E5%80%8B%E8%82%A1K%E7%B7%9A%E5%9C%96&CHT_CAT=%E6%97%A5%E7%B7%9A%E5%9C%96&CHT_CAT2=DATE\\' target=\\'_self\\'>-22.1</a></nobr></td><td><nobr><a title=\\'查看2007損益表\\' class=\\'link_black\\' href=\\'StockFinDetail.asp?RPT_CAT=IS_M_YEAR&LAST_RPT_CAT=IS_M_YEAR&STOCK_ID=6257&QRY_TIME=2007\\' target=\\'_self\\'>39.1</a></nobr></td><td><nobr><a title=\\'查看2007損益表\\' class=\\'link_black\\' href=\\'StockFinDetail.asp?RPT_CAT=IS_M_YEAR&LAST_RPT_CAT=IS_M_YEAR&STOCK_ID=6257&QRY_TIME=2007\\' target=\\'_self\\'>9.86</a></nobr></td><td><nobr><a title=\\'查看2007損益表\\' class=\\'link_black\\' href=\\'StockFinDetail.asp?RPT_CAT=IS_M_YEAR&LAST_RPT_CAT=IS_M_YEAR&STOCK_ID=6257&QRY_TIME=2007\\' target=\\'_self\\'>6.17</a></nobr></td><td><nobr><a title=\\'查看2007損益表\\' class=\\'link_black\\' href=\\'StockFinDetail.asp?RPT_CAT=IS_M_YEAR&LAST_RPT_CAT=IS_M_YEAR&STOCK_ID=6257&QRY_TIME=2007\\' target=\\'_self\\'>0.26</a></nobr></td><td><nobr><a title=\\'查看2007損益表\\' class=\\'link_black\\' href=\\'StockFinDetail.asp?RPT_CAT=IS_M_YEAR&LAST_RPT_CAT=IS_M_YEAR&STOCK_ID=6257&QRY_TIME=2007\\' target=\\'_self\\'>6.16</a></nobr></td><td><nobr><a title=\\'查看2007財務比率表\\' class=\\'link_black\\' href=\\'StockFinDetail.asp?RPT_CAT=XX_M_YEAR&LAST_RPT_CAT=XX_M_YEAR&STOCK_ID=6257&QRY_TIME=2007\\' target=\\'_self\\'>25.2</a></nobr></td><td><nobr><a title=\\'查看2007財務比率表\\' class=\\'link_black\\' href=\\'StockFinDetail.asp?RPT_CAT=XX_M_YEAR&LAST_RPT_CAT=XX_M_YEAR&STOCK_ID=6257&QRY_TIME=2007\\' target=\\'_self\\'>15.8</a></nobr></td><td><nobr><a title=\\'查看2007財務比率表\\' class=\\'link_black\\' href=\\'StockFinDetail.asp?RPT_CAT=XX_M_YEAR&LAST_RPT_CAT=XX_M_YEAR&STOCK_ID=6257&QRY_TIME=2007\\' target=\\'_self\\'>0.66</a></nobr></td><td><nobr><a title=\\'查看2007財務比率表\\' class=\\'link_black\\' href=\\'StockFinDetail.asp?RPT_CAT=XX_M_YEAR&LAST_RPT_CAT=XX_M_YEAR&STOCK_ID=6257&QRY_TIME=2007\\' target=\\'_self\\'>15.5</a></nobr></td><td><nobr><a title=\\'查看2007財務比率表\\' class=\\'link_black\\' href=\\'StockFinDetail.asp?RPT_CAT=XX_M_YEAR&LAST_RPT_CAT=XX_M_YEAR&STOCK_ID=6257&QRY_TIME=2007\\' target=\\'_self\\'>12.4</a></nobr></td><td><nobr><a title=\\'查看2007財務比率表\\' class=\\'link_black\\' href=\\'StockFinDetail.asp?RPT_CAT=XX_M_YEAR&LAST_RPT_CAT=XX_M_YEAR&STOCK_ID=6257&QRY_TIME=2007\\' target=\\'_self\\'>8.31</a></nobr></td><td><nobr><a title=\\'查看2007財務比率表\\' class=\\'link_black\\' href=\\'StockFinDetail.asp?RPT_CAT=XX_M_YEAR&LAST_RPT_CAT=XX_M_YEAR&STOCK_ID=6257&QRY_TIME=2007\\' target=\\'_self\\'>2.12</a></nobr></td><td><nobr><a title=\\'查看2007財務比率表\\' class=\\'link_green\\' href=\\'StockFinDetail.asp?RPT_CAT=XX_M_YEAR&LAST_RPT_CAT=XX_M_YEAR&STOCK_ID=6257&QRY_TIME=2007\\' target=\\'_self\\'>-0.34</a></nobr></td><td><nobr><a title=\\'查看2007資產負債表\\' class=\\'link_black\\' href=\\'StockFinDetail.asp?RPT_CAT=BS_M_YEAR&LAST_RPT_CAT=BS_M_YEAR&STOCK_ID=6257&QRY_TIME=2007\\' target=\\'_self\\'>17.73</a></nobr></td></tr><tr id=\\'row14\\' align=\\'center\\' bgcolor=\\'#ffffff\\' height=\\'23px\\'  OnMouseOver=\"ChgBGColor([\\'rowh14\\',\\'row14\\'],\\'#fff2cc\\');\"  OnMouseOut=\"ChgBGColor([\\'rowh14\\',\\'row14\\'],\\'#ffffff\\');\"><td><nobr>2006</nobr></td><td><nobr><a title=\\'查看2006資產負債表\\' class=\\'link_black\\' href=\\'StockFinDetail.asp?RPT_CAT=BS_M_YEAR&LAST_RPT_CAT=BS_M_YEAR&STOCK_ID=6257&QRY_TIME=2006\\' target=\\'_self\\'>26</a></nobr></td><td><nobr><a title=\\'查看2006財報評分\\' class=\\'link_black\\' href=\\'StockFinGrade.asp?STOCK_ID=6257&QRY_TIME=2006&RPT_CAT=M_YEAR\\' target=\\'_self\\'>57</a></nobr></td><td><nobr><a title=\\'查看個股日K線圖\\' class=\\'link_black\\' href=\\'ShowK_Chart.asp?STOCK_ID=6257&CHT_NM=%E5%80%8B%E8%82%A1K%E7%B7%9A%E5%9C%96&CHT_CAT=%E6%97%A5%E7%B7%9A%E5%9C%96&CHT_CAT2=DATE\\' target=\\'_self\\'>21.75</a></nobr></td><td><nobr><a title=\\'查看個股日K線圖\\' class=\\'link_black\\' href=\\'ShowK_Chart.asp?STOCK_ID=6257&CHT_NM=%E5%80%8B%E8%82%A1K%E7%B7%9A%E5%9C%96&CHT_CAT=%E6%97%A5%E7%B7%9A%E5%9C%96&CHT_CAT2=DATE\\' target=\\'_self\\'>20.1</a></nobr></td><td><nobr><a title=\\'查看個股日K線圖\\' class=\\'link_green\\' href=\\'ShowK_Chart.asp?STOCK_ID=6257&CHT_NM=%E5%80%8B%E8%82%A1K%E7%B7%9A%E5%9C%96&CHT_CAT=%E6%97%A5%E7%B7%9A%E5%9C%96&CHT_CAT2=DATE\\' target=\\'_self\\'>-1</a></nobr></td><td><nobr><a title=\\'查看個股日K線圖\\' class=\\'link_green\\' href=\\'ShowK_Chart.asp?STOCK_ID=6257&CHT_NM=%E5%80%8B%E8%82%A1K%E7%B7%9A%E5%9C%96&CHT_CAT=%E6%97%A5%E7%B7%9A%E5%9C%96&CHT_CAT2=DATE\\' target=\\'_self\\'>-4.4</a></nobr></td><td><nobr><a title=\\'查看2006損益表\\' class=\\'link_black\\' href=\\'StockFinDetail.asp?RPT_CAT=IS_M_YEAR&LAST_RPT_CAT=IS_M_YEAR&STOCK_ID=6257&QRY_TIME=2006\\' target=\\'_self\\'>32.5</a></nobr></td><td><nobr><a title=\\'查看2006損益表\\' class=\\'link_black\\' href=\\'StockFinDetail.asp?RPT_CAT=IS_M_YEAR&LAST_RPT_CAT=IS_M_YEAR&STOCK_ID=6257&QRY_TIME=2006\\' target=\\'_self\\'>8.65</a></nobr></td><td><nobr><a title=\\'查看2006損益表\\' class=\\'link_black\\' href=\\'StockFinDetail.asp?RPT_CAT=IS_M_YEAR&LAST_RPT_CAT=IS_M_YEAR&STOCK_ID=6257&QRY_TIME=2006\\' target=\\'_self\\'>5.41</a></nobr></td><td><nobr><a title=\\'查看2006損益表\\' class=\\'link_black\\' href=\\'StockFinDetail.asp?RPT_CAT=IS_M_YEAR&LAST_RPT_CAT=IS_M_YEAR&STOCK_ID=6257&QRY_TIME=2006\\' target=\\'_self\\'>0.62</a></nobr></td><td><nobr><a title=\\'查看2006損益表\\' class=\\'link_black\\' href=\\'StockFinDetail.asp?RPT_CAT=IS_M_YEAR&LAST_RPT_CAT=IS_M_YEAR&STOCK_ID=6257&QRY_TIME=2006\\' target=\\'_self\\'>5.69</a></nobr></td><td><nobr><a title=\\'查看2006財務比率表\\' class=\\'link_black\\' href=\\'StockFinDetail.asp?RPT_CAT=XX_M_YEAR&LAST_RPT_CAT=XX_M_YEAR&STOCK_ID=6257&QRY_TIME=2006\\' target=\\'_self\\'>26.6</a></nobr></td><td><nobr><a title=\\'查看2006財務比率表\\' class=\\'link_black\\' href=\\'StockFinDetail.asp?RPT_CAT=XX_M_YEAR&LAST_RPT_CAT=XX_M_YEAR&STOCK_ID=6257&QRY_TIME=2006\\' target=\\'_self\\'>16.6</a></nobr></td><td><nobr><a title=\\'查看2006財務比率表\\' class=\\'link_black\\' href=\\'StockFinDetail.asp?RPT_CAT=XX_M_YEAR&LAST_RPT_CAT=XX_M_YEAR&STOCK_ID=6257&QRY_TIME=2006\\' target=\\'_self\\'>1.91</a></nobr></td><td><nobr><a title=\\'查看2006財務比率表\\' class=\\'link_black\\' href=\\'StockFinDetail.asp?RPT_CAT=XX_M_YEAR&LAST_RPT_CAT=XX_M_YEAR&STOCK_ID=6257&QRY_TIME=2006\\' target=\\'_self\\'>17.3</a></nobr></td><td><nobr><a title=\\'查看2006財務比率表\\' class=\\'link_black\\' href=\\'StockFinDetail.asp?RPT_CAT=XX_M_YEAR&LAST_RPT_CAT=XX_M_YEAR&STOCK_ID=6257&QRY_TIME=2006\\' target=\\'_self\\'>14.8</a></nobr></td><td><nobr><a title=\\'查看2006財務比率表\\' class=\\'link_black\\' href=\\'StockFinDetail.asp?RPT_CAT=XX_M_YEAR&LAST_RPT_CAT=XX_M_YEAR&STOCK_ID=6257&QRY_TIME=2006\\' target=\\'_self\\'>9.66</a></nobr></td><td><nobr><a title=\\'查看2006財務比率表\\' class=\\'link_black\\' href=\\'StockFinDetail.asp?RPT_CAT=XX_M_YEAR&LAST_RPT_CAT=XX_M_YEAR&STOCK_ID=6257&QRY_TIME=2006\\' target=\\'_self\\'>2.46</a></nobr></td><td><nobr><a title=\\'查看2006財務比率表\\' class=\\'link_red\\' href=\\'StockFinDetail.asp?RPT_CAT=XX_M_YEAR&LAST_RPT_CAT=XX_M_YEAR&STOCK_ID=6257&QRY_TIME=2006\\' target=\\'_self\\'>+0.79</a></nobr></td><td><nobr><a title=\\'查看2006資產負債表\\' class=\\'link_black\\' href=\\'StockFinDetail.asp?RPT_CAT=BS_M_YEAR&LAST_RPT_CAT=BS_M_YEAR&STOCK_ID=6257&QRY_TIME=2006\\' target=\\'_self\\'>17.25</a></nobr></td></tr><tr id=\\'row15\\' align=\\'center\\' bgcolor=\\'#f0f0f0\\' height=\\'23px\\'  OnMouseOver=\"ChgBGColor([\\'rowh15\\',\\'row15\\'],\\'#fff2cc\\');\"  OnMouseOut=\"ChgBGColor([\\'rowh15\\',\\'row15\\'],\\'#f0f0f0\\');\"><td><nobr>2005</nobr></td><td><nobr><a title=\\'查看2005資產負債表\\' class=\\'link_black\\' href=\\'StockFinDetail.asp?RPT_CAT=BS_M_YEAR&LAST_RPT_CAT=BS_M_YEAR&STOCK_ID=6257&QRY_TIME=2005\\' target=\\'_self\\'>18.6</a></nobr></td><td><nobr><a title=\\'查看2005財報評分\\' class=\\'link_black\\' href=\\'StockFinGrade.asp?STOCK_ID=6257&QRY_TIME=2005&RPT_CAT=M_YEAR\\' target=\\'_self\\'>60</a></nobr></td><td><nobr><a title=\\'查看個股日K線圖\\' class=\\'link_black\\' href=\\'ShowK_Chart.asp?STOCK_ID=6257&CHT_NM=%E5%80%8B%E8%82%A1K%E7%B7%9A%E5%9C%96&CHT_CAT=%E6%97%A5%E7%B7%9A%E5%9C%96&CHT_CAT2=DATE\\' target=\\'_self\\'>22.75</a></nobr></td><td><nobr><a title=\\'查看個股日K線圖\\' class=\\'link_black\\' href=\\'ShowK_Chart.asp?STOCK_ID=6257&CHT_NM=%E5%80%8B%E8%82%A1K%E7%B7%9A%E5%9C%96&CHT_CAT=%E6%97%A5%E7%B7%9A%E5%9C%96&CHT_CAT2=DATE\\' target=\\'_self\\'>19</a></nobr></td><td><nobr><a title=\\'查看個股日K線圖\\' class=\\'link_red\\' href=\\'ShowK_Chart.asp?STOCK_ID=6257&CHT_NM=%E5%80%8B%E8%82%A1K%E7%B7%9A%E5%9C%96&CHT_CAT=%E6%97%A5%E7%B7%9A%E5%9C%96&CHT_CAT2=DATE\\' target=\\'_self\\'>+1.05</a></nobr></td><td><nobr><a title=\\'查看個股日K線圖\\' class=\\'link_red\\' href=\\'ShowK_Chart.asp?STOCK_ID=6257&CHT_NM=%E5%80%8B%E8%82%A1K%E7%B7%9A%E5%9C%96&CHT_CAT=%E6%97%A5%E7%B7%9A%E5%9C%96&CHT_CAT2=DATE\\' target=\\'_self\\'>+4.8</a></nobr></td><td><nobr><a title=\\'查看2005損益表\\' class=\\'link_black\\' href=\\'StockFinDetail.asp?RPT_CAT=IS_M_YEAR&LAST_RPT_CAT=IS_M_YEAR&STOCK_ID=6257&QRY_TIME=2005\\' target=\\'_self\\'>23</a></nobr></td><td><nobr><a title=\\'查看2005損益表\\' class=\\'link_black\\' href=\\'StockFinDetail.asp?RPT_CAT=IS_M_YEAR&LAST_RPT_CAT=IS_M_YEAR&STOCK_ID=6257&QRY_TIME=2005\\' target=\\'_self\\'>5.08</a></nobr></td><td><nobr><a title=\\'查看2005損益表\\' class=\\'link_black\\' href=\\'StockFinDetail.asp?RPT_CAT=IS_M_YEAR&LAST_RPT_CAT=IS_M_YEAR&STOCK_ID=6257&QRY_TIME=2005\\' target=\\'_self\\'>3.03</a></nobr></td><td><nobr><a title=\\'查看2005損益表\\' class=\\'link_black\\' href=\\'StockFinDetail.asp?RPT_CAT=IS_M_YEAR&LAST_RPT_CAT=IS_M_YEAR&STOCK_ID=6257&QRY_TIME=2005\\' target=\\'_self\\'>0.1</a></nobr></td><td><nobr><a title=\\'查看2005損益表\\' class=\\'link_black\\' href=\\'StockFinDetail.asp?RPT_CAT=IS_M_YEAR&LAST_RPT_CAT=IS_M_YEAR&STOCK_ID=6257&QRY_TIME=2005\\' target=\\'_self\\'>2.81</a></nobr></td><td><nobr><a title=\\'查看2005財務比率表\\' class=\\'link_black\\' href=\\'StockFinDetail.asp?RPT_CAT=XX_M_YEAR&LAST_RPT_CAT=XX_M_YEAR&STOCK_ID=6257&QRY_TIME=2005\\' target=\\'_self\\'>22</a></nobr></td><td><nobr><a title=\\'查看2005財務比率表\\' class=\\'link_black\\' href=\\'StockFinDetail.asp?RPT_CAT=XX_M_YEAR&LAST_RPT_CAT=XX_M_YEAR&STOCK_ID=6257&QRY_TIME=2005\\' target=\\'_self\\'>13.2</a></nobr></td><td><nobr><a title=\\'查看2005財務比率表\\' class=\\'link_black\\' href=\\'StockFinDetail.asp?RPT_CAT=XX_M_YEAR&LAST_RPT_CAT=XX_M_YEAR&STOCK_ID=6257&QRY_TIME=2005\\' target=\\'_self\\'>0.43</a></nobr></td><td><nobr><a title=\\'查看2005財務比率表\\' class=\\'link_black\\' href=\\'StockFinDetail.asp?RPT_CAT=XX_M_YEAR&LAST_RPT_CAT=XX_M_YEAR&STOCK_ID=6257&QRY_TIME=2005\\' target=\\'_self\\'>12.2</a></nobr></td><td><nobr><a title=\\'查看2005財務比率表\\' class=\\'link_black\\' href=\\'StockFinDetail.asp?RPT_CAT=XX_M_YEAR&LAST_RPT_CAT=XX_M_YEAR&STOCK_ID=6257&QRY_TIME=2005\\' target=\\'_self\\'>9.86</a></nobr></td><td><nobr><a title=\\'查看2005財務比率表\\' class=\\'link_black\\' href=\\'StockFinDetail.asp?RPT_CAT=XX_M_YEAR&LAST_RPT_CAT=XX_M_YEAR&STOCK_ID=6257&QRY_TIME=2005\\' target=\\'_self\\'>6.42</a></nobr></td><td><nobr><a title=\\'查看2005財務比率表\\' class=\\'link_black\\' href=\\'StockFinDetail.asp?RPT_CAT=XX_M_YEAR&LAST_RPT_CAT=XX_M_YEAR&STOCK_ID=6257&QRY_TIME=2005\\' target=\\'_self\\'>1.67</a></nobr></td><td><nobr><a title=\\'查看2005財務比率表\\' class=\\'link_green\\' href=\\'StockFinDetail.asp?RPT_CAT=XX_M_YEAR&LAST_RPT_CAT=XX_M_YEAR&STOCK_ID=6257&QRY_TIME=2005\\' target=\\'_self\\'>-1.09</a></nobr></td><td><nobr><a title=\\'查看2005資產負債表\\' class=\\'link_black\\' href=\\'StockFinDetail.asp?RPT_CAT=BS_M_YEAR&LAST_RPT_CAT=BS_M_YEAR&STOCK_ID=6257&QRY_TIME=2005\\' target=\\'_self\\'>16.67</a></nobr></td></tr><tr id=\\'row16\\' align=\\'center\\' bgcolor=\\'#ffffff\\' height=\\'23px\\'  OnMouseOver=\"ChgBGColor([\\'rowh16\\',\\'row16\\'],\\'#fff2cc\\');\"  OnMouseOut=\"ChgBGColor([\\'rowh16\\',\\'row16\\'],\\'#ffffff\\');\"><td><nobr>2004</nobr></td><td><nobr><a title=\\'查看2004資產負債表\\' class=\\'link_black\\' href=\\'StockFinDetail.asp?RPT_CAT=BS_M_YEAR&LAST_RPT_CAT=BS_M_YEAR&STOCK_ID=6257&QRY_TIME=2004\\' target=\\'_self\\'>14.2</a></nobr></td><td><nobr><a title=\\'查看2004財報評分\\' class=\\'link_black\\' href=\\'StockFinGrade.asp?STOCK_ID=6257&QRY_TIME=2004&RPT_CAT=M_YEAR\\' target=\\'_self\\'>64</a></nobr></td><td><nobr><a title=\\'查看個股日K線圖\\' class=\\'link_black\\' href=\\'ShowK_Chart.asp?STOCK_ID=6257&CHT_NM=%E5%80%8B%E8%82%A1K%E7%B7%9A%E5%9C%96&CHT_CAT=%E6%97%A5%E7%B7%9A%E5%9C%96&CHT_CAT2=DATE\\' target=\\'_self\\'>21.7</a></nobr></td><td><nobr><a title=\\'查看個股日K線圖\\' class=\\'link_black\\' href=\\'ShowK_Chart.asp?STOCK_ID=6257&CHT_NM=%E5%80%8B%E8%82%A1K%E7%B7%9A%E5%9C%96&CHT_CAT=%E6%97%A5%E7%B7%9A%E5%9C%96&CHT_CAT2=DATE\\' target=\\'_self\\'>33.2</a></nobr></td><td><nobr><a title=\\'查看個股日K線圖\\' class=\\'link_green\\' href=\\'ShowK_Chart.asp?STOCK_ID=6257&CHT_NM=%E5%80%8B%E8%82%A1K%E7%B7%9A%E5%9C%96&CHT_CAT=%E6%97%A5%E7%B7%9A%E5%9C%96&CHT_CAT2=DATE\\' target=\\'_self\\'>-27.3</a></nobr></td><td><nobr><a title=\\'查看個股日K線圖\\' class=\\'link_green\\' href=\\'ShowK_Chart.asp?STOCK_ID=6257&CHT_NM=%E5%80%8B%E8%82%A1K%E7%B7%9A%E5%9C%96&CHT_CAT=%E6%97%A5%E7%B7%9A%E5%9C%96&CHT_CAT2=DATE\\' target=\\'_self\\'>-55.7</a></nobr></td><td><nobr><a title=\\'查看2004損益表\\' class=\\'link_black\\' href=\\'StockFinDetail.asp?RPT_CAT=IS_M_YEAR&LAST_RPT_CAT=IS_M_YEAR&STOCK_ID=6257&QRY_TIME=2004\\' target=\\'_self\\'>19.7</a></nobr></td><td><nobr><a title=\\'查看2004損益表\\' class=\\'link_black\\' href=\\'StockFinDetail.asp?RPT_CAT=IS_M_YEAR&LAST_RPT_CAT=IS_M_YEAR&STOCK_ID=6257&QRY_TIME=2004\\' target=\\'_self\\'>6.14</a></nobr></td><td><nobr><a title=\\'查看2004損益表\\' class=\\'link_black\\' href=\\'StockFinDetail.asp?RPT_CAT=IS_M_YEAR&LAST_RPT_CAT=IS_M_YEAR&STOCK_ID=6257&QRY_TIME=2004\\' target=\\'_self\\'>4.64</a></nobr></td><td><nobr><a title=\\'查看2004損益表\\' class=\\'link_green\\' href=\\'StockFinDetail.asp?RPT_CAT=IS_M_YEAR&LAST_RPT_CAT=IS_M_YEAR&STOCK_ID=6257&QRY_TIME=2004\\' target=\\'_self\\'>-0.19</a></nobr></td><td><nobr><a title=\\'查看2004損益表\\' class=\\'link_black\\' href=\\'StockFinDetail.asp?RPT_CAT=IS_M_YEAR&LAST_RPT_CAT=IS_M_YEAR&STOCK_ID=6257&QRY_TIME=2004\\' target=\\'_self\\'>3.91</a></nobr></td><td><nobr><a title=\\'查看2004財務比率表\\' class=\\'link_black\\' href=\\'StockFinDetail.asp?RPT_CAT=XX_M_YEAR&LAST_RPT_CAT=XX_M_YEAR&STOCK_ID=6257&QRY_TIME=2004\\' target=\\'_self\\'>31.2</a></nobr></td><td><nobr><a title=\\'查看2004財務比率表\\' class=\\'link_black\\' href=\\'StockFinDetail.asp?RPT_CAT=XX_M_YEAR&LAST_RPT_CAT=XX_M_YEAR&STOCK_ID=6257&QRY_TIME=2004\\' target=\\'_self\\'>23.6</a></nobr></td><td><nobr><a title=\\'查看2004財務比率表\\' class=\\'link_green\\' href=\\'StockFinDetail.asp?RPT_CAT=XX_M_YEAR&LAST_RPT_CAT=XX_M_YEAR&STOCK_ID=6257&QRY_TIME=2004\\' target=\\'_self\\'>-0.97</a></nobr></td><td><nobr><a title=\\'查看2004財務比率表\\' class=\\'link_black\\' href=\\'StockFinDetail.asp?RPT_CAT=XX_M_YEAR&LAST_RPT_CAT=XX_M_YEAR&STOCK_ID=6257&QRY_TIME=2004\\' target=\\'_self\\'>19.9</a></nobr></td><td><nobr><a title=\\'查看2004財務比率表\\' class=\\'link_black\\' href=\\'StockFinDetail.asp?RPT_CAT=XX_M_YEAR&LAST_RPT_CAT=XX_M_YEAR&STOCK_ID=6257&QRY_TIME=2004\\' target=\\'_self\\'>15.2</a></nobr></td><td><nobr><a title=\\'查看2004財務比率表\\' class=\\'link_black\\' href=\\'StockFinDetail.asp?RPT_CAT=XX_M_YEAR&LAST_RPT_CAT=XX_M_YEAR&STOCK_ID=6257&QRY_TIME=2004\\' target=\\'_self\\'>10.3</a></nobr></td><td><nobr><a title=\\'查看2004財務比率表\\' class=\\'link_black\\' href=\\'StockFinDetail.asp?RPT_CAT=XX_M_YEAR&LAST_RPT_CAT=XX_M_YEAR&STOCK_ID=6257&QRY_TIME=2004\\' target=\\'_self\\'>2.76</a></nobr></td><td><nobr><a title=\\'查看2004財務比率表\\' class=\\'link_green\\' href=\\'StockFinDetail.asp?RPT_CAT=XX_M_YEAR&LAST_RPT_CAT=XX_M_YEAR&STOCK_ID=6257&QRY_TIME=2004\\' target=\\'_self\\'>-1.16</a></nobr></td><td><nobr><a title=\\'查看2004資產負債表\\' class=\\'link_black\\' href=\\'StockFinDetail.asp?RPT_CAT=BS_M_YEAR&LAST_RPT_CAT=BS_M_YEAR&STOCK_ID=6257&QRY_TIME=2004\\' target=\\'_self\\'>18.14</a></nobr></td></tr><tr id=\\'row17\\' align=\\'center\\' bgcolor=\\'#f0f0f0\\' height=\\'23px\\'  OnMouseOver=\"ChgBGColor([\\'rowh17\\',\\'row17\\'],\\'#fff2cc\\');\"  OnMouseOut=\"ChgBGColor([\\'rowh17\\',\\'row17\\'],\\'#f0f0f0\\');\"><td><nobr>2003</nobr></td><td><nobr><a title=\\'查看2003資產負債表\\' class=\\'link_black\\' href=\\'StockFinDetail.asp?RPT_CAT=BS_M_YEAR&LAST_RPT_CAT=BS_M_YEAR&STOCK_ID=6257&QRY_TIME=2003\\' target=\\'_self\\'>10.7</a></nobr></td><td><nobr>-</nobr></td><td><nobr><a title=\\'查看個股日K線圖\\' class=\\'link_black\\' href=\\'ShowK_Chart.asp?STOCK_ID=6257&CHT_NM=%E5%80%8B%E8%82%A1K%E7%B7%9A%E5%9C%96&CHT_CAT=%E6%97%A5%E7%B7%9A%E5%9C%96&CHT_CAT2=DATE\\' target=\\'_self\\'>49</a></nobr></td><td><nobr><a title=\\'查看個股日K線圖\\' class=\\'link_black\\' href=\\'ShowK_Chart.asp?STOCK_ID=6257&CHT_NM=%E5%80%8B%E8%82%A1K%E7%B7%9A%E5%9C%96&CHT_CAT=%E6%97%A5%E7%B7%9A%E5%9C%96&CHT_CAT2=DATE\\' target=\\'_self\\'>49.6</a></nobr></td><td><nobr><a title=\\'查看個股日K線圖\\' class=\\'link_red\\' href=\\'ShowK_Chart.asp?STOCK_ID=6257&CHT_NM=%E5%80%8B%E8%82%A1K%E7%B7%9A%E5%9C%96&CHT_CAT=%E6%97%A5%E7%B7%9A%E5%9C%96&CHT_CAT2=DATE\\' target=\\'_self\\'>+15.9</a></nobr></td><td><nobr><a title=\\'查看個股日K線圖\\' class=\\'link_red\\' href=\\'ShowK_Chart.asp?STOCK_ID=6257&CHT_NM=%E5%80%8B%E8%82%A1K%E7%B7%9A%E5%9C%96&CHT_CAT=%E6%97%A5%E7%B7%9A%E5%9C%96&CHT_CAT2=DATE\\' target=\\'_self\\'>+48</a></nobr></td><td><nobr>-</nobr></td><td><nobr>-</nobr></td><td><nobr>-</nobr></td><td><nobr>-</nobr></td><td><nobr><a title=\\'查看2003損益表\\' class=\\'link_black\\' href=\\'StockFinDetail.asp?RPT_CAT=IS_M_YEAR&LAST_RPT_CAT=IS_M_YEAR&STOCK_ID=6257&QRY_TIME=2003\\' target=\\'_self\\'>4.18</a></nobr></td><td><nobr>-</nobr></td><td><nobr>-</nobr></td><td><nobr>-</nobr></td><td><nobr>-</nobr></td><td><nobr>-</nobr></td><td><nobr>-</nobr></td><td><nobr><a title=\\'查看2003財務比率表\\' class=\\'link_black\\' href=\\'StockFinDetail.asp?RPT_CAT=XX_M_YEAR&LAST_RPT_CAT=XX_M_YEAR&STOCK_ID=6257&QRY_TIME=2003\\' target=\\'_self\\'>3.92</a></nobr></td><td><nobr><a title=\\'查看2003財務比率表\\' class=\\'link_red\\' href=\\'StockFinDetail.asp?RPT_CAT=XX_M_YEAR&LAST_RPT_CAT=XX_M_YEAR&STOCK_ID=6257&QRY_TIME=2003\\' target=\\'_self\\'>+1.32</a></nobr></td><td><nobr><a title=\\'查看2003資產負債表\\' class=\\'link_black\\' href=\\'StockFinDetail.asp?RPT_CAT=BS_M_YEAR&LAST_RPT_CAT=BS_M_YEAR&STOCK_ID=6257&QRY_TIME=2003\\' target=\\'_self\\'>18.46</a></nobr></td></tr><thead><tr align=\\'center\\' bgcolor=\\'#d7e6f4\\' height=\\'23px\\'><td rowspan=\\'2\\'><nobr>年度</nobr></td><td rowspan=\\'2\\'><nobr>股本<br>(億)</nobr></td><td rowspan=\\'2\\'><nobr>財報<br>評分</nobr></td><td colspan=\\'4\\'><nobr>年度股價(元)</nobr></td><td colspan=\\'5\\'><nobr>獲利金額(億)</nobr></td><td colspan=\\'4\\'><nobr>獲利率(%)</nobr></td><td rowspan=\\'2\\'><nobr>ROE<br>(%)</nobr></td><td rowspan=\\'2\\'><nobr>ROA<br>(%)</nobr></td><td colspan=\\'2\\'><nobr>EPS(元)</nobr></td><td rowspan=\\'2\\'><nobr>BPS<br>(元)</nobr></td></tr><tr align=\\'center\\' bgcolor=\\'#d7e6f4\\' height=\\'40px\\'><td><nobr>收盤</nobr></td><td title=\\'年度平均收盤價\\'><nobr>平均</nobr></td><td><nobr>漲跌</nobr></td><td><nobr>漲跌<br>(%)</nobr></td><td><nobr>營業<br>收入</nobr></td><td><nobr>營業<br>毛利</nobr></td><td><nobr>營業<br>利益</nobr></td><td><nobr>業外<br>損益</nobr></td><td><nobr>稅後<br>淨利</nobr></td><td><nobr>營業<br>毛利</nobr></td><td><nobr>營業<br>利益</nobr></td><td><nobr>業外<br>損益</nobr></td><td><nobr>稅後<br>淨利</nobr></td><td><nobr>稅後<br>EPS</nobr></td><td><nobr>年增<br>(元)</nobr></td></tr></thead><tr id=\\'row18\\' align=\\'center\\' bgcolor=\\'#ffffff\\' height=\\'23px\\'  OnMouseOver=\"ChgBGColor([\\'rowh18\\',\\'row18\\'],\\'#fff2cc\\');\"  OnMouseOut=\"ChgBGColor([\\'rowh18\\',\\'row18\\'],\\'#ffffff\\');\"><td><nobr>2002</nobr></td><td><nobr><a title=\\'查看2002資產負債表\\' class=\\'link_black\\' href=\\'StockFinDetail.asp?RPT_CAT=BS_M_YEAR&LAST_RPT_CAT=BS_M_YEAR&STOCK_ID=6257&QRY_TIME=2002\\' target=\\'_self\\'>9.11</a></nobr></td><td><nobr>-</nobr></td><td><nobr>-</nobr></td><td><nobr>-</nobr></td><td><nobr>-</nobr></td><td><nobr>-</nobr></td><td><nobr>-</nobr></td><td><nobr>-</nobr></td><td><nobr>-</nobr></td><td><nobr>-</nobr></td><td><nobr><a title=\\'查看2002損益表\\' class=\\'link_black\\' href=\\'StockFinDetail.asp?RPT_CAT=IS_M_YEAR&LAST_RPT_CAT=IS_M_YEAR&STOCK_ID=6257&QRY_TIME=2002\\' target=\\'_self\\'>2.37</a></nobr></td><td><nobr>-</nobr></td><td><nobr>-</nobr></td><td><nobr>-</nobr></td><td><nobr>-</nobr></td><td><nobr>-</nobr></td><td><nobr>-</nobr></td><td><nobr><a title=\\'查看2002財務比率表\\' class=\\'link_black\\' href=\\'StockFinDetail.asp?RPT_CAT=XX_M_YEAR&LAST_RPT_CAT=XX_M_YEAR&STOCK_ID=6257&QRY_TIME=2002\\' target=\\'_self\\'>2.6</a></nobr></td><td><nobr><a title=\\'查看2002財務比率表\\' class=\\'link_red\\' href=\\'StockFinDetail.asp?RPT_CAT=XX_M_YEAR&LAST_RPT_CAT=XX_M_YEAR&STOCK_ID=6257&QRY_TIME=2002\\' target=\\'_self\\'>+2.51</a></nobr></td><td><nobr><a title=\\'查看2002資產負債表\\' class=\\'link_black\\' href=\\'StockFinDetail.asp?RPT_CAT=BS_M_YEAR&LAST_RPT_CAT=BS_M_YEAR&STOCK_ID=6257&QRY_TIME=2002\\' target=\\'_self\\'>17.73</a></nobr></td></tr><tr id=\\'row19\\' align=\\'center\\' bgcolor=\\'#f0f0f0\\' height=\\'23px\\'  OnMouseOver=\"ChgBGColor([\\'rowh19\\',\\'row19\\'],\\'#fff2cc\\');\"  OnMouseOut=\"ChgBGColor([\\'rowh19\\',\\'row19\\'],\\'#f0f0f0\\');\"><td><nobr>2001</nobr></td><td><nobr><a title=\\'查看2001資產負債表\\' class=\\'link_black\\' href=\\'StockFinDetail.asp?RPT_CAT=BS_M_YEAR&LAST_RPT_CAT=BS_M_YEAR&STOCK_ID=6257&QRY_TIME=2001\\' target=\\'_self\\'>9.11</a></nobr></td><td><nobr>-</nobr></td><td><nobr>-</nobr></td><td><nobr>-</nobr></td><td><nobr>-</nobr></td><td><nobr>-</nobr></td><td><nobr>-</nobr></td><td><nobr>-</nobr></td><td><nobr>-</nobr></td><td><nobr>-</nobr></td><td><nobr><a title=\\'查看2001損益表\\' class=\\'link_black\\' href=\\'StockFinDetail.asp?RPT_CAT=IS_M_YEAR&LAST_RPT_CAT=IS_M_YEAR&STOCK_ID=6257&QRY_TIME=2001\\' target=\\'_self\\'>0.08</a></nobr></td><td><nobr>-</nobr></td><td><nobr>-</nobr></td><td><nobr>-</nobr></td><td><nobr>-</nobr></td><td><nobr>-</nobr></td><td><nobr>-</nobr></td><td><nobr><a title=\\'查看2001財務比率表\\' class=\\'link_black\\' href=\\'StockFinDetail.asp?RPT_CAT=XX_M_YEAR&LAST_RPT_CAT=XX_M_YEAR&STOCK_ID=6257&QRY_TIME=2001\\' target=\\'_self\\'>0.09</a></nobr></td><td><nobr>-</nobr></td><td><nobr>-</nobr></td></tr><tr id=\\'row20\\' align=\\'center\\' bgcolor=\\'#ffffff\\' height=\\'23px\\'  OnMouseOver=\"ChgBGColor([\\'rowh20\\',\\'row20\\'],\\'#fff2cc\\');\"  OnMouseOut=\"ChgBGColor([\\'rowh20\\',\\'row20\\'],\\'#ffffff\\');\"><td><nobr>2000</nobr></td><td><nobr>-</nobr></td><td><nobr>-</nobr></td><td><nobr>-</nobr></td><td><nobr>-</nobr></td><td><nobr>-</nobr></td><td><nobr>-</nobr></td><td><nobr>-</nobr></td><td><nobr>-</nobr></td><td><nobr>-</nobr></td><td><nobr>-</nobr></td><td><nobr>-</nobr></td><td><nobr>-</nobr></td><td><nobr>-</nobr></td><td><nobr>-</nobr></td><td><nobr>-</nobr></td><td><nobr>-</nobr></td><td><nobr>-</nobr></td><td><nobr>-</nobr></td><td><nobr>-</nobr></td><td><nobr>-</nobr></td></tr></table></div></div><p style=\\'margin-top:4px;margin-bottom:0px;font-size:9pt;color:gray;\\'>* 本表之單季或累季 ROE/ROA 皆以全年預估值顯示, 請使用者注意。</p></div>\\r\\n    </td>\\r\\n  </tr>\\r\\n</table>\\r\\n\\r\\n<!-- 版權及責任宣告 -->\\r\\n<p style=\\'margin-top:0px;margin-bottom:8px\\'></p><table class=\\'none_tbl\\' width=\\'1000px\\' align=\\'center\\'><tr><td><hr></td></tr></table><table class=\\'none_tbl\\' width=\\'1000px\\' style=\\'font-size:9pt;color:gray;\\' align=\\'center\\'>  <tr>    <td>      <p style=\\'margin-top: 0px; margin-bottom: 3px\\'>股豐資訊有限公司&nbsp;版權所有&nbsp;&copy;&nbsp;2012-2020 Good Information Co., Ltd. All Rights Reserved. <nobr>(<a target=\\'_self\\' class=\\'link_blue\\' href=\\'ServiceTerms.asp\\'>服務條款</a>&nbsp;|&nbsp;<a target=\\'_self\\' class=\\'link_blue\\' href=\\'Privacy.asp\\'>隱私及Cookies政策</a>)</nobr></p>      <p style=\\'margin-top: 0px; margin-bottom: 3px\\'>本網站所有資料僅供參考，如使用者依本資料交易發生交易損失需自行負責，股豐資訊有限公司&nbsp;對資料內容錯誤、更新延誤或傳輸中斷不負任何責任。</p><p style=\\'margin-top: 0px; margin-bottom: 3px\\'><a class=\\'link_blue\\' target=\\'_blank\\' href=\\'http://www.ettoday.net/\\'>ETtoday新聞雲</a>&nbsp;|&nbsp;<a class=\\'link_blue\\' target=\\'_blank\\' href=\\'https://www.cnyes.com/\\'>Anue鉅亨</a>&nbsp;|&nbsp;<a class=\\'link_blue\\' target=\\'_blank\\' href=\\'https://hk.prnasia.com/\\'>PR Newswire</a>&nbsp;相關新聞標題與內容之著作權與智慧財產權均屬原網站及原作者所有，本網站僅提供新聞聯播，不主張任何權利。</p></td></tr></table><br/>\\r\\n\\r\\n</body>\\r\\n\\r\\n<script type=\"text/javascript\">\\r\\n\\tsetTimeout(function(){\\r\\n\\t\\tIMG_LOADING.style.display = \\'none\\';\\r\\n\\t\\tInitStockChart({CanvasID:\\'StockCanvas\\'});\\r\\n\\t\\tRepaintAD();\\r\\n\\t},300);\\r\\n\\tInitial();\\r\\n</script>\\r\\n\\r\\n</html>\\r\\n\\r\\n'"
      ]
     },
     "execution_count": 102,
     "metadata": {},
     "output_type": "execute_result"
    }
   ],
   "source": [
    "# crawl ROE\n",
    "res = requests.get('https://goodinfo.tw/StockInfo/StockBzPerformance.asp?STOCK_ID={}'.format(stock_id), headers = headers)\n",
    "res.encoding = 'utf-8'\n",
    "res.text"
   ]
  },
  {
   "cell_type": "code",
   "execution_count": 103,
   "metadata": {},
   "outputs": [],
   "source": [
    "from bs4 import BeautifulSoup\n",
    "soup = BeautifulSoup(res.text, 'lxml')\n",
    "data = soup.select_one('#txtFinDetailData')"
   ]
  },
  {
   "cell_type": "code",
   "execution_count": 104,
   "metadata": {},
   "outputs": [],
   "source": [
    "import pandas\n",
    "dfs = pandas.read_html(data.prettify())\n",
    "df = dfs[1]\n",
    "df.columns = df.columns.get_level_values(3)"
   ]
  },
  {
   "cell_type": "code",
   "execution_count": 105,
   "metadata": {},
   "outputs": [
    {
     "data": {
      "text/html": [
       "<div>\n",
       "<style scoped>\n",
       "    .dataframe tbody tr th:only-of-type {\n",
       "        vertical-align: middle;\n",
       "    }\n",
       "\n",
       "    .dataframe tbody tr th {\n",
       "        vertical-align: top;\n",
       "    }\n",
       "\n",
       "    .dataframe thead th {\n",
       "        text-align: right;\n",
       "    }\n",
       "</style>\n",
       "<table border=\"1\" class=\"dataframe\">\n",
       "  <thead>\n",
       "    <tr style=\"text-align: right;\">\n",
       "      <th></th>\n",
       "      <th>年度</th>\n",
       "      <th>股本  (億)</th>\n",
       "      <th>財報  評分</th>\n",
       "      <th>收盤</th>\n",
       "      <th>平均</th>\n",
       "      <th>漲跌</th>\n",
       "      <th>漲跌  (%)</th>\n",
       "      <th>營業  收入</th>\n",
       "      <th>營業  毛利</th>\n",
       "      <th>營業  利益</th>\n",
       "      <th>...</th>\n",
       "      <th>稅後  淨利</th>\n",
       "      <th>營業  毛利</th>\n",
       "      <th>營業  利益</th>\n",
       "      <th>業外  損益</th>\n",
       "      <th>稅後  淨利</th>\n",
       "      <th>ROE  (%)</th>\n",
       "      <th>ROA  (%)</th>\n",
       "      <th>稅後  EPS</th>\n",
       "      <th>年增  (元)</th>\n",
       "      <th>BPS  (元)</th>\n",
       "    </tr>\n",
       "  </thead>\n",
       "  <tbody>\n",
       "    <tr>\n",
       "      <th>0</th>\n",
       "      <td>20Q2</td>\n",
       "      <td>42.2</td>\n",
       "      <td>62</td>\n",
       "      <td>38.8</td>\n",
       "      <td>37.9</td>\n",
       "      <td>+1.7</td>\n",
       "      <td>+4.6</td>\n",
       "      <td>56.2</td>\n",
       "      <td>15.5</td>\n",
       "      <td>9.66</td>\n",
       "      <td>...</td>\n",
       "      <td>7.97</td>\n",
       "      <td>27.5</td>\n",
       "      <td>17.2</td>\n",
       "      <td>0.3</td>\n",
       "      <td>14.8</td>\n",
       "      <td>12.4  (年估)</td>\n",
       "      <td>6.46  (年估)</td>\n",
       "      <td>1.89</td>\n",
       "      <td>+0.67</td>\n",
       "      <td>26.25</td>\n",
       "    </tr>\n",
       "    <tr>\n",
       "      <th>1</th>\n",
       "      <td>2019</td>\n",
       "      <td>42.1</td>\n",
       "      <td>62</td>\n",
       "      <td>37.1</td>\n",
       "      <td>31.5</td>\n",
       "      <td>+10.05</td>\n",
       "      <td>+37.2</td>\n",
       "      <td>100</td>\n",
       "      <td>30.4</td>\n",
       "      <td>20.7</td>\n",
       "      <td>...</td>\n",
       "      <td>12.9</td>\n",
       "      <td>30.3</td>\n",
       "      <td>20.6</td>\n",
       "      <td>-0.01</td>\n",
       "      <td>15.6</td>\n",
       "      <td>12.3</td>\n",
       "      <td>7.07</td>\n",
       "      <td>3.26</td>\n",
       "      <td>+0.25</td>\n",
       "      <td>26.75</td>\n",
       "    </tr>\n",
       "    <tr>\n",
       "      <th>2</th>\n",
       "      <td>2018</td>\n",
       "      <td>39</td>\n",
       "      <td>64</td>\n",
       "      <td>27.05</td>\n",
       "      <td>34.3</td>\n",
       "      <td>-5.9</td>\n",
       "      <td>-17.9</td>\n",
       "      <td>95.4</td>\n",
       "      <td>26.6</td>\n",
       "      <td>17.3</td>\n",
       "      <td>...</td>\n",
       "      <td>11.6</td>\n",
       "      <td>27.8</td>\n",
       "      <td>18.1</td>\n",
       "      <td>0.7</td>\n",
       "      <td>14.1</td>\n",
       "      <td>12.1</td>\n",
       "      <td>7.07</td>\n",
       "      <td>3.01</td>\n",
       "      <td>+0.25</td>\n",
       "      <td>25.2</td>\n",
       "    </tr>\n",
       "    <tr>\n",
       "      <th>3</th>\n",
       "      <td>2017</td>\n",
       "      <td>36</td>\n",
       "      <td>60</td>\n",
       "      <td>32.95</td>\n",
       "      <td>27.3</td>\n",
       "      <td>+9.65</td>\n",
       "      <td>+41.4</td>\n",
       "      <td>68.3</td>\n",
       "      <td>18.7</td>\n",
       "      <td>16.1</td>\n",
       "      <td>...</td>\n",
       "      <td>9.89</td>\n",
       "      <td>27.4</td>\n",
       "      <td>23.6</td>\n",
       "      <td>-0.05</td>\n",
       "      <td>17.5</td>\n",
       "      <td>13</td>\n",
       "      <td>7.43</td>\n",
       "      <td>2.76</td>\n",
       "      <td>+0.59</td>\n",
       "      <td>23.49</td>\n",
       "    </tr>\n",
       "    <tr>\n",
       "      <th>4</th>\n",
       "      <td>2016</td>\n",
       "      <td>36</td>\n",
       "      <td>62</td>\n",
       "      <td>23.3</td>\n",
       "      <td>23.4</td>\n",
       "      <td>+1.05</td>\n",
       "      <td>+4.7</td>\n",
       "      <td>58</td>\n",
       "      <td>16.1</td>\n",
       "      <td>9.6</td>\n",
       "      <td>...</td>\n",
       "      <td>7.76</td>\n",
       "      <td>27.8</td>\n",
       "      <td>16.6</td>\n",
       "      <td>0.56</td>\n",
       "      <td>13.8</td>\n",
       "      <td>10</td>\n",
       "      <td>6.17</td>\n",
       "      <td>2.17</td>\n",
       "      <td>+0.06</td>\n",
       "      <td>22.34</td>\n",
       "    </tr>\n",
       "  </tbody>\n",
       "</table>\n",
       "<p>5 rows × 21 columns</p>\n",
       "</div>"
      ],
      "text/plain": [
       "     年度 股本  (億) 財報  評分     收盤    平均      漲跌 漲跌  (%) 營業  收入 營業  毛利 營業  利益  ...  \\\n",
       "0  20Q2    42.2     62   38.8  37.9    +1.7    +4.6   56.2   15.5   9.66  ...   \n",
       "1  2019    42.1     62   37.1  31.5  +10.05   +37.2    100   30.4   20.7  ...   \n",
       "2  2018      39     64  27.05  34.3    -5.9   -17.9   95.4   26.6   17.3  ...   \n",
       "3  2017      36     60  32.95  27.3   +9.65   +41.4   68.3   18.7   16.1  ...   \n",
       "4  2016      36     62   23.3  23.4   +1.05    +4.7     58   16.1    9.6  ...   \n",
       "\n",
       "  稅後  淨利 營業  毛利 營業  利益 業外  損益 稅後  淨利    ROE  (%)    ROA  (%) 稅後  EPS 年增  (元)  \\\n",
       "0   7.97   27.5   17.2    0.3   14.8  12.4  (年估)  6.46  (年估)    1.89   +0.67   \n",
       "1   12.9   30.3   20.6  -0.01   15.6        12.3        7.07    3.26   +0.25   \n",
       "2   11.6   27.8   18.1    0.7   14.1        12.1        7.07    3.01   +0.25   \n",
       "3   9.89   27.4   23.6  -0.05   17.5          13        7.43    2.76   +0.59   \n",
       "4   7.76   27.8   16.6   0.56   13.8          10        6.17    2.17   +0.06   \n",
       "\n",
       "  BPS  (元)  \n",
       "0    26.25  \n",
       "1    26.75  \n",
       "2     25.2  \n",
       "3    23.49  \n",
       "4    22.34  \n",
       "\n",
       "[5 rows x 21 columns]"
      ]
     },
     "execution_count": 105,
     "metadata": {},
     "output_type": "execute_result"
    }
   ],
   "source": [
    "df.head()"
   ]
  },
  {
   "cell_type": "code",
   "execution_count": 106,
   "metadata": {},
   "outputs": [
    {
     "data": {
      "text/plain": [
       "Index(['年度', '股本  (億)', '財報  評分', '收盤', '平均', '漲跌', '漲跌  (%)', '營業  收入',\n",
       "       '營業  毛利', '營業  利益', '業外  損益', '稅後  淨利', '營業  毛利', '營業  利益', '業外  損益',\n",
       "       '稅後  淨利', 'ROE  (%)', 'ROA  (%)', '稅後  EPS', '年增  (元)', 'BPS  (元)'],\n",
       "      dtype='object')"
      ]
     },
     "execution_count": 106,
     "metadata": {},
     "output_type": "execute_result"
    }
   ],
   "source": [
    "df.columns"
   ]
  },
  {
   "cell_type": "code",
   "execution_count": 107,
   "metadata": {},
   "outputs": [
    {
     "name": "stdout",
     "output_type": "stream",
     "text": [
      "[12.4, 12.3, 12.1, 13.0, 10.0]\n"
     ]
    }
   ],
   "source": [
    "import re\n",
    "ROEs_vals = df[\"ROE  (%)\"].values\n",
    "\n",
    "years = 5\n",
    "ROEs = []\n",
    "for ROE in ROEs_vals[:years]:\n",
    "    ROE = re.findall(r\"[-+]?\\d*\\.\\d+|\\d+\", ROE)\n",
    "    if len(ROE) > 1: \n",
    "        print (\"ERROR: String parse error!\")\n",
    "    if len(ROE) == 0:\n",
    "        print (\"ERROR: No ROE record for some years!\")\n",
    "        \n",
    "    ROE = float(ROE[0])\n",
    "    ROEs.append(ROE)\n",
    "\n",
    "print (ROEs)"
   ]
  },
  {
   "cell_type": "code",
   "execution_count": 108,
   "metadata": {},
   "outputs": [
    {
     "name": "stdout",
     "output_type": "stream",
     "text": [
      "[1.89, 3.26, 3.01, 2.76, 2.17]\n"
     ]
    }
   ],
   "source": [
    "import re\n",
    "EPSs_vals = df[\"稅後  EPS\"].values\n",
    "\n",
    "years = 5\n",
    "EPSs = []\n",
    "for EPS in EPSs_vals[:years]:\n",
    "    EPS = re.findall(r\"[-+]?\\d*\\.\\d+|\\d+\", EPS)\n",
    "    if len(EPS) > 1: \n",
    "        print (\"ERROR: String parse error!\")\n",
    "    if len(EPS) == 0:\n",
    "        print (\"ERROR: No EPS record for some years!\")\n",
    "        \n",
    "    EPS = float(EPS[0])\n",
    "    EPSs.append(EPS)\n",
    "\n",
    "print (EPSs)"
   ]
  },
  {
   "cell_type": "markdown",
   "metadata": {},
   "source": [
    "## 股利政策"
   ]
  },
  {
   "cell_type": "code",
   "execution_count": 136,
   "metadata": {},
   "outputs": [],
   "source": [
    "import requests\n",
    "headers = {\n",
    "  'user-agent': 'Mozilla/5.0 (Macintosh; Intel Mac OS X 10_14_6) AppleWebKit/537.36 (KHTML, like Gecko) Chrome/84.0.4147.105 Safari/537.36'  \n",
    "}\n",
    "res = requests.get(\"https://histock.tw/stock/{}/%E9%99%A4%E6%AC%8A%E9%99%A4%E6%81%AF\".format(stock_id), headers = headers)\n",
    "res.encoding = 'utf-8'\n",
    "#res.text"
   ]
  },
  {
   "cell_type": "code",
   "execution_count": 142,
   "metadata": {},
   "outputs": [
    {
     "data": {
      "text/html": [
       "<div>\n",
       "<style scoped>\n",
       "    .dataframe tbody tr th:only-of-type {\n",
       "        vertical-align: middle;\n",
       "    }\n",
       "\n",
       "    .dataframe tbody tr th {\n",
       "        vertical-align: top;\n",
       "    }\n",
       "\n",
       "    .dataframe thead th {\n",
       "        text-align: right;\n",
       "    }\n",
       "</style>\n",
       "<table border=\"1\" class=\"dataframe\">\n",
       "  <thead>\n",
       "    <tr style=\"text-align: right;\">\n",
       "      <th></th>\n",
       "      <th>所屬年度</th>\n",
       "      <th>發放年度</th>\n",
       "      <th>除權日</th>\n",
       "      <th>除息日</th>\n",
       "      <th>除權息  前股價</th>\n",
       "      <th>股票股利</th>\n",
       "      <th>現金股利</th>\n",
       "      <th>EPS</th>\n",
       "      <th>配息率</th>\n",
       "      <th>現金  殖利率</th>\n",
       "      <th>扣抵稅率</th>\n",
       "      <th>增資  配股率</th>\n",
       "      <th>增資  認購價</th>\n",
       "    </tr>\n",
       "  </thead>\n",
       "  <tbody>\n",
       "    <tr>\n",
       "      <th>1</th>\n",
       "      <td>2019後半</td>\n",
       "      <td>2020.0</td>\n",
       "      <td>NaN</td>\n",
       "      <td>07/27</td>\n",
       "      <td>46.40</td>\n",
       "      <td>0.0</td>\n",
       "      <td>2.20</td>\n",
       "      <td>3.26</td>\n",
       "      <td>67.48%</td>\n",
       "      <td>4.74%</td>\n",
       "      <td>NaN</td>\n",
       "      <td>0.0</td>\n",
       "      <td>0.0</td>\n",
       "    </tr>\n",
       "    <tr>\n",
       "      <th>2</th>\n",
       "      <td>2018</td>\n",
       "      <td>2019.0</td>\n",
       "      <td>NaN</td>\n",
       "      <td>07/15</td>\n",
       "      <td>31.25</td>\n",
       "      <td>0.0</td>\n",
       "      <td>2.06</td>\n",
       "      <td>3.01</td>\n",
       "      <td>68.44%</td>\n",
       "      <td>6.59%</td>\n",
       "      <td>NaN</td>\n",
       "      <td>0.0</td>\n",
       "      <td>0.0</td>\n",
       "    </tr>\n",
       "    <tr>\n",
       "      <th>3</th>\n",
       "      <td>2017</td>\n",
       "      <td>2018.0</td>\n",
       "      <td>NaN</td>\n",
       "      <td>07/09</td>\n",
       "      <td>36.95</td>\n",
       "      <td>0.0</td>\n",
       "      <td>1.76</td>\n",
       "      <td>2.76</td>\n",
       "      <td>63.77%</td>\n",
       "      <td>4.77%</td>\n",
       "      <td>NaN</td>\n",
       "      <td>0.0</td>\n",
       "      <td>0.0</td>\n",
       "    </tr>\n",
       "    <tr>\n",
       "      <th>4</th>\n",
       "      <td>2016</td>\n",
       "      <td>2017.0</td>\n",
       "      <td>NaN</td>\n",
       "      <td>08/07</td>\n",
       "      <td>28.50</td>\n",
       "      <td>0.0</td>\n",
       "      <td>1.65</td>\n",
       "      <td>2.17</td>\n",
       "      <td>76.04%</td>\n",
       "      <td>5.78%</td>\n",
       "      <td>15.66%</td>\n",
       "      <td>0.0</td>\n",
       "      <td>0.0</td>\n",
       "    </tr>\n",
       "    <tr>\n",
       "      <th>5</th>\n",
       "      <td>2015</td>\n",
       "      <td>2016.0</td>\n",
       "      <td>NaN</td>\n",
       "      <td>07/28</td>\n",
       "      <td>24.65</td>\n",
       "      <td>0.0</td>\n",
       "      <td>1.60</td>\n",
       "      <td>2.11</td>\n",
       "      <td>75.83%</td>\n",
       "      <td>6.49%</td>\n",
       "      <td>17.49%</td>\n",
       "      <td>0.0</td>\n",
       "      <td>0.0</td>\n",
       "    </tr>\n",
       "  </tbody>\n",
       "</table>\n",
       "</div>"
      ],
      "text/plain": [
       "     所屬年度    發放年度  除權日    除息日  除權息  前股價  股票股利  現金股利   EPS     配息率 現金  殖利率  \\\n",
       "1  2019後半  2020.0  NaN  07/27     46.40   0.0  2.20  3.26  67.48%   4.74%   \n",
       "2    2018  2019.0  NaN  07/15     31.25   0.0  2.06  3.01  68.44%   6.59%   \n",
       "3    2017  2018.0  NaN  07/09     36.95   0.0  1.76  2.76  63.77%   4.77%   \n",
       "4    2016  2017.0  NaN  08/07     28.50   0.0  1.65  2.17  76.04%   5.78%   \n",
       "5    2015  2016.0  NaN  07/28     24.65   0.0  1.60  2.11  75.83%   6.49%   \n",
       "\n",
       "     扣抵稅率  增資  配股率  增資  認購價  \n",
       "1     NaN      0.0      0.0  \n",
       "2     NaN      0.0      0.0  \n",
       "3     NaN      0.0      0.0  \n",
       "4  15.66%      0.0      0.0  \n",
       "5  17.49%      0.0      0.0  "
      ]
     },
     "execution_count": 142,
     "metadata": {},
     "output_type": "execute_result"
    }
   ],
   "source": [
    "from bs4 import BeautifulSoup\n",
    "soup = BeautifulSoup(res.text, 'lxml')\n",
    "data = soup.select_one(\"table\", class_=\"tb-outline\")\n",
    "\n",
    "import pandas\n",
    "dfs = pandas.read_html(data.prettify())\n",
    "\n",
    "df = dfs[0]\n",
    "df = df[1:]\n",
    "df.head()"
   ]
  },
  {
   "cell_type": "code",
   "execution_count": 161,
   "metadata": {},
   "outputs": [],
   "source": [
    "year_to_check = 5\n",
    "cash_dividend_payouts = df[\"現金股利\"][:year_to_check].astype('float')\n",
    "EPSs = df[\"EPS\"][:year_to_check].astype('float')"
   ]
  },
  {
   "cell_type": "code",
   "execution_count": 163,
   "metadata": {},
   "outputs": [],
   "source": [
    "cash_dividend_ratios = cash_dividend_payouts / EPSs"
   ]
  },
  {
   "cell_type": "code",
   "execution_count": 164,
   "metadata": {},
   "outputs": [
    {
     "data": {
      "text/plain": [
       "1    0.674847\n",
       "2    0.684385\n",
       "3    0.637681\n",
       "4    0.760369\n",
       "5    0.758294\n",
       "dtype: float64"
      ]
     },
     "execution_count": 164,
     "metadata": {},
     "output_type": "execute_result"
    }
   ],
   "source": [
    "cash_dividend_ratios"
   ]
  },
  {
   "cell_type": "markdown",
   "metadata": {},
   "source": [
    "## 每股淨值"
   ]
  },
  {
   "cell_type": "code",
   "execution_count": 165,
   "metadata": {},
   "outputs": [],
   "source": [
    "import requests\n",
    "headers = {\n",
    "  'user-agent': 'Mozilla/5.0 (Macintosh; Intel Mac OS X 10_14_6) AppleWebKit/537.36 (KHTML, like Gecko) Chrome/84.0.4147.105 Safari/537.36'  \n",
    "}\n",
    "res = requests.get(\"https://histock.tw/stock/{}/%E6%AF%8F%E8%82%A1%E6%B7%A8%E5%80%BC\".format(stock_id), headers = headers)\n",
    "res.encoding = 'utf-8'\n",
    "#res.text"
   ]
  },
  {
   "cell_type": "code",
   "execution_count": 167,
   "metadata": {},
   "outputs": [
    {
     "data": {
      "text/html": [
       "<div>\n",
       "<style scoped>\n",
       "    .dataframe tbody tr th:only-of-type {\n",
       "        vertical-align: middle;\n",
       "    }\n",
       "\n",
       "    .dataframe tbody tr th {\n",
       "        vertical-align: top;\n",
       "    }\n",
       "\n",
       "    .dataframe thead th {\n",
       "        text-align: right;\n",
       "    }\n",
       "</style>\n",
       "<table border=\"1\" class=\"dataframe\">\n",
       "  <thead>\n",
       "    <tr style=\"text-align: right;\">\n",
       "      <th></th>\n",
       "      <th>季別/年度</th>\n",
       "      <th>2012</th>\n",
       "      <th>2013</th>\n",
       "      <th>2014</th>\n",
       "      <th>2015</th>\n",
       "      <th>2016</th>\n",
       "      <th>2017</th>\n",
       "      <th>2018</th>\n",
       "      <th>2019</th>\n",
       "      <th>2020</th>\n",
       "    </tr>\n",
       "  </thead>\n",
       "  <tbody>\n",
       "    <tr>\n",
       "      <th>0</th>\n",
       "      <td>Q1</td>\n",
       "      <td>20.03</td>\n",
       "      <td>20.93</td>\n",
       "      <td>21.51</td>\n",
       "      <td>22.38</td>\n",
       "      <td>22.20</td>\n",
       "      <td>22.75</td>\n",
       "      <td>24.28</td>\n",
       "      <td>25.90</td>\n",
       "      <td>26.25</td>\n",
       "    </tr>\n",
       "    <tr>\n",
       "      <th>1</th>\n",
       "      <td>Q2</td>\n",
       "      <td>19.07</td>\n",
       "      <td>19.48</td>\n",
       "      <td>20.59</td>\n",
       "      <td>20.81</td>\n",
       "      <td>21.10</td>\n",
       "      <td>21.78</td>\n",
       "      <td>23.74</td>\n",
       "      <td>24.65</td>\n",
       "      <td>26.25</td>\n",
       "    </tr>\n",
       "    <tr>\n",
       "      <th>2</th>\n",
       "      <td>Q3</td>\n",
       "      <td>19.78</td>\n",
       "      <td>20.21</td>\n",
       "      <td>21.38</td>\n",
       "      <td>21.39</td>\n",
       "      <td>21.71</td>\n",
       "      <td>22.40</td>\n",
       "      <td>24.58</td>\n",
       "      <td>25.66</td>\n",
       "      <td>-</td>\n",
       "    </tr>\n",
       "    <tr>\n",
       "      <th>3</th>\n",
       "      <td>Q4</td>\n",
       "      <td>20.46</td>\n",
       "      <td>20.86</td>\n",
       "      <td>21.95</td>\n",
       "      <td>21.86</td>\n",
       "      <td>22.34</td>\n",
       "      <td>23.49</td>\n",
       "      <td>25.20</td>\n",
       "      <td>26.75</td>\n",
       "      <td>-</td>\n",
       "    </tr>\n",
       "  </tbody>\n",
       "</table>\n",
       "</div>"
      ],
      "text/plain": [
       "  季別/年度   2012   2013   2014   2015   2016   2017   2018   2019   2020\n",
       "0    Q1  20.03  20.93  21.51  22.38  22.20  22.75  24.28  25.90  26.25\n",
       "1    Q2  19.07  19.48  20.59  20.81  21.10  21.78  23.74  24.65  26.25\n",
       "2    Q3  19.78  20.21  21.38  21.39  21.71  22.40  24.58  25.66      -\n",
       "3    Q4  20.46  20.86  21.95  21.86  22.34  23.49  25.20  26.75      -"
      ]
     },
     "execution_count": 167,
     "metadata": {},
     "output_type": "execute_result"
    }
   ],
   "source": [
    "from bs4 import BeautifulSoup\n",
    "soup = BeautifulSoup(res.text, 'lxml')\n",
    "data = soup.select_one(\"table\", class_=\"tb-outline\")\n",
    "\n",
    "import pandas\n",
    "dfs = pandas.read_html(data.prettify())\n",
    "\n",
    "df = dfs[0]\n",
    "df.head()"
   ]
  },
  {
   "cell_type": "code",
   "execution_count": 180,
   "metadata": {},
   "outputs": [
    {
     "data": {
      "text/plain": [
       "26.75"
      ]
     },
     "execution_count": 180,
     "metadata": {},
     "output_type": "execute_result"
    }
   ],
   "source": [
    "last_year = \"2019\"\n",
    "prev_net_val_per_share = df.iloc[3][last_year]\n",
    "prev_net_val_per_share"
   ]
  },
  {
   "cell_type": "markdown",
   "metadata": {},
   "source": [
    "## 本益比"
   ]
  },
  {
   "cell_type": "code",
   "execution_count": null,
   "metadata": {},
   "outputs": [],
   "source": [
    "import requests\n",
    "headers = {\n",
    "  'user-agent': 'Mozilla/5.0 (Macintosh; Intel Mac OS X 10_14_6) AppleWebKit/537.36 (KHTML, like Gecko) Chrome/84.0.4147.105 Safari/537.36'  \n",
    "}\n",
    "res = requests.get(\"https://histock.tw/stock/{}/%E6%9C%AC%E7%9B%8A%E6%AF%94\".format(stock_id), headers = headers)\n",
    "res.encoding = 'utf-8'\n",
    "#res.text"
   ]
  }
 ],
 "metadata": {
  "kernelspec": {
   "display_name": "Python 3",
   "language": "python",
   "name": "python3"
  },
  "language_info": {
   "codemirror_mode": {
    "name": "ipython",
    "version": 3
   },
   "file_extension": ".py",
   "mimetype": "text/x-python",
   "name": "python",
   "nbconvert_exporter": "python",
   "pygments_lexer": "ipython3",
   "version": "3.7.3"
  }
 },
 "nbformat": 4,
 "nbformat_minor": 4
}
