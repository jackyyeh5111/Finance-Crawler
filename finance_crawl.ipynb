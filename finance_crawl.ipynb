{
 "cells": [
  {
   "cell_type": "code",
   "execution_count": 183,
   "metadata": {},
   "outputs": [],
   "source": [
    "import requests\n",
    "from bs4 import BeautifulSoup\n",
    "import pandas\n",
    "import numpy as np\n",
    "\n",
    "headers = {\n",
    "  'user-agent': 'Mozilla/5.0 (Macintosh; Intel Mac OS X 10_14_6) AppleWebKit/537.36 (KHTML, like Gecko) Chrome/84.0.4147.105 Safari/537.36'  \n",
    "}"
   ]
  },
  {
   "cell_type": "code",
   "execution_count": 101,
   "metadata": {},
   "outputs": [],
   "source": [
    "stock_id = 6257"
   ]
  },
  {
   "cell_type": "code",
   "execution_count": 189,
   "metadata": {},
   "outputs": [],
   "source": [
    "def get_cash_dividend_payouts( stock_id, \n",
    "                               year_to_check=5):\n",
    "    res = requests.get(\"https://histock.tw/stock/{}/%E9%99%A4%E6%AC%8A%E9%99%A4%E6%81%AF\".format(stock_id), headers = headers)\n",
    "    res.encoding = 'utf-8'\n",
    "    \n",
    "    soup = BeautifulSoup(res.text, 'lxml')\n",
    "    data = soup.select_one(\"table\", class_=\"tb-outline\")\n",
    "\n",
    "    dfs = pandas.read_html(data.prettify())\n",
    "\n",
    "    df = dfs[0]\n",
    "    df = df[1:]\n",
    "    \n",
    "    cash_dividend_payouts = df[\"現金股利\"][:year_to_check].astype('float')\n",
    "    return cash_dividend_payouts"
   ]
  },
  {
   "cell_type": "code",
   "execution_count": 239,
   "metadata": {},
   "outputs": [],
   "source": [
    "def get_ROEs( stock_id, \n",
    "              year_to_check=5):\n",
    "    \n",
    "    res = requests.get(\"https://histock.tw/stock/financial.aspx?no={}&t=3&st=2&q=3\".format(stock_id), headers = headers)\n",
    "    res.encoding = 'utf-8'\n",
    "\n",
    "    soup = BeautifulSoup(res.text, 'lxml')\n",
    "    data = soup.select_one(\"table\", class_=\"tb-outline\")\n",
    "\n",
    "    dfs = pandas.read_html(data.prettify())\n",
    "\n",
    "    df = dfs[0]\n",
    "    ROEs = [float(ROE.strip('%')) for ROE in df[\"年度ROE\"][:year_to_check]]\n",
    "    return ROEs"
   ]
  },
  {
   "cell_type": "code",
   "execution_count": 206,
   "metadata": {},
   "outputs": [],
   "source": [
    "def get_PEratios( stock_id,\n",
    "                  year_to_check=20):\n",
    "    \n",
    "    res = requests.get(\"https://histock.tw/stock/{}/%E6%9C%AC%E7%9B%8A%E6%AF%94\".format(stock_id), headers = headers)\n",
    "    res.encoding = 'utf-8'\n",
    "\n",
    "    soup = BeautifulSoup(res.text, 'lxml')\n",
    "    data = soup.select_one(\"table\", class_=\"tb-outline\")\n",
    "\n",
    "    dfs = pandas.read_html(data.prettify())\n",
    "\n",
    "    df = dfs[0]\n",
    "    df = df[1:]\n",
    "    \n",
    "    PEratio_cols = [col for col in df.columns if '本益比' in col]\n",
    "    PEratios = []\n",
    "    for col in PEratio_cols:\n",
    "        PEratios += list(df[col])\n",
    "\n",
    "    return PEratios[:year_to_check]"
   ]
  },
  {
   "cell_type": "code",
   "execution_count": 211,
   "metadata": {},
   "outputs": [],
   "source": [
    "def get_prev_net_val_per_share( stock_id, \n",
    "                                prev_year=\"2019\"):\n",
    "\n",
    "    res = requests.get(\"https://histock.tw/stock/{}/%E6%AF%8F%E8%82%A1%E6%B7%A8%E5%80%BC\".format(stock_id), headers = headers)\n",
    "    res.encoding = 'utf-8'\n",
    "\n",
    "    soup = BeautifulSoup(res.text, 'lxml')\n",
    "    data = soup.select_one(\"table\", class_=\"tb-outline\")\n",
    "    dfs = pandas.read_html(data.prettify())\n",
    "\n",
    "    df = dfs[0]\n",
    "\n",
    "    prev_net_val_per_share = df.iloc[3][prev_year]\n",
    "    return prev_net_val_per_share"
   ]
  },
  {
   "cell_type": "code",
   "execution_count": 243,
   "metadata": {},
   "outputs": [],
   "source": [
    "def get_EPSs( stock_id, \n",
    "              year_to_check=5):\n",
    "    \n",
    "    res = requests.get(\"https://histock.tw/stock/{}/%E9%99%A4%E6%AC%8A%E9%99%A4%E6%81%AF\".format(stock_id), headers = headers)\n",
    "    res.encoding = 'utf-8'\n",
    "    \n",
    "    soup = BeautifulSoup(res.text, 'lxml')\n",
    "    data = soup.select_one(\"table\", class_=\"tb-outline\")\n",
    "\n",
    "    dfs = pandas.read_html(data.prettify())\n",
    "\n",
    "    df = dfs[0]\n",
    "    df = df[1:]\n",
    "\n",
    "    EPSs = df[\"EPS\"][:year_to_check].astype('float')\n",
    "    return list(EPSs)"
   ]
  },
  {
   "cell_type": "code",
   "execution_count": 244,
   "metadata": {},
   "outputs": [],
   "source": [
    "cash_dividend_payouts = get_cash_dividend_payouts( stock_id, year_to_check=5 )\n",
    "EPSs = get_EPSs( stock_id, year_to_check=5 )\n",
    "ROEs = get_ROEs( stock_id, year_to_check=5 )\n",
    "PEratios = get_PEratios( stock_id, year_to_check=20 )\n",
    "prev_net_val_per_share = get_prev_net_val_per_share( stock_id, prev_year=\"2019\" )"
   ]
  },
  {
   "cell_type": "code",
   "execution_count": 245,
   "metadata": {},
   "outputs": [
    {
     "name": "stdout",
     "output_type": "stream",
     "text": [
      "[3.26, 3.01, 2.76, 2.17, 2.11]\n",
      "[12.31, 12.13, 12.95, 10.03, 9.4]\n",
      "[9.86, 9.96, 12.85, 11.94, 11.0, 11.88, 10.05, 12.68, 12.79, 13.79, 12.97, 13.91, 12.47, 9.9, 10.1, 9.74, 10.48, 10.17, 8.65, 8.14]\n",
      "26.75\n"
     ]
    }
   ],
   "source": [
    "print (EPSs)\n",
    "print (ROEs)\n",
    "print (PEratios)\n",
    "print (prev_net_val_per_share)"
   ]
  }
 ],
 "metadata": {
  "kernelspec": {
   "display_name": "Python 3",
   "language": "python",
   "name": "python3"
  },
  "language_info": {
   "codemirror_mode": {
    "name": "ipython",
    "version": 3
   },
   "file_extension": ".py",
   "mimetype": "text/x-python",
   "name": "python",
   "nbconvert_exporter": "python",
   "pygments_lexer": "ipython3",
   "version": "3.7.3"
  }
 },
 "nbformat": 4,
 "nbformat_minor": 4
}
